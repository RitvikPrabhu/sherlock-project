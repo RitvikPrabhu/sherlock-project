{
 "cells": [
  {
   "cell_type": "markdown",
   "metadata": {},
   "source": [
    "# This notebook enables training and testing of Sherlock.\n",
    "The procedure is:\n",
    "- Load train, val, test datasets (should be preprocessed)\n",
    "- Initialize model using the \"pretrained\" model or by training one from scratch.\n",
    "- Evaluate and analyse the model predictions."
   ]
  },
  {
   "cell_type": "code",
   "execution_count": 1,
   "metadata": {
    "scrolled": true
   },
   "outputs": [
    {
     "name": "stdout",
     "output_type": "stream",
     "text": [
      "env: PYTHONHASHSEED=13\n"
     ]
    }
   ],
   "source": [
    "%env PYTHONHASHSEED=13\n",
    "%load_ext autoreload\n",
    "%autoreload 2"
   ]
  },
  {
   "cell_type": "code",
   "execution_count": 2,
   "metadata": {},
   "outputs": [],
   "source": [
    "# This will be the ID for the retrained model,\n",
    "#further down predictions can also be made with the original model: \"sherlock\"\n",
    "model_id = 'sherlock'"
   ]
  },
  {
   "cell_type": "code",
   "execution_count": 3,
   "metadata": {},
   "outputs": [],
   "source": [
    "from ast import literal_eval\n",
    "from collections import Counter\n",
    "from datetime import datetime\n",
    "\n",
    "import numpy as np\n",
    "import pandas as pd\n",
    "\n",
    "from sklearn.metrics import f1_score, classification_report\n",
    "\n",
    "from sherlock.deploy.model import SherlockModel"
   ]
  },
  {
   "cell_type": "markdown",
   "metadata": {},
   "source": [
    "## Load datasets for training, validation, testing"
   ]
  },
  {
   "cell_type": "code",
   "execution_count": 4,
   "metadata": {},
   "outputs": [
    {
     "name": "stdout",
     "output_type": "stream",
     "text": [
      "Started at 2022-10-18 18:51:01.370050\n",
      "Load data (train) process took 0:00:01.337385 seconds.\n"
     ]
    }
   ],
   "source": [
    "start = datetime.now()\n",
    "print(f'Started at {start}')\n",
    "\n",
    "X_train = pd.read_parquet('../data/data/processed/train.parquet')\n",
    "y_train = pd.read_parquet('../data/data/raw/train_labels.parquet').values.flatten()\n",
    "\n",
    "y_train = np.array([x.lower() for x in y_train])\n",
    "\n",
    "print(f'Load data (train) process took {datetime.now() - start} seconds.')"
   ]
  },
  {
   "cell_type": "code",
   "execution_count": 5,
   "metadata": {},
   "outputs": [
    {
     "data": {
      "text/plain": [
       "32"
      ]
     },
     "execution_count": 5,
     "metadata": {},
     "output_type": "execute_result"
    }
   ],
   "source": [
    "len(np.unique(y_train))"
   ]
  },
  {
   "cell_type": "code",
   "execution_count": 6,
   "metadata": {},
   "outputs": [
    {
     "name": "stdout",
     "output_type": "stream",
     "text": [
      "Distinct types for columns in the Dataframe (should be all float32):\n",
      "{dtype('float32')}\n"
     ]
    }
   ],
   "source": [
    "print('Distinct types for columns in the Dataframe (should be all float32):')\n",
    "print(set(X_train.dtypes))"
   ]
  },
  {
   "cell_type": "code",
   "execution_count": 7,
   "metadata": {},
   "outputs": [
    {
     "name": "stdout",
     "output_type": "stream",
     "text": [
      "Started at 2022-10-18 18:51:03.103523\n",
      "Load data (validation) process took 0:00:00.737195 seconds.\n"
     ]
    }
   ],
   "source": [
    "start = datetime.now()\n",
    "print(f'Started at {start}')\n",
    "\n",
    "X_validation = pd.read_parquet('../data/data/processed/validation.parquet')\n",
    "y_validation = pd.read_parquet('../data/data/raw/val_labels.parquet').values.flatten()\n",
    "\n",
    "y_validation = np.array([x.lower() for x in y_validation])\n",
    "\n",
    "print(f'Load data (validation) process took {datetime.now() - start} seconds.')"
   ]
  },
  {
   "cell_type": "code",
   "execution_count": 8,
   "metadata": {},
   "outputs": [
    {
     "name": "stdout",
     "output_type": "stream",
     "text": [
      "Started at 2022-10-18 18:51:03.886702\n",
      "Finished at 2022-10-18 18:51:05.324545, took 0:00:01.437855 seconds\n"
     ]
    }
   ],
   "source": [
    "start = datetime.now()\n",
    "print(f'Started at {start}')\n",
    "\n",
    "X_test = pd.read_parquet('../data/data/processed/test.parquet')\n",
    "y_test = pd.read_parquet('../data/data/raw/test_labels.parquet').values.flatten()\n",
    "\n",
    "y_test = np.array([x.lower() for x in y_test])\n",
    "\n",
    "print(f'Finished at {datetime.now()}, took {datetime.now() - start} seconds')"
   ]
  },
  {
   "cell_type": "markdown",
   "metadata": {},
   "source": [
    "## Initialize the model\n",
    "Two options:\n",
    "- Load Sherlock model with pretrained weights\n",
    "- Fit Sherlock model from scratch"
   ]
  },
  {
   "cell_type": "markdown",
   "metadata": {},
   "source": [
    "### Option 1: load Sherlock with pretrained weights"
   ]
  },
  {
   "cell_type": "code",
   "execution_count": 9,
   "metadata": {
    "scrolled": true
   },
   "outputs": [
    {
     "name": "stdout",
     "output_type": "stream",
     "text": [
      "Started at 2022-10-18 18:51:05.418634\n"
     ]
    },
    {
     "name": "stderr",
     "output_type": "stream",
     "text": [
      "2022-10-18 18:51:05.536786: I tensorflow/core/platform/cpu_feature_guard.cc:151] This TensorFlow binary is optimized with oneAPI Deep Neural Network Library (oneDNN) to use the following CPU instructions in performance-critical operations:  SSE4.1 SSE4.2 AVX AVX2 FMA\n",
      "To enable them in other operations, rebuild TensorFlow with the appropriate compiler flags.\n",
      "2022-10-18 18:51:05.541187: I tensorflow/core/common_runtime/process_util.cc:146] Creating new thread pool with default inter op setting: 2. Tune using inter_op_parallelism_threads for best performance.\n"
     ]
    },
    {
     "name": "stdout",
     "output_type": "stream",
     "text": [
      "Initialized model.\n",
      "Finished at 2022-10-18 18:51:05.997220, took 0:00:00.578597 seconds\n"
     ]
    },
    {
     "name": "stderr",
     "output_type": "stream",
     "text": [
      "/home/ritvikp/.conda/envs/myenv3.8/lib/python3.8/site-packages/keras/optimizer_v2/adam.py:105: UserWarning: The `lr` argument is deprecated, use `learning_rate` instead.\n",
      "  super(Adam, self).__init__(name, **kwargs)\n"
     ]
    }
   ],
   "source": [
    "start = datetime.now()\n",
    "print(f'Started at {start}')\n",
    "\n",
    "model = SherlockModel();\n",
    "model.initialize_model_from_json(with_weights=True, model_id=\"sherlock\");\n",
    "\n",
    "print('Initialized model.')\n",
    "print(f'Finished at {datetime.now()}, took {datetime.now() - start} seconds')"
   ]
  },
  {
   "cell_type": "markdown",
   "metadata": {},
   "source": [
    "### Option 2: fit Sherlock from scratch (and save for later use)"
   ]
  },
  {
   "cell_type": "code",
   "execution_count": 10,
   "metadata": {},
   "outputs": [],
   "source": [
    "# model_id = \"retrained_sherlock\""
   ]
  },
  {
   "cell_type": "code",
   "execution_count": 11,
   "metadata": {
    "scrolled": true
   },
   "outputs": [],
   "source": [
    "# start = datetime.now()\n",
    "# print(f'Started at {start}')\n",
    "\n",
    "# model = SherlockModel()\n",
    "# # Model will be stored with ID `model_id`\n",
    "# model.fit(X_train, y_train, X_validation, y_validation, model_id=model_id)\n",
    "\n",
    "# print('Trained and saved new model.')\n",
    "# print(f'Finished at {datetime.now()}, took {datetime.now() - start} seconds')"
   ]
  },
  {
   "cell_type": "code",
   "execution_count": 12,
   "metadata": {},
   "outputs": [],
   "source": [
    "# model.store_weights(model_id=model_id)"
   ]
  },
  {
   "cell_type": "code",
   "execution_count": 13,
   "metadata": {},
   "outputs": [],
   "source": [
    "# predicted_labels = []"
   ]
  },
  {
   "cell_type": "markdown",
   "metadata": {},
   "source": [
    "### Make prediction"
   ]
  },
  {
   "cell_type": "code",
   "execution_count": 14,
   "metadata": {},
   "outputs": [
    {
     "name": "stderr",
     "output_type": "stream",
     "text": [
      "WARNING: Logging before flag parsing goes to stderr.\n",
      "W1018 18:51:06.525854 46912499975424 ag_logging.py:142] AutoGraph could not transform <function Model.make_predict_function.<locals>.predict_function at 0x2aaaaf9ea670> and will run it as-is.\n",
      "Please report this to the TensorFlow team. When filing the bug, set the verbosity to 10 (on Linux, `export AUTOGRAPH_VERBOSITY=10`) and attach the full output.\n",
      "Cause: module 'gast' has no attribute 'Constant'\n",
      "To silence this warning, decorate the function with @tf.autograph.experimental.do_not_convert\n"
     ]
    },
    {
     "name": "stdout",
     "output_type": "stream",
     "text": [
      "WARNING: AutoGraph could not transform <function Model.make_predict_function.<locals>.predict_function at 0x2aaaaf9ea670> and will run it as-is.\n",
      "Please report this to the TensorFlow team. When filing the bug, set the verbosity to 10 (on Linux, `export AUTOGRAPH_VERBOSITY=10`) and attach the full output.\n",
      "Cause: module 'gast' has no attribute 'Constant'\n",
      "To silence this warning, decorate the function with @tf.autograph.experimental.do_not_convert\n"
     ]
    }
   ],
   "source": [
    "predicted_labels = model.predict(X_test, model_id)\n",
    "predicted_labels = np.array([x.lower() for x in predicted_labels])"
   ]
  },
  {
   "cell_type": "code",
   "execution_count": 15,
   "metadata": {},
   "outputs": [
    {
     "name": "stdout",
     "output_type": "stream",
     "text": [
      "prediction count 65007, type = <class 'numpy.ndarray'>\n"
     ]
    },
    {
     "data": {
      "text/plain": [
       "0.9145668488511228"
      ]
     },
     "execution_count": 15,
     "metadata": {},
     "output_type": "execute_result"
    }
   ],
   "source": [
    "print(f'prediction count {len(predicted_labels)}, type = {type(predicted_labels)}')\n",
    "\n",
    "size=len(y_test)\n",
    "\n",
    "# Should be fully deterministic too.\n",
    "f1_score(y_test[:size], predicted_labels[:size], average=\"weighted\")"
   ]
  },
  {
   "cell_type": "code",
   "execution_count": 16,
   "metadata": {},
   "outputs": [
    {
     "name": "stderr",
     "output_type": "stream",
     "text": [
      "/home/ritvikp/python3/lib/python3.8/site-packages/sklearn/metrics/_classification.py:1245: UndefinedMetricWarning: Recall and F-score are ill-defined and being set to 0.0 in labels with no true samples. Use `zero_division` parameter to control this behavior.\n",
      "  _warn_prf(average, modifier, msg_start, len(result))\n",
      "/home/ritvikp/python3/lib/python3.8/site-packages/sklearn/metrics/_classification.py:1245: UndefinedMetricWarning: Recall and F-score are ill-defined and being set to 0.0 in labels with no true samples. Use `zero_division` parameter to control this behavior.\n",
      "  _warn_prf(average, modifier, msg_start, len(result))\n",
      "/home/ritvikp/python3/lib/python3.8/site-packages/sklearn/metrics/_classification.py:1245: UndefinedMetricWarning: Recall and F-score are ill-defined and being set to 0.0 in labels with no true samples. Use `zero_division` parameter to control this behavior.\n",
      "  _warn_prf(average, modifier, msg_start, len(result))\n"
     ]
    }
   ],
   "source": [
    "# If using the original model, model_id should be replaced with \"sherlock\"\n",
    "#model_id = \"sherlock\"\n",
    "classes = np.load(f\"../model_files/classes_{model_id}.npy\", allow_pickle=True)\n",
    "\n",
    "report = classification_report(y_test, predicted_labels, output_dict=True)\n",
    "\n",
    "class_scores = list(filter(lambda x: isinstance(x, tuple) and isinstance(x[1], dict) and 'f1-score' in x[1] and x[0] in classes, list(report.items())))\n",
    "\n",
    "class_scores = sorted(class_scores, key=lambda item: item[1]['f1-score'], reverse=True)"
   ]
  },
  {
   "cell_type": "markdown",
   "metadata": {},
   "source": [
    "### Top 5 Types"
   ]
  },
  {
   "cell_type": "code",
   "execution_count": 17,
   "metadata": {},
   "outputs": [
    {
     "name": "stdout",
     "output_type": "stream",
     "text": [
      "\t\tf1-score\tprecision\trecall\t\tsupport\n",
      "industry\t0.990\t\t0.995\t\t0.985\t\t2958\n",
      "currency\t0.980\t\t0.992\t\t0.968\t\t405\n",
      "sex\t\t0.966\t\t0.987\t\t0.945\t\t2997\n",
      "symbol\t\t0.965\t\t0.984\t\t0.946\t\t1752\n",
      "language\t0.960\t\t0.966\t\t0.953\t\t1474\n"
     ]
    }
   ],
   "source": [
    "print(f\"\\t\\tf1-score\\tprecision\\trecall\\t\\tsupport\")\n",
    "\n",
    "for key, value in class_scores[0:5]:\n",
    "    if len(key) >= 8:\n",
    "        tabs = '\\t' * 1\n",
    "    else:\n",
    "        tabs = '\\t' * 2\n",
    "\n",
    "    print(f\"{key}{tabs}{value['f1-score']:.3f}\\t\\t{value['precision']:.3f}\\t\\t{value['recall']:.3f}\\t\\t{value['support']}\")"
   ]
  },
  {
   "cell_type": "markdown",
   "metadata": {},
   "source": [
    "### Bottom 5 Types"
   ]
  },
  {
   "cell_type": "code",
   "execution_count": 18,
   "metadata": {
    "scrolled": true
   },
   "outputs": [
    {
     "name": "stdout",
     "output_type": "stream",
     "text": [
      "\t\tf1-score\tprecision\trecall\t\tsupport\n",
      "result\t\t0.000\t\t0.000\t\t0.000\t\t0\n",
      "service\t\t0.000\t\t0.000\t\t0.000\t\t0\n",
      "species\t\t0.000\t\t0.000\t\t0.000\t\t0\n",
      "team\t\t0.000\t\t0.000\t\t0.000\t\t0\n",
      "weight\t\t0.000\t\t0.000\t\t0.000\t\t0\n"
     ]
    }
   ],
   "source": [
    "print(f\"\\t\\tf1-score\\tprecision\\trecall\\t\\tsupport\")\n",
    "\n",
    "for key, value in class_scores[len(class_scores)-5:len(class_scores)]:\n",
    "    if len(key) >= 8:\n",
    "        tabs = '\\t' * 1\n",
    "    else:\n",
    "        tabs = '\\t' * 2\n",
    "\n",
    "    print(f\"{key}{tabs}{value['f1-score']:.3f}\\t\\t{value['precision']:.3f}\\t\\t{value['recall']:.3f}\\t\\t{value['support']}\")"
   ]
  },
  {
   "cell_type": "markdown",
   "metadata": {},
   "source": [
    "### All Scores"
   ]
  },
  {
   "cell_type": "code",
   "execution_count": 19,
   "metadata": {},
   "outputs": [
    {
     "name": "stderr",
     "output_type": "stream",
     "text": [
      "/home/ritvikp/python3/lib/python3.8/site-packages/sklearn/metrics/_classification.py:1245: UndefinedMetricWarning: Recall and F-score are ill-defined and being set to 0.0 in labels with no true samples. Use `zero_division` parameter to control this behavior.\n",
      "  _warn_prf(average, modifier, msg_start, len(result))\n"
     ]
    },
    {
     "name": "stdout",
     "output_type": "stream",
     "text": [
      "                precision    recall  f1-score   support\n",
      "\n",
      "       address      0.949     0.943     0.946      3003\n",
      "     affiliate      0.000     0.000     0.000         0\n",
      "   affiliation      0.000     0.000     0.000         0\n",
      "           age      0.928     0.950     0.939      3033\n",
      "         album      0.000     0.000     0.000         0\n",
      "          area      0.924     0.821     0.869      1987\n",
      "        artist      0.000     0.000     0.000         0\n",
      "    birth date      0.989     0.969     0.979       479\n",
      "   birth place      0.937     0.923     0.930       418\n",
      "         brand      0.895     0.669     0.766       574\n",
      "      capacity      0.000     0.000     0.000         0\n",
      "      category      0.000     0.000     0.000         0\n",
      "          city      0.899     0.904     0.901      2966\n",
      "         class      0.000     0.000     0.000         0\n",
      "classification      0.000     0.000     0.000         0\n",
      "          club      0.000     0.000     0.000         0\n",
      "          code      0.000     0.000     0.000         0\n",
      "    collection      0.000     0.000     0.000         0\n",
      "       command      0.000     0.000     0.000         0\n",
      "       company      0.000     0.000     0.000         0\n",
      "     component      0.000     0.000     0.000         0\n",
      "     continent      0.886     0.894     0.890       227\n",
      "       country      0.924     0.950     0.937      3038\n",
      "        county      0.956     0.957     0.957      2959\n",
      "       creator      0.000     0.000     0.000         0\n",
      "        credit      0.000     0.000     0.000         0\n",
      "      currency      0.992     0.968     0.980       405\n",
      "           day      0.970     0.892     0.929      3038\n",
      "         depth      0.000     0.000     0.000         0\n",
      "   description      0.000     0.000     0.000         0\n",
      "      director      0.000     0.000     0.000         0\n",
      "      duration      0.964     0.949     0.956      3000\n",
      "     education      0.000     0.000     0.000         0\n",
      "     elevation      0.000     0.000     0.000         0\n",
      "        family      0.000     0.000     0.000         0\n",
      "     file size      0.000     0.000     0.000         0\n",
      "        format      0.000     0.000     0.000         0\n",
      "        gender      0.000     0.000     0.000         0\n",
      "         genre      0.000     0.000     0.000         0\n",
      "        grades      0.000     0.000     0.000         0\n",
      "      industry      0.995     0.985     0.990      2958\n",
      "          isbn      0.000     0.000     0.000         0\n",
      "        jockey      0.000     0.000     0.000         0\n",
      "      language      0.966     0.953     0.960      1474\n",
      "      location      0.932     0.826     0.876      2949\n",
      "  manufacturer      0.933     0.819     0.872       945\n",
      "          name      0.907     0.759     0.827      3017\n",
      "   nationality      0.922     0.693     0.791       424\n",
      "         notes      0.000     0.000     0.000         0\n",
      "      operator      0.000     0.000     0.000         0\n",
      "         order      0.897     0.887     0.892      1462\n",
      "  organisation      0.000     0.000     0.000         0\n",
      "        origin      0.000     0.000     0.000         0\n",
      "         owner      0.000     0.000     0.000         0\n",
      "        person      0.825     0.620     0.708       579\n",
      "         plays      0.000     0.000     0.000         0\n",
      "      position      0.000     0.000     0.000         0\n",
      "       product      0.950     0.879     0.913      2647\n",
      "     publisher      0.000     0.000     0.000         0\n",
      "         range      0.924     0.759     0.833       577\n",
      "          rank      0.788     0.777     0.782      2983\n",
      "       ranking      0.000     0.000     0.000         0\n",
      "        region      0.918     0.810     0.861      2740\n",
      "      religion      0.000     0.000     0.000         0\n",
      "   requirement      0.000     0.000     0.000         0\n",
      "        result      0.000     0.000     0.000         0\n",
      "         sales      0.749     0.528     0.619       322\n",
      "       service      0.000     0.000     0.000         0\n",
      "           sex      0.987     0.945     0.966      2997\n",
      "       species      0.000     0.000     0.000         0\n",
      "         state      0.957     0.958     0.958      3030\n",
      "        status      0.976     0.937     0.956      3100\n",
      "        symbol      0.984     0.946     0.965      1752\n",
      "          team      0.000     0.000     0.000         0\n",
      "     team name      0.000     0.000     0.000         0\n",
      "          type      0.971     0.875     0.921      2909\n",
      "        weight      0.000     0.000     0.000         0\n",
      "          year      0.981     0.937     0.959      3015\n",
      "\n",
      "      accuracy                          0.893     65007\n",
      "     macro avg      0.382     0.355     0.367     65007\n",
      "  weighted avg      0.940     0.893     0.915     65007\n",
      "\n"
     ]
    },
    {
     "name": "stderr",
     "output_type": "stream",
     "text": [
      "/home/ritvikp/python3/lib/python3.8/site-packages/sklearn/metrics/_classification.py:1245: UndefinedMetricWarning: Recall and F-score are ill-defined and being set to 0.0 in labels with no true samples. Use `zero_division` parameter to control this behavior.\n",
      "  _warn_prf(average, modifier, msg_start, len(result))\n",
      "/home/ritvikp/python3/lib/python3.8/site-packages/sklearn/metrics/_classification.py:1245: UndefinedMetricWarning: Recall and F-score are ill-defined and being set to 0.0 in labels with no true samples. Use `zero_division` parameter to control this behavior.\n",
      "  _warn_prf(average, modifier, msg_start, len(result))\n"
     ]
    }
   ],
   "source": [
    "print(classification_report(y_test, predicted_labels, digits=3))"
   ]
  },
  {
   "cell_type": "markdown",
   "metadata": {},
   "source": [
    "## Review errors"
   ]
  },
  {
   "cell_type": "code",
   "execution_count": 20,
   "metadata": {},
   "outputs": [
    {
     "name": "stdout",
     "output_type": "stream",
     "text": [
      "[478] expected \"address\" but predicted \"name\"\n",
      "[700] expected \"address\" but predicted \"language\"\n",
      "[1111] expected \"address\" but predicted \"club\"\n",
      "[1201] expected \"address\" but predicted \"city\"\n",
      "[1585] expected \"address\" but predicted \"city\"\n",
      "[2393] expected \"address\" but predicted \"location\"\n",
      "[2609] expected \"address\" but predicted \"name\"\n",
      "[3056] expected \"address\" but predicted \"location\"\n",
      "[4134] expected \"address\" but predicted \"location\"\n",
      "[4428] expected \"address\" but predicted \"location\"\n",
      "[4537] expected \"address\" but predicted \"location\"\n",
      "[4640] expected \"address\" but predicted \"city\"\n",
      "[4769] expected \"address\" but predicted \"creator\"\n",
      "[4787] expected \"address\" but predicted \"order\"\n",
      "[5066] expected \"address\" but predicted \"area\"\n",
      "[5261] expected \"address\" but predicted \"team\"\n",
      "[5685] expected \"address\" but predicted \"city\"\n",
      "[5729] expected \"address\" but predicted \"location\"\n",
      "[5770] expected \"address\" but predicted \"artist\"\n",
      "[6796] expected \"address\" but predicted \"description\"\n",
      "[7008] expected \"address\" but predicted \"location\"\n",
      "[7281] expected \"address\" but predicted \"city\"\n",
      "[7390] expected \"address\" but predicted \"location\"\n",
      "[7404] expected \"address\" but predicted \"city\"\n",
      "[7638] expected \"address\" but predicted \"artist\"\n",
      "[9532] expected \"address\" but predicted \"county\"\n",
      "[9758] expected \"address\" but predicted \"location\"\n",
      "[9920] expected \"address\" but predicted \"notes\"\n",
      "[10188] expected \"address\" but predicted \"position\"\n",
      "[10311] expected \"address\" but predicted \"area\"\n",
      "[10572] expected \"address\" but predicted \"product\"\n",
      "[11395] expected \"address\" but predicted \"location\"\n",
      "[11753] expected \"address\" but predicted \"team name\"\n",
      "[11837] expected \"address\" but predicted \"position\"\n",
      "[12499] expected \"address\" but predicted \"name\"\n",
      "[12503] expected \"address\" but predicted \"name\"\n",
      "[12514] expected \"address\" but predicted \"name\"\n",
      "[12608] expected \"address\" but predicted \"position\"\n",
      "[12683] expected \"address\" but predicted \"location\"\n",
      "[12829] expected \"address\" but predicted \"command\"\n",
      "[14477] expected \"address\" but predicted \"notes\"\n",
      "[14927] expected \"address\" but predicted \"location\"\n",
      "[14992] expected \"address\" but predicted \"location\"\n",
      "[15140] expected \"address\" but predicted \"result\"\n",
      "[15145] expected \"address\" but predicted \"notes\"\n",
      "[15481] expected \"address\" but predicted \"city\"\n",
      "[15592] expected \"address\" but predicted \"artist\"\n",
      "[15799] expected \"address\" but predicted \"order\"\n",
      "[16409] expected \"address\" but predicted \"location\"\n",
      "[16481] expected \"address\" but predicted \"location\"\n",
      "[16821] expected \"address\" but predicted \"location\"\n",
      "[17047] expected \"address\" but predicted \"language\"\n",
      "[17588] expected \"address\" but predicted \"person\"\n",
      "[17689] expected \"address\" but predicted \"notes\"\n",
      "[17788] expected \"address\" but predicted \"notes\"\n",
      "[19063] expected \"address\" but predicted \"notes\"\n",
      "[19185] expected \"address\" but predicted \"country\"\n",
      "[20094] expected \"address\" but predicted \"area\"\n",
      "[21071] expected \"address\" but predicted \"artist\"\n",
      "[21283] expected \"address\" but predicted \"location\"\n",
      "[21290] expected \"address\" but predicted \"area\"\n",
      "[21296] expected \"address\" but predicted \"name\"\n",
      "[22018] expected \"address\" but predicted \"birth place\"\n",
      "[22031] expected \"address\" but predicted \"notes\"\n",
      "[22368] expected \"address\" but predicted \"age\"\n",
      "[22419] expected \"address\" but predicted \"notes\"\n",
      "[22631] expected \"address\" but predicted \"city\"\n",
      "[22678] expected \"address\" but predicted \"description\"\n",
      "[22787] expected \"address\" but predicted \"location\"\n",
      "[23055] expected \"address\" but predicted \"location\"\n",
      "[23876] expected \"address\" but predicted \"area\"\n",
      "[24509] expected \"address\" but predicted \"city\"\n",
      "[24632] expected \"address\" but predicted \"location\"\n",
      "[25623] expected \"address\" but predicted \"service\"\n",
      "[25742] expected \"address\" but predicted \"area\"\n",
      "[26346] expected \"address\" but predicted \"language\"\n",
      "[26579] expected \"address\" but predicted \"code\"\n",
      "[26608] expected \"address\" but predicted \"name\"\n",
      "[26647] expected \"address\" but predicted \"product\"\n",
      "[27040] expected \"address\" but predicted \"location\"\n",
      "[27725] expected \"address\" but predicted \"location\"\n",
      "[27930] expected \"address\" but predicted \"team name\"\n",
      "[28218] expected \"address\" but predicted \"component\"\n",
      "[28333] expected \"address\" but predicted \"language\"\n",
      "[28523] expected \"address\" but predicted \"area\"\n",
      "[28573] expected \"address\" but predicted \"notes\"\n",
      "[28668] expected \"address\" but predicted \"collection\"\n",
      "[28732] expected \"address\" but predicted \"ranking\"\n",
      "[29297] expected \"address\" but predicted \"location\"\n",
      "[29339] expected \"address\" but predicted \"notes\"\n",
      "[31454] expected \"address\" but predicted \"artist\"\n",
      "[33071] expected \"address\" but predicted \"city\"\n",
      "[33207] expected \"address\" but predicted \"location\"\n",
      "[33755] expected \"address\" but predicted \"location\"\n",
      "[34016] expected \"address\" but predicted \"location\"\n",
      "[34129] expected \"address\" but predicted \"product\"\n",
      "[34227] expected \"address\" but predicted \"notes\"\n",
      "[34778] expected \"address\" but predicted \"species\"\n",
      "[34895] expected \"address\" but predicted \"name\"\n",
      "[35213] expected \"address\" but predicted \"location\"\n",
      "[35994] expected \"address\" but predicted \"notes\"\n",
      "[36306] expected \"address\" but predicted \"language\"\n",
      "[36869] expected \"address\" but predicted \"location\"\n",
      "[38214] expected \"address\" but predicted \"location\"\n",
      "[38239] expected \"address\" but predicted \"category\"\n",
      "[38885] expected \"address\" but predicted \"location\"\n",
      "[39210] expected \"address\" but predicted \"range\"\n",
      "[39499] expected \"address\" but predicted \"city\"\n",
      "[40218] expected \"address\" but predicted \"weight\"\n",
      "[40324] expected \"address\" but predicted \"location\"\n",
      "[40391] expected \"address\" but predicted \"creator\"\n",
      "[40584] expected \"address\" but predicted \"notes\"\n",
      "[40677] expected \"address\" but predicted \"language\"\n",
      "[41137] expected \"address\" but predicted \"rank\"\n",
      "[41350] expected \"address\" but predicted \"code\"\n",
      "[41391] expected \"address\" but predicted \"location\"\n",
      "[41612] expected \"address\" but predicted \"sales\"\n",
      "[41639] expected \"address\" but predicted \"format\"\n",
      "[41686] expected \"address\" but predicted \"city\"\n",
      "[42378] expected \"address\" but predicted \"area\"\n",
      "[42510] expected \"address\" but predicted \"location\"\n",
      "[42634] expected \"address\" but predicted \"location\"\n",
      "[42825] expected \"address\" but predicted \"location\"\n",
      "[42880] expected \"address\" but predicted \"city\"\n",
      "[42882] expected \"address\" but predicted \"location\"\n",
      "[44269] expected \"address\" but predicted \"country\"\n",
      "[45057] expected \"address\" but predicted \"notes\"\n",
      "[45147] expected \"address\" but predicted \"location\"\n",
      "[45332] expected \"address\" but predicted \"team name\"\n",
      "[45617] expected \"address\" but predicted \"location\"\n",
      "[45745] expected \"address\" but predicted \"format\"\n",
      "[45783] expected \"address\" but predicted \"birth place\"\n",
      "[46211] expected \"address\" but predicted \"artist\"\n",
      "[46649] expected \"address\" but predicted \"artist\"\n",
      "[46985] expected \"address\" but predicted \"location\"\n",
      "[47727] expected \"address\" but predicted \"symbol\"\n",
      "[48113] expected \"address\" but predicted \"area\"\n",
      "[48321] expected \"address\" but predicted \"name\"\n",
      "[48830] expected \"address\" but predicted \"notes\"\n",
      "[50816] expected \"address\" but predicted \"location\"\n",
      "[51399] expected \"address\" but predicted \"grades\"\n",
      "[51787] expected \"address\" but predicted \"team name\"\n",
      "[52603] expected \"address\" but predicted \"location\"\n",
      "[53301] expected \"address\" but predicted \"location\"\n",
      "[53814] expected \"address\" but predicted \"location\"\n",
      "[54105] expected \"address\" but predicted \"position\"\n",
      "[54112] expected \"address\" but predicted \"area\"\n",
      "[54164] expected \"address\" but predicted \"description\"\n",
      "[56111] expected \"address\" but predicted \"notes\"\n",
      "[56758] expected \"address\" but predicted \"owner\"\n",
      "[57986] expected \"address\" but predicted \"notes\"\n",
      "[58196] expected \"address\" but predicted \"rank\"\n",
      "[58519] expected \"address\" but predicted \"location\"\n",
      "[59031] expected \"address\" but predicted \"company\"\n",
      "[59662] expected \"address\" but predicted \"region\"\n",
      "[59806] expected \"address\" but predicted \"capacity\"\n",
      "[59938] expected \"address\" but predicted \"location\"\n",
      "[60420] expected \"address\" but predicted \"order\"\n",
      "[61397] expected \"address\" but predicted \"birth place\"\n",
      "[61914] expected \"address\" but predicted \"rank\"\n",
      "[62055] expected \"address\" but predicted \"owner\"\n",
      "[62150] expected \"address\" but predicted \"location\"\n",
      "[62274] expected \"address\" but predicted \"location\"\n",
      "[62639] expected \"address\" but predicted \"location\"\n",
      "[62844] expected \"address\" but predicted \"album\"\n",
      "[63221] expected \"address\" but predicted \"region\"\n",
      "[63288] expected \"address\" but predicted \"name\"\n",
      "[64349] expected \"address\" but predicted \"area\"\n",
      "[64711] expected \"address\" but predicted \"result\"\n",
      "[64859] expected \"address\" but predicted \"location\"\n"
     ]
    },
    {
     "name": "stdout",
     "output_type": "stream",
     "text": [
      "Total mismatches: 6970 (F1 score: 0.9145668488511228)\n"
     ]
    },
    {
     "data": {
      "text/plain": [
       "[('name', 726),\n",
       " ('rank', 665),\n",
       " ('region', 520),\n",
       " ('location', 513),\n",
       " ('type', 364),\n",
       " ('area', 356),\n",
       " ('day', 329),\n",
       " ('product', 321),\n",
       " ('city', 286),\n",
       " ('person', 220),\n",
       " ('status', 196),\n",
       " ('brand', 190),\n",
       " ('year', 189),\n",
       " ('manufacturer', 171),\n",
       " ('address', 170),\n",
       " ('sex', 166),\n",
       " ('order', 165),\n",
       " ('duration', 154),\n",
       " ('sales', 152),\n",
       " ('country', 152),\n",
       " ('age', 151),\n",
       " ('range', 139),\n",
       " ('nationality', 130),\n",
       " ('state', 128),\n",
       " ('county', 126),\n",
       " ('symbol', 94),\n",
       " ('language', 69),\n",
       " ('industry', 44),\n",
       " ('birth place', 32),\n",
       " ('continent', 24),\n",
       " ('birth date', 15),\n",
       " ('currency', 13)]"
      ]
     },
     "execution_count": 20,
     "metadata": {},
     "output_type": "execute_result"
    }
   ],
   "source": [
    "size = len(y_test)\n",
    "mismatches = list()\n",
    "\n",
    "for idx, k1 in enumerate(y_test[:size]):\n",
    "    k2 = predicted_labels[idx]\n",
    "\n",
    "    if k1 != k2:\n",
    "        mismatches.append(k1)\n",
    "        \n",
    "        # zoom in to specific errors. Use the index in the next step\n",
    "        if k1 in ('address'):\n",
    "            print(f'[{idx}] expected \"{k1}\" but predicted \"{k2}\"')\n",
    "        \n",
    "f1 = f1_score(y_test[:size], predicted_labels[:size], average=\"weighted\")\n",
    "print(f'Total mismatches: {len(mismatches)} (F1 score: {f1})')\n",
    "\n",
    "data = Counter(mismatches)\n",
    "data.most_common()   # Returns all unique items and their counts"
   ]
  },
  {
   "cell_type": "code",
   "execution_count": 21,
   "metadata": {},
   "outputs": [],
   "source": [
    "test_samples = pd.read_parquet('../data/data/raw/test_values.parquet')"
   ]
  },
  {
   "cell_type": "code",
   "execution_count": 22,
   "metadata": {},
   "outputs": [
    {
     "name": "stdout",
     "output_type": "stream",
     "text": [
      "Predicted \"symbol\", actual label \"symbol\". Actual values:\n",
      "[['VASC', 'TNK', 'NAT', 'GPRO', 'MANH']]\n"
     ]
    }
   ],
   "source": [
    "idx = 57\n",
    "\n",
    "\n",
    "original = test_samples.iloc[idx]\n",
    "converted = original.apply(literal_eval).to_list()\n",
    "\n",
    "print(f'Predicted \"{predicted_labels[idx]}\", actual label \"{y_test[idx]}\". Actual values:\\n{converted}')"
   ]
  },
  {
   "cell_type": "code",
   "execution_count": null,
   "metadata": {},
   "outputs": [],
   "source": []
  }
 ],
 "metadata": {
  "kernelspec": {
   "display_name": "Python 3 (ipykernel)",
   "language": "python",
   "name": "python3"
  },
  "language_info": {
   "codemirror_mode": {
    "name": "ipython",
    "version": 3
   },
   "file_extension": ".py",
   "mimetype": "text/x-python",
   "name": "python",
   "nbconvert_exporter": "python",
   "pygments_lexer": "ipython3",
   "version": "3.8.13"
  },
  "vscode": {
   "interpreter": {
    "hash": "93982b2d13d9986a928bb816b0e17d444852884eb3b4b4fc01736d695f21d025"
   }
  }
 },
 "nbformat": 4,
 "nbformat_minor": 4
}
