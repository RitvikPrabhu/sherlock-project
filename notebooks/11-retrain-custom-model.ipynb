{
 "cells": [
  {
   "cell_type": "markdown",
   "metadata": {},
   "source": [
    "# This notebook enables training and testing of Sherlock.\n",
    "The procedure is:\n",
    "- Load train, val, test datasets (should be preprocessed)\n",
    "- Initialize model using the \"pretrained\" model or by training one from scratch.\n",
    "- Evaluate and analyse the model predictions."
   ]
  },
  {
   "cell_type": "code",
   "execution_count": 1,
   "metadata": {
    "scrolled": true
   },
   "outputs": [
    {
     "name": "stdout",
     "output_type": "stream",
     "text": [
      "env: PYTHONHASHSEED=13\n"
     ]
    }
   ],
   "source": [
    "%env PYTHONHASHSEED=13\n",
    "%load_ext autoreload\n",
    "%autoreload 2"
   ]
  },
  {
   "cell_type": "code",
   "execution_count": 2,
   "metadata": {},
   "outputs": [],
   "source": [
    "# This will be the ID for the retrained model,\n",
    "#further down predictions can also be made with the original model: \"sherlock\"\n",
    "model_id = 'retrained_sherlock'"
   ]
  },
  {
   "cell_type": "code",
   "execution_count": 3,
   "metadata": {},
   "outputs": [],
   "source": [
    "from ast import literal_eval\n",
    "from collections import Counter\n",
    "from datetime import datetime\n",
    "\n",
    "import numpy as np\n",
    "import pandas as pd\n",
    "\n",
    "from sklearn.metrics import f1_score, classification_report\n",
    "\n",
    "from sherlock.deploy.model import SherlockModel"
   ]
  },
  {
   "cell_type": "markdown",
   "metadata": {},
   "source": [
    "## Load datasets for training, validation, testing"
   ]
  },
  {
   "cell_type": "code",
   "execution_count": 4,
   "metadata": {},
   "outputs": [
    {
     "name": "stdout",
     "output_type": "stream",
     "text": [
      "Started at 2022-11-28 06:29:28.593947\n",
      "Load data (train) process took 0:00:00.604680 seconds.\n"
     ]
    }
   ],
   "source": [
    "start = datetime.now()\n",
    "print(f'Started at {start}')\n",
    "\n",
    "X_train = pd.read_parquet('../data/data/processed/train.parquet')\n",
    "y_train = pd.read_parquet('../data/data/raw/train_labels.parquet').values.flatten()\n",
    "\n",
    "y_train = np.array([x.lower() for x in y_train])\n",
    "\n",
    "print(f'Load data (train) process took {datetime.now() - start} seconds.')"
   ]
  },
  {
   "cell_type": "code",
   "execution_count": 5,
   "metadata": {},
   "outputs": [
    {
     "data": {
      "text/plain": [
       "35"
      ]
     },
     "execution_count": 5,
     "metadata": {},
     "output_type": "execute_result"
    }
   ],
   "source": [
    "len(np.unique(y_train))"
   ]
  },
  {
   "cell_type": "code",
   "execution_count": 6,
   "metadata": {},
   "outputs": [
    {
     "name": "stdout",
     "output_type": "stream",
     "text": [
      "Distinct types for columns in the Dataframe (should be all float32):\n",
      "{dtype('float32')}\n"
     ]
    }
   ],
   "source": [
    "print('Distinct types for columns in the Dataframe (should be all float32):')\n",
    "print(set(X_train.dtypes))"
   ]
  },
  {
   "cell_type": "code",
   "execution_count": 7,
   "metadata": {},
   "outputs": [
    {
     "name": "stdout",
     "output_type": "stream",
     "text": [
      "Started at 2022-11-28 06:29:29.366814\n",
      "Load data (validation) process took 0:00:00.116432 seconds.\n"
     ]
    }
   ],
   "source": [
    "start = datetime.now()\n",
    "print(f'Started at {start}')\n",
    "\n",
    "X_validation = pd.read_parquet('../data/data/processed/validation.parquet')\n",
    "y_validation = pd.read_parquet('../data/data/raw/val_labels.parquet').values.flatten()\n",
    "\n",
    "y_validation = np.array([x.lower() for x in y_validation])\n",
    "\n",
    "print(f'Load data (validation) process took {datetime.now() - start} seconds.')"
   ]
  },
  {
   "cell_type": "code",
   "execution_count": 8,
   "metadata": {},
   "outputs": [
    {
     "name": "stdout",
     "output_type": "stream",
     "text": [
      "Started at 2022-11-28 06:29:29.525791\n",
      "Finished at 2022-11-28 06:29:29.674027, took 0:00:00.148245 seconds\n"
     ]
    }
   ],
   "source": [
    "start = datetime.now()\n",
    "print(f'Started at {start}')\n",
    "\n",
    "X_test = pd.read_parquet('../data/data/processed/test.parquet')\n",
    "y_test = pd.read_parquet('../data/data/raw/test_labels.parquet').values.flatten()\n",
    "\n",
    "y_test = np.array([x.lower() for x in y_test])\n",
    "\n",
    "print(f'Finished at {datetime.now()}, took {datetime.now() - start} seconds')"
   ]
  },
  {
   "cell_type": "markdown",
   "metadata": {},
   "source": [
    "## Initialize the model\n",
    "Two options:\n",
    "- Load Sherlock model with pretrained weights\n",
    "- Fit Sherlock model from scratch"
   ]
  },
  {
   "cell_type": "code",
   "execution_count": 9,
   "metadata": {},
   "outputs": [],
   "source": [
    "model_id = \"retrained_sherlock\""
   ]
  },
  {
   "cell_type": "code",
   "execution_count": 10,
   "metadata": {
    "scrolled": true
   },
   "outputs": [
    {
     "name": "stdout",
     "output_type": "stream",
     "text": [
      "Started at 2022-11-28 06:29:29.746098\n"
     ]
    },
    {
     "name": "stderr",
     "output_type": "stream",
     "text": [
      "2022-11-28 06:29:30.011197: I tensorflow/core/platform/cpu_feature_guard.cc:151] This TensorFlow binary is optimized with oneAPI Deep Neural Network Library (oneDNN) to use the following CPU instructions in performance-critical operations:  SSE4.1 SSE4.2 AVX AVX2 FMA\n",
      "To enable them in other operations, rebuild TensorFlow with the appropriate compiler flags.\n",
      "2022-11-28 06:29:30.014086: I tensorflow/core/common_runtime/process_util.cc:146] Creating new thread pool with default inter op setting: 2. Tune using inter_op_parallelism_threads for best performance.\n",
      "/home/ritvikp/.conda/envs/myenv3.8/lib/python3.8/site-packages/keras/optimizer_v2/adam.py:105: UserWarning: The `lr` argument is deprecated, use `learning_rate` instead.\n",
      "  super(Adam, self).__init__(name, **kwargs)\n"
     ]
    },
    {
     "name": "stdout",
     "output_type": "stream",
     "text": [
      "Epoch 1/10000\n"
     ]
    },
    {
     "name": "stderr",
     "output_type": "stream",
     "text": [
      "WARNING: Logging before flag parsing goes to stderr.\n",
      "W1128 06:29:31.058537 46912499975424 ag_logging.py:142] AutoGraph could not transform <function Model.make_train_function.<locals>.train_function at 0x2aab55bbb9d0> and will run it as-is.\n",
      "Please report this to the TensorFlow team. When filing the bug, set the verbosity to 10 (on Linux, `export AUTOGRAPH_VERBOSITY=10`) and attach the full output.\n",
      "Cause: module 'gast' has no attribute 'Constant'\n",
      "To silence this warning, decorate the function with @tf.autograph.experimental.do_not_convert\n"
     ]
    },
    {
     "name": "stdout",
     "output_type": "stream",
     "text": [
      "WARNING: AutoGraph could not transform <function Model.make_train_function.<locals>.train_function at 0x2aab55bbb9d0> and will run it as-is.\n",
      "Please report this to the TensorFlow team. When filing the bug, set the verbosity to 10 (on Linux, `export AUTOGRAPH_VERBOSITY=10`) and attach the full output.\n",
      "Cause: module 'gast' has no attribute 'Constant'\n",
      "To silence this warning, decorate the function with @tf.autograph.experimental.do_not_convert\n",
      "207/207 [==============================] - ETA: 0s - loss: 2.1839 - categorical_accuracy: 0.5367"
     ]
    },
    {
     "name": "stderr",
     "output_type": "stream",
     "text": [
      "W1128 06:29:36.107420 46912499975424 ag_logging.py:142] AutoGraph could not transform <function Model.make_test_function.<locals>.test_function at 0x2aad1bfb9e50> and will run it as-is.\n",
      "Please report this to the TensorFlow team. When filing the bug, set the verbosity to 10 (on Linux, `export AUTOGRAPH_VERBOSITY=10`) and attach the full output.\n",
      "Cause: module 'gast' has no attribute 'Constant'\n",
      "To silence this warning, decorate the function with @tf.autograph.experimental.do_not_convert\n"
     ]
    },
    {
     "name": "stdout",
     "output_type": "stream",
     "text": [
      "WARNING: AutoGraph could not transform <function Model.make_test_function.<locals>.test_function at 0x2aad1bfb9e50> and will run it as-is.\n",
      "Please report this to the TensorFlow team. When filing the bug, set the verbosity to 10 (on Linux, `export AUTOGRAPH_VERBOSITY=10`) and attach the full output.\n",
      "Cause: module 'gast' has no attribute 'Constant'\n",
      "To silence this warning, decorate the function with @tf.autograph.experimental.do_not_convert\n",
      "207/207 [==============================] - 5s 21ms/step - loss: 2.1839 - categorical_accuracy: 0.5367 - val_loss: 1.6248 - val_categorical_accuracy: 0.7160\n",
      "Epoch 2/10000\n",
      "207/207 [==============================] - 4s 19ms/step - loss: 1.2253 - categorical_accuracy: 0.7598 - val_loss: 1.0004 - val_categorical_accuracy: 0.8184\n",
      "Epoch 3/10000\n",
      "207/207 [==============================] - 4s 18ms/step - loss: 1.0278 - categorical_accuracy: 0.8062 - val_loss: 0.9234 - val_categorical_accuracy: 0.8435\n",
      "Epoch 4/10000\n",
      "207/207 [==============================] - 4s 18ms/step - loss: 0.9385 - categorical_accuracy: 0.8301 - val_loss: 0.8706 - val_categorical_accuracy: 0.8619\n",
      "Epoch 5/10000\n",
      "207/207 [==============================] - 4s 19ms/step - loss: 0.8735 - categorical_accuracy: 0.8446 - val_loss: 0.8473 - val_categorical_accuracy: 0.8680\n",
      "Epoch 6/10000\n",
      "207/207 [==============================] - 4s 18ms/step - loss: 0.8359 - categorical_accuracy: 0.8537 - val_loss: 0.8298 - val_categorical_accuracy: 0.8728\n",
      "Epoch 7/10000\n",
      "207/207 [==============================] - 4s 19ms/step - loss: 0.7971 - categorical_accuracy: 0.8638 - val_loss: 0.8103 - val_categorical_accuracy: 0.8758\n",
      "Epoch 8/10000\n",
      "207/207 [==============================] - 4s 19ms/step - loss: 0.7714 - categorical_accuracy: 0.8695 - val_loss: 0.7958 - val_categorical_accuracy: 0.8779\n",
      "Epoch 9/10000\n",
      "207/207 [==============================] - 4s 19ms/step - loss: 0.7486 - categorical_accuracy: 0.8745 - val_loss: 0.7974 - val_categorical_accuracy: 0.8816\n",
      "Epoch 10/10000\n",
      "207/207 [==============================] - 4s 20ms/step - loss: 0.7267 - categorical_accuracy: 0.8798 - val_loss: 0.7730 - val_categorical_accuracy: 0.8858\n",
      "Epoch 11/10000\n",
      "207/207 [==============================] - 4s 20ms/step - loss: 0.7048 - categorical_accuracy: 0.8845 - val_loss: 0.7680 - val_categorical_accuracy: 0.8855\n",
      "Epoch 12/10000\n",
      "207/207 [==============================] - 4s 19ms/step - loss: 0.6886 - categorical_accuracy: 0.8889 - val_loss: 0.7620 - val_categorical_accuracy: 0.8894\n",
      "Epoch 13/10000\n",
      "207/207 [==============================] - 4s 19ms/step - loss: 0.6695 - categorical_accuracy: 0.8918 - val_loss: 0.7599 - val_categorical_accuracy: 0.8906\n",
      "Epoch 14/10000\n",
      "207/207 [==============================] - 4s 19ms/step - loss: 0.6557 - categorical_accuracy: 0.8958 - val_loss: 0.7619 - val_categorical_accuracy: 0.8934\n",
      "Epoch 15/10000\n",
      "207/207 [==============================] - 4s 19ms/step - loss: 0.6403 - categorical_accuracy: 0.8996 - val_loss: 0.7539 - val_categorical_accuracy: 0.8955\n",
      "Epoch 16/10000\n",
      "207/207 [==============================] - 4s 19ms/step - loss: 0.6256 - categorical_accuracy: 0.9027 - val_loss: 0.7510 - val_categorical_accuracy: 0.8937\n",
      "Epoch 17/10000\n",
      "207/207 [==============================] - 4s 19ms/step - loss: 0.6151 - categorical_accuracy: 0.9040 - val_loss: 0.7615 - val_categorical_accuracy: 0.8946\n",
      "Epoch 18/10000\n",
      "207/207 [==============================] - 4s 19ms/step - loss: 0.6001 - categorical_accuracy: 0.9080 - val_loss: 0.7597 - val_categorical_accuracy: 0.8934\n",
      "Epoch 19/10000\n",
      "207/207 [==============================] - 4s 19ms/step - loss: 0.5910 - categorical_accuracy: 0.9116 - val_loss: 0.7356 - val_categorical_accuracy: 0.8958\n",
      "Epoch 20/10000\n",
      "207/207 [==============================] - 4s 18ms/step - loss: 0.5800 - categorical_accuracy: 0.9128 - val_loss: 0.7388 - val_categorical_accuracy: 0.8979\n",
      "Epoch 21/10000\n",
      "207/207 [==============================] - 4s 19ms/step - loss: 0.5717 - categorical_accuracy: 0.9142 - val_loss: 0.7289 - val_categorical_accuracy: 0.8949\n",
      "Epoch 22/10000\n",
      "207/207 [==============================] - 4s 19ms/step - loss: 0.5594 - categorical_accuracy: 0.9172 - val_loss: 0.7271 - val_categorical_accuracy: 0.8973\n",
      "Epoch 23/10000\n",
      "207/207 [==============================] - 4s 19ms/step - loss: 0.5487 - categorical_accuracy: 0.9184 - val_loss: 0.7314 - val_categorical_accuracy: 0.8988\n",
      "Epoch 24/10000\n",
      "207/207 [==============================] - 4s 19ms/step - loss: 0.5424 - categorical_accuracy: 0.9209 - val_loss: 0.7231 - val_categorical_accuracy: 0.8988\n",
      "Epoch 25/10000\n",
      "207/207 [==============================] - 4s 19ms/step - loss: 0.5303 - categorical_accuracy: 0.9230 - val_loss: 0.7370 - val_categorical_accuracy: 0.8985\n",
      "Epoch 26/10000\n",
      "207/207 [==============================] - 4s 19ms/step - loss: 0.5218 - categorical_accuracy: 0.9258 - val_loss: 0.7349 - val_categorical_accuracy: 0.8997\n",
      "Epoch 27/10000\n",
      "207/207 [==============================] - 4s 18ms/step - loss: 0.5168 - categorical_accuracy: 0.9262 - val_loss: 0.7422 - val_categorical_accuracy: 0.8991\n",
      "Epoch 28/10000\n",
      "207/207 [==============================] - 4s 18ms/step - loss: 0.5062 - categorical_accuracy: 0.9291 - val_loss: 0.7561 - val_categorical_accuracy: 0.8994\n",
      "Epoch 29/10000\n",
      "207/207 [==============================] - 4s 19ms/step - loss: 0.5003 - categorical_accuracy: 0.9296 - val_loss: 0.7297 - val_categorical_accuracy: 0.9003\n",
      "Trained and saved new model.\n",
      "Finished at 2022-11-28 06:31:25.928454, took 0:01:56.182366 seconds\n"
     ]
    }
   ],
   "source": [
    "model = SherlockModel()\n",
    "try:\n",
    "    model.initialize_model_from_json(with_weights=True, model_id=model_id);\n",
    "except:\n",
    "    start = datetime.now()\n",
    "    print(f'Started at {start}')\n",
    "    # Model will be stored with ID `model_id`\n",
    "    model.fit(X_train, y_train, X_validation, y_validation, model_id=model_id)\n",
    "\n",
    "    print('Trained and saved new model.')\n",
    "    print(f'Finished at {datetime.now()}, took {datetime.now() - start} seconds')\n",
    "    model.store_weights(model_id=model_id)"
   ]
  },
  {
   "cell_type": "code",
   "execution_count": 11,
   "metadata": {},
   "outputs": [],
   "source": [
    "predicted_labels = []"
   ]
  },
  {
   "cell_type": "markdown",
   "metadata": {},
   "source": [
    "### Make prediction"
   ]
  },
  {
   "cell_type": "code",
   "execution_count": 12,
   "metadata": {},
   "outputs": [
    {
     "name": "stderr",
     "output_type": "stream",
     "text": [
      "W1128 06:31:27.972228 46912499975424 ag_logging.py:142] AutoGraph could not transform <function Model.make_predict_function.<locals>.predict_function at 0x2aad1ad248b0> and will run it as-is.\n",
      "Please report this to the TensorFlow team. When filing the bug, set the verbosity to 10 (on Linux, `export AUTOGRAPH_VERBOSITY=10`) and attach the full output.\n",
      "Cause: module 'gast' has no attribute 'Constant'\n",
      "To silence this warning, decorate the function with @tf.autograph.experimental.do_not_convert\n"
     ]
    },
    {
     "name": "stdout",
     "output_type": "stream",
     "text": [
      "WARNING: AutoGraph could not transform <function Model.make_predict_function.<locals>.predict_function at 0x2aad1ad248b0> and will run it as-is.\n",
      "Please report this to the TensorFlow team. When filing the bug, set the verbosity to 10 (on Linux, `export AUTOGRAPH_VERBOSITY=10`) and attach the full output.\n",
      "Cause: module 'gast' has no attribute 'Constant'\n",
      "To silence this warning, decorate the function with @tf.autograph.experimental.do_not_convert\n"
     ]
    }
   ],
   "source": [
    "predicted_labels = model.predict(X_test, model_id)\n",
    "predicted_labels = np.array([x.lower() for x in predicted_labels])"
   ]
  },
  {
   "cell_type": "code",
   "execution_count": 13,
   "metadata": {},
   "outputs": [
    {
     "name": "stdout",
     "output_type": "stream",
     "text": [
      "prediction count 9932, type = <class 'numpy.ndarray'>\n"
     ]
    },
    {
     "data": {
      "text/plain": [
       "0.8968930455827515"
      ]
     },
     "execution_count": 13,
     "metadata": {},
     "output_type": "execute_result"
    }
   ],
   "source": [
    "print(f'prediction count {len(predicted_labels)}, type = {type(predicted_labels)}')\n",
    "\n",
    "size=len(y_test)\n",
    "\n",
    "# Should be fully deterministic too.\n",
    "f1_score(y_test[:size], predicted_labels[:size], average=\"weighted\")"
   ]
  },
  {
   "cell_type": "code",
   "execution_count": 14,
   "metadata": {},
   "outputs": [],
   "source": [
    "# If using the original model, model_id should be replaced with \"sherlock\"\n",
    "#model_id = \"sherlock\"\n",
    "classes = np.load(f\"../model_files/classes_{model_id}.npy\", allow_pickle=True)\n",
    "\n",
    "report = classification_report(y_test, predicted_labels, output_dict=True)\n",
    "\n",
    "class_scores = list(filter(lambda x: isinstance(x, tuple) and isinstance(x[1], dict) and 'f1-score' in x[1] and x[0] in classes, list(report.items())))\n",
    "\n",
    "class_scores = sorted(class_scores, key=lambda item: item[1]['f1-score'], reverse=True)"
   ]
  },
  {
   "cell_type": "markdown",
   "metadata": {},
   "source": [
    "### Top 5 Types"
   ]
  },
  {
   "cell_type": "code",
   "execution_count": 15,
   "metadata": {},
   "outputs": [
    {
     "name": "stdout",
     "output_type": "stream",
     "text": [
      "\t\tf1-score\tprecision\trecall\t\tsupport\n",
      "guuid\t\t1.000\t\t1.000\t\t1.000\t\t120\n",
      "birth date\t0.993\t\t0.986\t\t1.000\t\t72\n",
      "industry\t0.982\t\t0.969\t\t0.995\t\t444\n",
      "currency\t0.975\t\t0.983\t\t0.967\t\t61\n",
      "sex\t\t0.968\t\t0.969\t\t0.967\t\t450\n"
     ]
    }
   ],
   "source": [
    "print(f\"\\t\\tf1-score\\tprecision\\trecall\\t\\tsupport\")\n",
    "\n",
    "for key, value in class_scores[0:5]:\n",
    "    if len(key) >= 8:\n",
    "        tabs = '\\t' * 1\n",
    "    else:\n",
    "        tabs = '\\t' * 2\n",
    "\n",
    "    print(f\"{key}{tabs}{value['f1-score']:.3f}\\t\\t{value['precision']:.3f}\\t\\t{value['recall']:.3f}\\t\\t{value['support']}\")"
   ]
  },
  {
   "cell_type": "markdown",
   "metadata": {},
   "source": [
    "### Bottom 5 Types"
   ]
  },
  {
   "cell_type": "code",
   "execution_count": 16,
   "metadata": {
    "scrolled": true
   },
   "outputs": [
    {
     "name": "stdout",
     "output_type": "stream",
     "text": [
      "\t\tf1-score\tprecision\trecall\t\tsupport\n",
      "brand\t\t0.761\t\t0.805\t\t0.721\t\t86\n",
      "rank\t\t0.757\t\t0.765\t\t0.749\t\t447\n",
      "range\t\t0.739\t\t0.829\t\t0.667\t\t87\n",
      "person\t\t0.649\t\t0.787\t\t0.552\t\t87\n",
      "sales\t\t0.533\t\t0.741\t\t0.417\t\t48\n"
     ]
    }
   ],
   "source": [
    "print(f\"\\t\\tf1-score\\tprecision\\trecall\\t\\tsupport\")\n",
    "\n",
    "for key, value in class_scores[len(class_scores)-5:len(class_scores)]:\n",
    "    if len(key) >= 8:\n",
    "        tabs = '\\t' * 1\n",
    "    else:\n",
    "        tabs = '\\t' * 2\n",
    "\n",
    "    print(f\"{key}{tabs}{value['f1-score']:.3f}\\t\\t{value['precision']:.3f}\\t\\t{value['recall']:.3f}\\t\\t{value['support']}\")"
   ]
  },
  {
   "cell_type": "markdown",
   "metadata": {},
   "source": [
    "### All Scores"
   ]
  },
  {
   "cell_type": "code",
   "execution_count": 17,
   "metadata": {},
   "outputs": [
    {
     "name": "stdout",
     "output_type": "stream",
     "text": [
      "                 precision    recall  f1-score   support\n",
      "\n",
      "        address      0.912     0.971     0.941       450\n",
      "            age      0.892     0.963     0.926       455\n",
      "           area      0.900     0.785     0.839       298\n",
      "     birth date      0.986     1.000     0.993        72\n",
      "    birth place      0.982     0.873     0.924        63\n",
      "          brand      0.805     0.721     0.761        86\n",
      "           city      0.879     0.912     0.895       445\n",
      "      continent      0.811     0.882     0.845        34\n",
      "        country      0.917     0.941     0.929       456\n",
      "         county      0.939     0.966     0.952       444\n",
      "       currency      0.983     0.967     0.975        61\n",
      "            day      0.894     0.884     0.889       456\n",
      "       duration      0.918     0.940     0.929       450\n",
      "          guuid      1.000     1.000     1.000       120\n",
      "       industry      0.969     0.995     0.982       444\n",
      "       language      0.938     0.955     0.946       221\n",
      "       location      0.918     0.765     0.835       442\n",
      "   manufacturer      0.871     0.852     0.861       142\n",
      "           name      0.803     0.839     0.821       453\n",
      "    nationality      0.791     0.828     0.809        64\n",
      "          order      0.797     0.932     0.859       219\n",
      "         person      0.787     0.552     0.649        87\n",
      "        product      0.846     0.884     0.865       397\n",
      "          range      0.829     0.667     0.739        87\n",
      "           rank      0.765     0.749     0.757       447\n",
      "         region      0.882     0.818     0.848       411\n",
      "          sales      0.741     0.417     0.533        48\n",
      "            sex      0.969     0.967     0.968       450\n",
      "social_security      0.833     1.000     0.909        30\n",
      "          state      0.936     0.938     0.937       454\n",
      "         status      0.960     0.925     0.942       465\n",
      "         symbol      0.955     0.966     0.960       263\n",
      "         tax_id      1.000     0.800     0.889        30\n",
      "           type      0.827     0.922     0.872       436\n",
      "           year      0.968     0.942     0.955       452\n",
      "\n",
      "       accuracy                          0.898      9932\n",
      "      macro avg      0.891     0.872     0.878      9932\n",
      "   weighted avg      0.899     0.898     0.897      9932\n",
      "\n"
     ]
    }
   ],
   "source": [
    "print(classification_report(y_test, predicted_labels, digits=3))"
   ]
  },
  {
   "cell_type": "markdown",
   "metadata": {},
   "source": [
    "## Review errors"
   ]
  },
  {
   "cell_type": "code",
   "execution_count": 18,
   "metadata": {},
   "outputs": [
    {
     "name": "stdout",
     "output_type": "stream",
     "text": [
      "[33] expected \"address\" but predicted \"name\"\n",
      "[100] expected \"address\" but predicted \"day\"\n",
      "[101] expected \"address\" but predicted \"area\"\n",
      "[103] expected \"address\" but predicted \"type\"\n",
      "[121] expected \"address\" but predicted \"range\"\n",
      "[135] expected \"address\" but predicted \"county\"\n",
      "[181] expected \"address\" but predicted \"type\"\n",
      "[277] expected \"address\" but predicted \"language\"\n",
      "[338] expected \"address\" but predicted \"name\"\n",
      "[368] expected \"address\" but predicted \"name\"\n",
      "[375] expected \"address\" but predicted \"duration\"\n",
      "[402] expected \"address\" but predicted \"product\"\n",
      "[408] expected \"address\" but predicted \"duration\"\n",
      "Total mismatches: 1011 (F1 score: 0.8968930455827515)\n"
     ]
    },
    {
     "data": {
      "text/plain": [
       "[('rank', 112),\n",
       " ('location', 104),\n",
       " ('region', 75),\n",
       " ('name', 73),\n",
       " ('area', 64),\n",
       " ('day', 53),\n",
       " ('product', 46),\n",
       " ('city', 39),\n",
       " ('person', 39),\n",
       " ('status', 35),\n",
       " ('type', 34),\n",
       " ('range', 29),\n",
       " ('sales', 28),\n",
       " ('state', 28),\n",
       " ('country', 27),\n",
       " ('duration', 27),\n",
       " ('year', 26),\n",
       " ('brand', 24),\n",
       " ('manufacturer', 21),\n",
       " ('age', 17),\n",
       " ('county', 15),\n",
       " ('order', 15),\n",
       " ('sex', 15),\n",
       " ('address', 13),\n",
       " ('nationality', 11),\n",
       " ('language', 10),\n",
       " ('symbol', 9),\n",
       " ('birth place', 8),\n",
       " ('tax_id', 6),\n",
       " ('continent', 4),\n",
       " ('currency', 2),\n",
       " ('industry', 2)]"
      ]
     },
     "execution_count": 18,
     "metadata": {},
     "output_type": "execute_result"
    }
   ],
   "source": [
    "size = len(y_test)\n",
    "mismatches = list()\n",
    "\n",
    "for idx, k1 in enumerate(y_test[:size]):\n",
    "    k2 = predicted_labels[idx]\n",
    "\n",
    "    if k1 != k2:\n",
    "        mismatches.append(k1)\n",
    "        \n",
    "        # zoom in to specific errors. Use the index in the next step\n",
    "        if k1 in ('address'):\n",
    "            print(f'[{idx}] expected \"{k1}\" but predicted \"{k2}\"')\n",
    "        \n",
    "f1 = f1_score(y_test[:size], predicted_labels[:size], average=\"weighted\")\n",
    "print(f'Total mismatches: {len(mismatches)} (F1 score: {f1})')\n",
    "\n",
    "data = Counter(mismatches)\n",
    "data.most_common()   # Returns all unique items and their counts"
   ]
  },
  {
   "cell_type": "code",
   "execution_count": 19,
   "metadata": {},
   "outputs": [],
   "source": [
    "test_samples = pd.read_parquet('../data/data/raw/test_values.parquet')"
   ]
  },
  {
   "cell_type": "code",
   "execution_count": 20,
   "metadata": {},
   "outputs": [
    {
     "name": "stdout",
     "output_type": "stream",
     "text": [
      "Predicted \"address\", actual label \"address\". Actual values:\n",
      "[['Gillette, WY', 'Gillette, WY', '1720 W Warlow Drive, Gillette, WY', '2675 Ledoux Avenue, Gillette, WY', '2501 Ledoux Avenue, Gillette, WY', '4500 Running W Drive, Gillette, WY', '4500 Running W Drive, Gillette, WY']]\n"
     ]
    }
   ],
   "source": [
    "idx = 57\n",
    "\n",
    "\n",
    "original = test_samples.iloc[idx]\n",
    "converted = original.apply(literal_eval).to_list()\n",
    "\n",
    "print(f'Predicted \"{predicted_labels[idx]}\", actual label \"{y_test[idx]}\". Actual values:\\n{converted}')"
   ]
  },
  {
   "cell_type": "code",
   "execution_count": 21,
   "metadata": {},
   "outputs": [
    {
     "data": {
      "text/plain": [
       "[('guuid', {'precision': 1.0, 'recall': 1.0, 'f1-score': 1.0, 'support': 120}),\n",
       " ('birth date',\n",
       "  {'precision': 0.9863013698630136,\n",
       "   'recall': 1.0,\n",
       "   'f1-score': 0.993103448275862,\n",
       "   'support': 72}),\n",
       " ('industry',\n",
       "  {'precision': 0.9692982456140351,\n",
       "   'recall': 0.9954954954954955,\n",
       "   'f1-score': 0.9822222222222222,\n",
       "   'support': 444}),\n",
       " ('currency',\n",
       "  {'precision': 0.9833333333333333,\n",
       "   'recall': 0.9672131147540983,\n",
       "   'f1-score': 0.9752066115702478,\n",
       "   'support': 61}),\n",
       " ('sex',\n",
       "  {'precision': 0.9688195991091314,\n",
       "   'recall': 0.9666666666666667,\n",
       "   'f1-score': 0.967741935483871,\n",
       "   'support': 450}),\n",
       " ('symbol',\n",
       "  {'precision': 0.9548872180451128,\n",
       "   'recall': 0.9657794676806084,\n",
       "   'f1-score': 0.9603024574669187,\n",
       "   'support': 263}),\n",
       " ('year',\n",
       "  {'precision': 0.9681818181818181,\n",
       "   'recall': 0.9424778761061947,\n",
       "   'f1-score': 0.9551569506726458,\n",
       "   'support': 452}),\n",
       " ('county',\n",
       "  {'precision': 0.9387308533916849,\n",
       "   'recall': 0.9662162162162162,\n",
       "   'f1-score': 0.9522752497225305,\n",
       "   'support': 444}),\n",
       " ('language',\n",
       "  {'precision': 0.9377777777777778,\n",
       "   'recall': 0.9547511312217195,\n",
       "   'f1-score': 0.9461883408071748,\n",
       "   'support': 221}),\n",
       " ('status',\n",
       "  {'precision': 0.9598214285714286,\n",
       "   'recall': 0.9247311827956989,\n",
       "   'f1-score': 0.9419496166484119,\n",
       "   'support': 465}),\n",
       " ('address',\n",
       "  {'precision': 0.9123173277661796,\n",
       "   'recall': 0.9711111111111111,\n",
       "   'f1-score': 0.9407965554359526,\n",
       "   'support': 450}),\n",
       " ('state',\n",
       "  {'precision': 0.9362637362637363,\n",
       "   'recall': 0.9383259911894273,\n",
       "   'f1-score': 0.9372937293729373,\n",
       "   'support': 454}),\n",
       " ('duration',\n",
       "  {'precision': 0.9175704989154013,\n",
       "   'recall': 0.94,\n",
       "   'f1-score': 0.9286498353457738,\n",
       "   'support': 450}),\n",
       " ('country',\n",
       "  {'precision': 0.9166666666666666,\n",
       "   'recall': 0.9407894736842105,\n",
       "   'f1-score': 0.9285714285714286,\n",
       "   'support': 456}),\n",
       " ('age',\n",
       "  {'precision': 0.8920570264765784,\n",
       "   'recall': 0.9626373626373627,\n",
       "   'f1-score': 0.9260042283298098,\n",
       "   'support': 455}),\n",
       " ('birth place',\n",
       "  {'precision': 0.9821428571428571,\n",
       "   'recall': 0.873015873015873,\n",
       "   'f1-score': 0.9243697478991596,\n",
       "   'support': 63}),\n",
       " ('social_security',\n",
       "  {'precision': 0.8333333333333334,\n",
       "   'recall': 1.0,\n",
       "   'f1-score': 0.9090909090909091,\n",
       "   'support': 30}),\n",
       " ('city',\n",
       "  {'precision': 0.8787878787878788,\n",
       "   'recall': 0.9123595505617977,\n",
       "   'f1-score': 0.8952590959206175,\n",
       "   'support': 445}),\n",
       " ('tax_id',\n",
       "  {'precision': 1.0,\n",
       "   'recall': 0.8,\n",
       "   'f1-score': 0.888888888888889,\n",
       "   'support': 30}),\n",
       " ('day',\n",
       "  {'precision': 0.893569844789357,\n",
       "   'recall': 0.8837719298245614,\n",
       "   'f1-score': 0.8886438809261301,\n",
       "   'support': 456}),\n",
       " ('type',\n",
       "  {'precision': 0.8271604938271605,\n",
       "   'recall': 0.9220183486238532,\n",
       "   'f1-score': 0.8720173535791756,\n",
       "   'support': 436}),\n",
       " ('product',\n",
       "  {'precision': 0.8457831325301205,\n",
       "   'recall': 0.8841309823677582,\n",
       "   'f1-score': 0.8645320197044336,\n",
       "   'support': 397}),\n",
       " ('manufacturer',\n",
       "  {'precision': 0.8705035971223022,\n",
       "   'recall': 0.852112676056338,\n",
       "   'f1-score': 0.8612099644128114,\n",
       "   'support': 142}),\n",
       " ('order',\n",
       "  {'precision': 0.796875,\n",
       "   'recall': 0.9315068493150684,\n",
       "   'f1-score': 0.8589473684210527,\n",
       "   'support': 219}),\n",
       " ('region',\n",
       "  {'precision': 0.8818897637795275,\n",
       "   'recall': 0.8175182481751825,\n",
       "   'f1-score': 0.8484848484848484,\n",
       "   'support': 411}),\n",
       " ('continent',\n",
       "  {'precision': 0.8108108108108109,\n",
       "   'recall': 0.8823529411764706,\n",
       "   'f1-score': 0.8450704225352113,\n",
       "   'support': 34}),\n",
       " ('area',\n",
       "  {'precision': 0.9,\n",
       "   'recall': 0.785234899328859,\n",
       "   'f1-score': 0.8387096774193548,\n",
       "   'support': 298}),\n",
       " ('location',\n",
       "  {'precision': 0.9184782608695652,\n",
       "   'recall': 0.7647058823529411,\n",
       "   'f1-score': 0.8345679012345679,\n",
       "   'support': 442}),\n",
       " ('name',\n",
       "  {'precision': 0.8033826638477801,\n",
       "   'recall': 0.8388520971302428,\n",
       "   'f1-score': 0.8207343412526996,\n",
       "   'support': 453}),\n",
       " ('nationality',\n",
       "  {'precision': 0.7910447761194029,\n",
       "   'recall': 0.828125,\n",
       "   'f1-score': 0.8091603053435115,\n",
       "   'support': 64}),\n",
       " ('brand',\n",
       "  {'precision': 0.8051948051948052,\n",
       "   'recall': 0.7209302325581395,\n",
       "   'f1-score': 0.7607361963190185,\n",
       "   'support': 86}),\n",
       " ('rank',\n",
       "  {'precision': 0.7648401826484018,\n",
       "   'recall': 0.7494407158836689,\n",
       "   'f1-score': 0.7570621468926554,\n",
       "   'support': 447}),\n",
       " ('range',\n",
       "  {'precision': 0.8285714285714286,\n",
       "   'recall': 0.6666666666666666,\n",
       "   'f1-score': 0.7388535031847134,\n",
       "   'support': 87}),\n",
       " ('person',\n",
       "  {'precision': 0.7868852459016393,\n",
       "   'recall': 0.5517241379310345,\n",
       "   'f1-score': 0.6486486486486487,\n",
       "   'support': 87}),\n",
       " ('sales',\n",
       "  {'precision': 0.7407407407407407,\n",
       "   'recall': 0.4166666666666667,\n",
       "   'f1-score': 0.5333333333333333,\n",
       "   'support': 48})]"
      ]
     },
     "execution_count": 21,
     "metadata": {},
     "output_type": "execute_result"
    }
   ],
   "source": [
    "class_scores"
   ]
  }
 ],
 "metadata": {
  "kernelspec": {
   "display_name": "Python 3.8.13 64-bit",
   "language": "python",
   "name": "python3"
  },
  "language_info": {
   "codemirror_mode": {
    "name": "ipython",
    "version": 3
   },
   "file_extension": ".py",
   "mimetype": "text/x-python",
   "name": "python",
   "nbconvert_exporter": "python",
   "pygments_lexer": "ipython3",
   "version": "3.8.13"
  },
  "vscode": {
   "interpreter": {
    "hash": "93982b2d13d9986a928bb816b0e17d444852884eb3b4b4fc01736d695f21d025"
   }
  }
 },
 "nbformat": 4,
 "nbformat_minor": 4
}
