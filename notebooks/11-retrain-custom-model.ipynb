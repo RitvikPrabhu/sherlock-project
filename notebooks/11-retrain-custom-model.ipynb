{
 "cells": [
  {
   "cell_type": "markdown",
   "metadata": {},
   "source": [
    "# This notebook enables training and testing of Sherlock.\n",
    "The procedure is:\n",
    "- Load train, val, test datasets (should be preprocessed)\n",
    "- Initialize model using the \"pretrained\" model or by training one from scratch.\n",
    "- Evaluate and analyse the model predictions."
   ]
  },
  {
   "cell_type": "code",
   "execution_count": 1,
   "metadata": {
    "scrolled": true
   },
   "outputs": [
    {
     "name": "stdout",
     "output_type": "stream",
     "text": [
      "env: PYTHONHASHSEED=13\n"
     ]
    }
   ],
   "source": [
    "%env PYTHONHASHSEED=13\n",
    "%load_ext autoreload\n",
    "%autoreload 2"
   ]
  },
  {
   "cell_type": "code",
   "execution_count": 2,
   "metadata": {},
   "outputs": [],
   "source": [
    "# This will be the ID for the retrained model,\n",
    "#further down predictions can also be made with the original model: \"sherlock\"\n",
    "model_id = 'retrained_sherlock'"
   ]
  },
  {
   "cell_type": "code",
   "execution_count": 3,
   "metadata": {},
   "outputs": [],
   "source": [
    "from ast import literal_eval\n",
    "from collections import Counter\n",
    "from datetime import datetime\n",
    "\n",
    "import numpy as np\n",
    "import pandas as pd\n",
    "\n",
    "from sklearn.metrics import f1_score, classification_report\n",
    "\n",
    "from sherlock.deploy.model import SherlockModel"
   ]
  },
  {
   "cell_type": "markdown",
   "metadata": {},
   "source": [
    "## Load datasets for training, validation, testing"
   ]
  },
  {
   "cell_type": "code",
   "execution_count": 4,
   "metadata": {},
   "outputs": [
    {
     "name": "stdout",
     "output_type": "stream",
     "text": [
      "Started at 2022-11-14 10:42:52.409883\n",
      "Load data (train) process took 0:00:01.976014 seconds.\n"
     ]
    }
   ],
   "source": [
    "start = datetime.now()\n",
    "print(f'Started at {start}')\n",
    "\n",
    "X_train = pd.read_parquet('../data/data/processed/train.parquet')\n",
    "y_train = pd.read_parquet('../data/data/raw/train_labels.parquet').values.flatten()\n",
    "\n",
    "y_train = np.array([x.lower() for x in y_train])\n",
    "\n",
    "print(f'Load data (train) process took {datetime.now() - start} seconds.')"
   ]
  },
  {
   "cell_type": "code",
   "execution_count": 5,
   "metadata": {},
   "outputs": [
    {
     "data": {
      "text/plain": [
       "39"
      ]
     },
     "execution_count": 5,
     "metadata": {},
     "output_type": "execute_result"
    }
   ],
   "source": [
    "len(np.unique(y_train))"
   ]
  },
  {
   "cell_type": "code",
   "execution_count": 6,
   "metadata": {},
   "outputs": [
    {
     "name": "stdout",
     "output_type": "stream",
     "text": [
      "Distinct types for columns in the Dataframe (should be all float32):\n",
      "{dtype('float32')}\n"
     ]
    }
   ],
   "source": [
    "print('Distinct types for columns in the Dataframe (should be all float32):')\n",
    "print(set(X_train.dtypes))"
   ]
  },
  {
   "cell_type": "code",
   "execution_count": 7,
   "metadata": {},
   "outputs": [
    {
     "name": "stdout",
     "output_type": "stream",
     "text": [
      "Started at 2022-11-14 10:42:54.583338\n",
      "Load data (validation) process took 0:00:00.152510 seconds.\n"
     ]
    }
   ],
   "source": [
    "start = datetime.now()\n",
    "print(f'Started at {start}')\n",
    "\n",
    "X_validation = pd.read_parquet('../data/data/processed/validation.parquet')\n",
    "y_validation = pd.read_parquet('../data/data/raw/val_labels.parquet').values.flatten()\n",
    "\n",
    "y_validation = np.array([x.lower() for x in y_validation])\n",
    "\n",
    "print(f'Load data (validation) process took {datetime.now() - start} seconds.')"
   ]
  },
  {
   "cell_type": "code",
   "execution_count": 8,
   "metadata": {},
   "outputs": [
    {
     "name": "stdout",
     "output_type": "stream",
     "text": [
      "Started at 2022-11-14 10:42:54.778632\n",
      "Finished at 2022-11-14 10:42:55.163904, took 0:00:00.385281 seconds\n"
     ]
    }
   ],
   "source": [
    "start = datetime.now()\n",
    "print(f'Started at {start}')\n",
    "\n",
    "X_test = pd.read_parquet('../data/data/processed/test.parquet')\n",
    "y_test = pd.read_parquet('../data/data/raw/test_labels.parquet').values.flatten()\n",
    "\n",
    "y_test = np.array([x.lower() for x in y_test])\n",
    "\n",
    "print(f'Finished at {datetime.now()}, took {datetime.now() - start} seconds')"
   ]
  },
  {
   "cell_type": "markdown",
   "metadata": {},
   "source": [
    "## Initialize the model\n",
    "Two options:\n",
    "- Load Sherlock model with pretrained weights\n",
    "- Fit Sherlock model from scratch"
   ]
  },
  {
   "cell_type": "code",
   "execution_count": 9,
   "metadata": {},
   "outputs": [],
   "source": [
    "model_id = \"retrained_sherlock\""
   ]
  },
  {
   "cell_type": "code",
   "execution_count": 10,
   "metadata": {
    "scrolled": true
   },
   "outputs": [
    {
     "name": "stdout",
     "output_type": "stream",
     "text": [
      "Started at 2022-11-14 10:42:55.235803\n"
     ]
    },
    {
     "name": "stderr",
     "output_type": "stream",
     "text": [
      "2022-11-14 10:42:56.199924: I tensorflow/core/platform/cpu_feature_guard.cc:151] This TensorFlow binary is optimized with oneAPI Deep Neural Network Library (oneDNN) to use the following CPU instructions in performance-critical operations:  SSE4.1 SSE4.2 AVX AVX2 FMA\n",
      "To enable them in other operations, rebuild TensorFlow with the appropriate compiler flags.\n",
      "2022-11-14 10:42:56.224990: I tensorflow/core/common_runtime/process_util.cc:146] Creating new thread pool with default inter op setting: 2. Tune using inter_op_parallelism_threads for best performance.\n",
      "/home/ritvikp/.conda/envs/myenv3.8/lib/python3.8/site-packages/keras/optimizer_v2/adam.py:105: UserWarning: The `lr` argument is deprecated, use `learning_rate` instead.\n",
      "  super(Adam, self).__init__(name, **kwargs)\n"
     ]
    },
    {
     "name": "stdout",
     "output_type": "stream",
     "text": [
      "Epoch 1/10000\n"
     ]
    },
    {
     "name": "stderr",
     "output_type": "stream",
     "text": [
      "WARNING: Logging before flag parsing goes to stderr.\n",
      "W1114 10:42:57.830766 46912499975424 ag_logging.py:142] AutoGraph could not transform <function Model.make_train_function.<locals>.train_function at 0x2aab559bf940> and will run it as-is.\n",
      "Please report this to the TensorFlow team. When filing the bug, set the verbosity to 10 (on Linux, `export AUTOGRAPH_VERBOSITY=10`) and attach the full output.\n",
      "Cause: module 'gast' has no attribute 'Constant'\n",
      "To silence this warning, decorate the function with @tf.autograph.experimental.do_not_convert\n"
     ]
    },
    {
     "name": "stdout",
     "output_type": "stream",
     "text": [
      "WARNING: AutoGraph could not transform <function Model.make_train_function.<locals>.train_function at 0x2aab559bf940> and will run it as-is.\n",
      "Please report this to the TensorFlow team. When filing the bug, set the verbosity to 10 (on Linux, `export AUTOGRAPH_VERBOSITY=10`) and attach the full output.\n",
      "Cause: module 'gast' has no attribute 'Constant'\n",
      "To silence this warning, decorate the function with @tf.autograph.experimental.do_not_convert\n",
      "261/261 [==============================] - ETA: 0s - loss: 1.9030 - categorical_accuracy: 0.6143"
     ]
    },
    {
     "name": "stderr",
     "output_type": "stream",
     "text": [
      "W1114 10:43:04.295014 46912499975424 ag_logging.py:142] AutoGraph could not transform <function Model.make_test_function.<locals>.test_function at 0x2aab571bddc0> and will run it as-is.\n",
      "Please report this to the TensorFlow team. When filing the bug, set the verbosity to 10 (on Linux, `export AUTOGRAPH_VERBOSITY=10`) and attach the full output.\n",
      "Cause: module 'gast' has no attribute 'Constant'\n",
      "To silence this warning, decorate the function with @tf.autograph.experimental.do_not_convert\n"
     ]
    },
    {
     "name": "stdout",
     "output_type": "stream",
     "text": [
      "WARNING: AutoGraph could not transform <function Model.make_test_function.<locals>.test_function at 0x2aab571bddc0> and will run it as-is.\n",
      "Please report this to the TensorFlow team. When filing the bug, set the verbosity to 10 (on Linux, `export AUTOGRAPH_VERBOSITY=10`) and attach the full output.\n",
      "Cause: module 'gast' has no attribute 'Constant'\n",
      "To silence this warning, decorate the function with @tf.autograph.experimental.do_not_convert\n",
      "261/261 [==============================] - 7s 22ms/step - loss: 1.9030 - categorical_accuracy: 0.6143 - val_loss: 1.2604 - val_categorical_accuracy: 0.7822\n",
      "Epoch 2/10000\n",
      "261/261 [==============================] - 5s 19ms/step - loss: 1.0620 - categorical_accuracy: 0.8012 - val_loss: 0.8884 - val_categorical_accuracy: 0.8462\n",
      "Epoch 3/10000\n",
      "261/261 [==============================] - 5s 20ms/step - loss: 0.9095 - categorical_accuracy: 0.8376 - val_loss: 0.8123 - val_categorical_accuracy: 0.8666\n",
      "Epoch 4/10000\n",
      "261/261 [==============================] - 5s 21ms/step - loss: 0.8322 - categorical_accuracy: 0.8569 - val_loss: 0.7865 - val_categorical_accuracy: 0.8757\n",
      "Epoch 5/10000\n",
      "261/261 [==============================] - 5s 20ms/step - loss: 0.7830 - categorical_accuracy: 0.8676 - val_loss: 0.7514 - val_categorical_accuracy: 0.8860\n",
      "Epoch 6/10000\n",
      "261/261 [==============================] - 5s 20ms/step - loss: 0.7420 - categorical_accuracy: 0.8765 - val_loss: 0.7285 - val_categorical_accuracy: 0.8845\n",
      "Epoch 7/10000\n",
      "261/261 [==============================] - 6s 22ms/step - loss: 0.7162 - categorical_accuracy: 0.8810 - val_loss: 0.7183 - val_categorical_accuracy: 0.8915\n",
      "Epoch 8/10000\n",
      "261/261 [==============================] - 5s 21ms/step - loss: 0.6859 - categorical_accuracy: 0.8897 - val_loss: 0.7094 - val_categorical_accuracy: 0.8915\n",
      "Epoch 9/10000\n",
      "261/261 [==============================] - 6s 23ms/step - loss: 0.6645 - categorical_accuracy: 0.8945 - val_loss: 0.6911 - val_categorical_accuracy: 0.9003\n",
      "Epoch 10/10000\n",
      "261/261 [==============================] - 6s 21ms/step - loss: 0.6467 - categorical_accuracy: 0.8992 - val_loss: 0.6856 - val_categorical_accuracy: 0.8994\n",
      "Epoch 11/10000\n",
      "261/261 [==============================] - 7s 28ms/step - loss: 0.6303 - categorical_accuracy: 0.9035 - val_loss: 0.6808 - val_categorical_accuracy: 0.8991\n",
      "Epoch 12/10000\n",
      "261/261 [==============================] - 7s 28ms/step - loss: 0.6142 - categorical_accuracy: 0.9061 - val_loss: 0.6738 - val_categorical_accuracy: 0.8984\n",
      "Epoch 13/10000\n",
      "261/261 [==============================] - 7s 25ms/step - loss: 0.6011 - categorical_accuracy: 0.9100 - val_loss: 0.6663 - val_categorical_accuracy: 0.9015\n",
      "Epoch 14/10000\n",
      "261/261 [==============================] - 5s 19ms/step - loss: 0.5848 - categorical_accuracy: 0.9133 - val_loss: 0.6658 - val_categorical_accuracy: 0.9008\n",
      "Epoch 15/10000\n",
      "261/261 [==============================] - 5s 19ms/step - loss: 0.5709 - categorical_accuracy: 0.9152 - val_loss: 0.6553 - val_categorical_accuracy: 0.9073\n",
      "Epoch 16/10000\n",
      "261/261 [==============================] - 6s 23ms/step - loss: 0.5599 - categorical_accuracy: 0.9179 - val_loss: 0.6502 - val_categorical_accuracy: 0.9054\n",
      "Epoch 17/10000\n",
      "261/261 [==============================] - 5s 20ms/step - loss: 0.5483 - categorical_accuracy: 0.9201 - val_loss: 0.6541 - val_categorical_accuracy: 0.9082\n",
      "Epoch 18/10000\n",
      "261/261 [==============================] - 5s 19ms/step - loss: 0.5374 - categorical_accuracy: 0.9223 - val_loss: 0.6418 - val_categorical_accuracy: 0.9068\n",
      "Epoch 19/10000\n",
      "261/261 [==============================] - 5s 19ms/step - loss: 0.5255 - categorical_accuracy: 0.9254 - val_loss: 0.6472 - val_categorical_accuracy: 0.9097\n",
      "Epoch 20/10000\n",
      "261/261 [==============================] - 5s 19ms/step - loss: 0.5152 - categorical_accuracy: 0.9275 - val_loss: 0.6437 - val_categorical_accuracy: 0.9068\n",
      "Epoch 21/10000\n",
      "261/261 [==============================] - 5s 19ms/step - loss: 0.5100 - categorical_accuracy: 0.9282 - val_loss: 0.6345 - val_categorical_accuracy: 0.9099\n",
      "Epoch 22/10000\n",
      "261/261 [==============================] - 5s 20ms/step - loss: 0.4988 - categorical_accuracy: 0.9303 - val_loss: 0.6395 - val_categorical_accuracy: 0.9068\n",
      "Epoch 23/10000\n",
      "261/261 [==============================] - 5s 19ms/step - loss: 0.4896 - categorical_accuracy: 0.9328 - val_loss: 0.6414 - val_categorical_accuracy: 0.9092\n",
      "Epoch 24/10000\n",
      "261/261 [==============================] - 5s 20ms/step - loss: 0.4802 - categorical_accuracy: 0.9341 - val_loss: 0.6439 - val_categorical_accuracy: 0.9102\n",
      "Epoch 25/10000\n",
      "261/261 [==============================] - 5s 18ms/step - loss: 0.4724 - categorical_accuracy: 0.9352 - val_loss: 0.6459 - val_categorical_accuracy: 0.9094\n",
      "Epoch 26/10000\n",
      "261/261 [==============================] - 5s 19ms/step - loss: 0.4657 - categorical_accuracy: 0.9369 - val_loss: 0.6339 - val_categorical_accuracy: 0.9068\n",
      "Epoch 27/10000\n",
      "261/261 [==============================] - 5s 19ms/step - loss: 0.4561 - categorical_accuracy: 0.9397 - val_loss: 0.6319 - val_categorical_accuracy: 0.9099\n",
      "Epoch 28/10000\n",
      "261/261 [==============================] - 5s 19ms/step - loss: 0.4507 - categorical_accuracy: 0.9411 - val_loss: 0.6377 - val_categorical_accuracy: 0.9111\n",
      "Epoch 29/10000\n",
      "261/261 [==============================] - 5s 19ms/step - loss: 0.4453 - categorical_accuracy: 0.9413 - val_loss: 0.6401 - val_categorical_accuracy: 0.9111\n",
      "Epoch 30/10000\n",
      "261/261 [==============================] - 5s 19ms/step - loss: 0.4359 - categorical_accuracy: 0.9427 - val_loss: 0.6459 - val_categorical_accuracy: 0.9106\n",
      "Epoch 31/10000\n",
      "261/261 [==============================] - 5s 19ms/step - loss: 0.4299 - categorical_accuracy: 0.9444 - val_loss: 0.6378 - val_categorical_accuracy: 0.9102\n",
      "Epoch 32/10000\n",
      "261/261 [==============================] - 5s 19ms/step - loss: 0.4226 - categorical_accuracy: 0.9457 - val_loss: 0.6508 - val_categorical_accuracy: 0.9075\n",
      "Trained and saved new model.\n",
      "Finished at 2022-11-14 10:45:50.698073, took 0:02:55.462283 seconds\n"
     ]
    }
   ],
   "source": [
    "model = SherlockModel()\n",
    "try:\n",
    "    model.initialize_model_from_json(with_weights=True, model_id=model_id);\n",
    "except:\n",
    "    start = datetime.now()\n",
    "    print(f'Started at {start}')\n",
    "    # Model will be stored with ID `model_id`\n",
    "    model.fit(X_train, y_train, X_validation, y_validation, model_id=model_id)\n",
    "\n",
    "    print('Trained and saved new model.')\n",
    "    print(f'Finished at {datetime.now()}, took {datetime.now() - start} seconds')\n",
    "    model.store_weights(model_id=model_id)"
   ]
  },
  {
   "cell_type": "code",
   "execution_count": 11,
   "metadata": {},
   "outputs": [],
   "source": [
    "predicted_labels = []"
   ]
  },
  {
   "cell_type": "markdown",
   "metadata": {},
   "source": [
    "### Make prediction"
   ]
  },
  {
   "cell_type": "code",
   "execution_count": 12,
   "metadata": {},
   "outputs": [
    {
     "name": "stderr",
     "output_type": "stream",
     "text": [
      "W1114 10:45:52.750897 46912499975424 ag_logging.py:142] AutoGraph could not transform <function Model.make_predict_function.<locals>.predict_function at 0x2aab56925790> and will run it as-is.\n",
      "Please report this to the TensorFlow team. When filing the bug, set the verbosity to 10 (on Linux, `export AUTOGRAPH_VERBOSITY=10`) and attach the full output.\n",
      "Cause: module 'gast' has no attribute 'Constant'\n",
      "To silence this warning, decorate the function with @tf.autograph.experimental.do_not_convert\n"
     ]
    },
    {
     "name": "stdout",
     "output_type": "stream",
     "text": [
      "WARNING: AutoGraph could not transform <function Model.make_predict_function.<locals>.predict_function at 0x2aab56925790> and will run it as-is.\n",
      "Please report this to the TensorFlow team. When filing the bug, set the verbosity to 10 (on Linux, `export AUTOGRAPH_VERBOSITY=10`) and attach the full output.\n",
      "Cause: module 'gast' has no attribute 'Constant'\n",
      "To silence this warning, decorate the function with @tf.autograph.experimental.do_not_convert\n"
     ]
    }
   ],
   "source": [
    "predicted_labels = model.predict(X_test, model_id)\n",
    "predicted_labels = np.array([x.lower() for x in predicted_labels])"
   ]
  },
  {
   "cell_type": "code",
   "execution_count": 13,
   "metadata": {},
   "outputs": [
    {
     "name": "stdout",
     "output_type": "stream",
     "text": [
      "prediction count 12524, type = <class 'numpy.ndarray'>\n"
     ]
    },
    {
     "data": {
      "text/plain": [
       "0.9064457021902538"
      ]
     },
     "execution_count": 13,
     "metadata": {},
     "output_type": "execute_result"
    }
   ],
   "source": [
    "print(f'prediction count {len(predicted_labels)}, type = {type(predicted_labels)}')\n",
    "\n",
    "size=len(y_test)\n",
    "\n",
    "# Should be fully deterministic too.\n",
    "f1_score(y_test[:size], predicted_labels[:size], average=\"weighted\")"
   ]
  },
  {
   "cell_type": "code",
   "execution_count": 14,
   "metadata": {},
   "outputs": [],
   "source": [
    "# If using the original model, model_id should be replaced with \"sherlock\"\n",
    "#model_id = \"sherlock\"\n",
    "classes = np.load(f\"../model_files/classes_{model_id}.npy\", allow_pickle=True)\n",
    "\n",
    "report = classification_report(y_test, predicted_labels, output_dict=True)\n",
    "\n",
    "class_scores = list(filter(lambda x: isinstance(x, tuple) and isinstance(x[1], dict) and 'f1-score' in x[1] and x[0] in classes, list(report.items())))\n",
    "\n",
    "class_scores = sorted(class_scores, key=lambda item: item[1]['f1-score'], reverse=True)"
   ]
  },
  {
   "cell_type": "markdown",
   "metadata": {},
   "source": [
    "### Top 5 Types"
   ]
  },
  {
   "cell_type": "code",
   "execution_count": 15,
   "metadata": {},
   "outputs": [
    {
     "name": "stdout",
     "output_type": "stream",
     "text": [
      "\t\tf1-score\tprecision\trecall\t\tsupport\n",
      "phone number\t1.000\t\t1.000\t\t1.000\t\t300\n",
      "credit card account numbers\t0.999\t\t0.998\t\t1.000\t\t585\n",
      "lei\t\t0.995\t\t0.991\t\t1.000\t\t110\n",
      "birth date\t0.993\t\t1.000\t\t0.986\t\t72\n",
      "currency\t0.984\t\t0.984\t\t0.984\t\t61\n"
     ]
    }
   ],
   "source": [
    "print(f\"\\t\\tf1-score\\tprecision\\trecall\\t\\tsupport\")\n",
    "\n",
    "for key, value in class_scores[0:5]:\n",
    "    if len(key) >= 8:\n",
    "        tabs = '\\t' * 1\n",
    "    else:\n",
    "        tabs = '\\t' * 2\n",
    "\n",
    "    print(f\"{key}{tabs}{value['f1-score']:.3f}\\t\\t{value['precision']:.3f}\\t\\t{value['recall']:.3f}\\t\\t{value['support']}\")"
   ]
  },
  {
   "cell_type": "markdown",
   "metadata": {},
   "source": [
    "### Bottom 5 Types"
   ]
  },
  {
   "cell_type": "code",
   "execution_count": 16,
   "metadata": {
    "scrolled": true
   },
   "outputs": [
    {
     "name": "stdout",
     "output_type": "stream",
     "text": [
      "\t\tf1-score\tprecision\trecall\t\tsupport\n",
      "person\t\t0.649\t\t0.766\t\t0.563\t\t87\n",
      "fips code\t0.543\t\t0.759\t\t0.423\t\t97\n",
      "naic\t\t0.500\t\t0.917\t\t0.344\t\t64\n",
      "sales\t\t0.466\t\t0.680\t\t0.354\t\t48\n",
      "mcc code\t0.000\t\t0.000\t\t0.000\t\t29\n"
     ]
    }
   ],
   "source": [
    "print(f\"\\t\\tf1-score\\tprecision\\trecall\\t\\tsupport\")\n",
    "\n",
    "for key, value in class_scores[len(class_scores)-5:len(class_scores)]:\n",
    "    if len(key) >= 8:\n",
    "        tabs = '\\t' * 1\n",
    "    else:\n",
    "        tabs = '\\t' * 2\n",
    "\n",
    "    print(f\"{key}{tabs}{value['f1-score']:.3f}\\t\\t{value['precision']:.3f}\\t\\t{value['recall']:.3f}\\t\\t{value['support']}\")"
   ]
  },
  {
   "cell_type": "markdown",
   "metadata": {},
   "source": [
    "### All Scores"
   ]
  },
  {
   "cell_type": "code",
   "execution_count": 17,
   "metadata": {},
   "outputs": [
    {
     "name": "stdout",
     "output_type": "stream",
     "text": [
      "                             precision    recall  f1-score   support\n",
      "\n",
      "                    address      0.947     0.956     0.951       450\n",
      "                        age      0.882     0.967     0.922       455\n",
      "                       area      0.882     0.779     0.827       298\n",
      "                 birth date      1.000     0.986     0.993        72\n",
      "                birth place      1.000     0.873     0.932        63\n",
      "                      brand      0.727     0.744     0.736        86\n",
      "                       city      0.869     0.928     0.898       445\n",
      "                  continent      0.769     0.882     0.822        34\n",
      "                    country      0.940     0.921     0.930       456\n",
      "                     county      0.938     0.962     0.950       444\n",
      "credit card account numbers      0.998     1.000     0.999       585\n",
      "                   currency      0.984     0.984     0.984        61\n",
      "                        day      0.880     0.886     0.883       456\n",
      "                   duration      0.942     0.933     0.938       450\n",
      "                  fips code      0.759     0.423     0.543        97\n",
      "                   industry      0.973     0.989     0.981       444\n",
      "                   language      0.946     0.950     0.948       221\n",
      "                        lei      0.991     1.000     0.995       110\n",
      "                   location      0.915     0.799     0.853       442\n",
      "               manufacturer      0.902     0.838     0.869       142\n",
      "                   mcc code      0.000     0.000     0.000        29\n",
      "                       naic      0.917     0.344     0.500        64\n",
      "                       name      0.785     0.870     0.825       453\n",
      "                nationality      0.716     0.906     0.800        64\n",
      "                      order      0.796     0.927     0.857       219\n",
      "                     person      0.766     0.563     0.649        87\n",
      "               phone number      1.000     1.000     1.000       300\n",
      "                    product      0.893     0.882     0.887       397\n",
      "                      range      0.866     0.667     0.753        87\n",
      "                       rank      0.778     0.752     0.765       447\n",
      "                     region      0.857     0.830     0.843       411\n",
      "                      sales      0.680     0.354     0.466        48\n",
      "                        sex      0.977     0.964     0.971       450\n",
      "                      state      0.930     0.941     0.935       454\n",
      "                     status      0.945     0.925     0.935       465\n",
      "                     symbol      0.948     0.973     0.961       263\n",
      "                       type      0.868     0.908     0.888       436\n",
      "                       year      0.955     0.945     0.950       452\n",
      "                   zip code      0.926     0.991     0.958      1587\n",
      "\n",
      "                   accuracy                          0.910     12524\n",
      "                  macro avg      0.868     0.834     0.843     12524\n",
      "               weighted avg      0.908     0.910     0.906     12524\n",
      "\n"
     ]
    }
   ],
   "source": [
    "print(classification_report(y_test, predicted_labels, digits=3))"
   ]
  },
  {
   "cell_type": "markdown",
   "metadata": {},
   "source": [
    "## Review errors"
   ]
  },
  {
   "cell_type": "code",
   "execution_count": 18,
   "metadata": {},
   "outputs": [
    {
     "name": "stdout",
     "output_type": "stream",
     "text": [
      "[33] expected \"address\" but predicted \"name\"\n",
      "[47] expected \"address\" but predicted \"location\"\n",
      "[86] expected \"address\" but predicted \"city\"\n",
      "[100] expected \"address\" but predicted \"day\"\n",
      "[101] expected \"address\" but predicted \"area\"\n",
      "[103] expected \"address\" but predicted \"location\"\n",
      "[121] expected \"address\" but predicted \"range\"\n",
      "[135] expected \"address\" but predicted \"county\"\n",
      "[161] expected \"address\" but predicted \"region\"\n",
      "[175] expected \"address\" but predicted \"name\"\n",
      "[181] expected \"address\" but predicted \"type\"\n",
      "[226] expected \"address\" but predicted \"area\"\n",
      "[270] expected \"address\" but predicted \"name\"\n",
      "[277] expected \"address\" but predicted \"language\"\n",
      "[293] expected \"address\" but predicted \"name\"\n",
      "[316] expected \"address\" but predicted \"location\"\n",
      "[368] expected \"address\" but predicted \"year\"\n",
      "[375] expected \"address\" but predicted \"duration\"\n",
      "[402] expected \"address\" but predicted \"product\"\n",
      "[415] expected \"address\" but predicted \"name\"\n",
      "Total mismatches: 1130 (F1 score: 0.9064457021902538)\n"
     ]
    },
    {
     "data": {
      "text/plain": [
       "[('rank', 111),\n",
       " ('location', 89),\n",
       " ('region', 70),\n",
       " ('area', 66),\n",
       " ('name', 59),\n",
       " ('fips code', 56),\n",
       " ('day', 52),\n",
       " ('product', 47),\n",
       " ('naic', 42),\n",
       " ('type', 40),\n",
       " ('person', 38),\n",
       " ('country', 36),\n",
       " ('status', 35),\n",
       " ('city', 32),\n",
       " ('sales', 31),\n",
       " ('duration', 30),\n",
       " ('range', 29),\n",
       " ('mcc code', 29),\n",
       " ('state', 27),\n",
       " ('year', 25),\n",
       " ('manufacturer', 23),\n",
       " ('brand', 22),\n",
       " ('address', 20),\n",
       " ('county', 17),\n",
       " ('order', 16),\n",
       " ('sex', 16),\n",
       " ('age', 15),\n",
       " ('zip code', 14),\n",
       " ('language', 11),\n",
       " ('birth place', 8),\n",
       " ('symbol', 7),\n",
       " ('nationality', 6),\n",
       " ('industry', 5),\n",
       " ('continent', 4),\n",
       " ('birth date', 1),\n",
       " ('currency', 1)]"
      ]
     },
     "execution_count": 18,
     "metadata": {},
     "output_type": "execute_result"
    }
   ],
   "source": [
    "size = len(y_test)\n",
    "mismatches = list()\n",
    "\n",
    "for idx, k1 in enumerate(y_test[:size]):\n",
    "    k2 = predicted_labels[idx]\n",
    "\n",
    "    if k1 != k2:\n",
    "        mismatches.append(k1)\n",
    "        \n",
    "        # zoom in to specific errors. Use the index in the next step\n",
    "        if k1 in ('address'):\n",
    "            print(f'[{idx}] expected \"{k1}\" but predicted \"{k2}\"')\n",
    "        \n",
    "f1 = f1_score(y_test[:size], predicted_labels[:size], average=\"weighted\")\n",
    "print(f'Total mismatches: {len(mismatches)} (F1 score: {f1})')\n",
    "\n",
    "data = Counter(mismatches)\n",
    "data.most_common()   # Returns all unique items and their counts"
   ]
  },
  {
   "cell_type": "code",
   "execution_count": 19,
   "metadata": {},
   "outputs": [],
   "source": [
    "test_samples = pd.read_parquet('../data/data/raw/test_values.parquet')"
   ]
  },
  {
   "cell_type": "code",
   "execution_count": 20,
   "metadata": {},
   "outputs": [
    {
     "name": "stdout",
     "output_type": "stream",
     "text": [
      "Predicted \"address\", actual label \"address\". Actual values:\n",
      "[['Gillette, WY', 'Gillette, WY', '1720 W Warlow Drive, Gillette, WY', '2675 Ledoux Avenue, Gillette, WY', '2501 Ledoux Avenue, Gillette, WY', '4500 Running W Drive, Gillette, WY', '4500 Running W Drive, Gillette, WY']]\n"
     ]
    }
   ],
   "source": [
    "idx = 57\n",
    "\n",
    "\n",
    "original = test_samples.iloc[idx]\n",
    "converted = original.apply(literal_eval).to_list()\n",
    "\n",
    "print(f'Predicted \"{predicted_labels[idx]}\", actual label \"{y_test[idx]}\". Actual values:\\n{converted}')"
   ]
  },
  {
   "cell_type": "code",
   "execution_count": 21,
   "metadata": {},
   "outputs": [
    {
     "data": {
      "text/plain": [
       "[('phone number',\n",
       "  {'precision': 1.0, 'recall': 1.0, 'f1-score': 1.0, 'support': 300}),\n",
       " ('credit card account numbers',\n",
       "  {'precision': 0.9982935153583617,\n",
       "   'recall': 1.0,\n",
       "   'f1-score': 0.9991460290350128,\n",
       "   'support': 585}),\n",
       " ('lei',\n",
       "  {'precision': 0.990990990990991,\n",
       "   'recall': 1.0,\n",
       "   'f1-score': 0.9954751131221719,\n",
       "   'support': 110}),\n",
       " ('birth date',\n",
       "  {'precision': 1.0,\n",
       "   'recall': 0.9861111111111112,\n",
       "   'f1-score': 0.993006993006993,\n",
       "   'support': 72}),\n",
       " ('currency',\n",
       "  {'precision': 0.9836065573770492,\n",
       "   'recall': 0.9836065573770492,\n",
       "   'f1-score': 0.9836065573770492,\n",
       "   'support': 61}),\n",
       " ('industry',\n",
       "  {'precision': 0.9733924611973392,\n",
       "   'recall': 0.9887387387387387,\n",
       "   'f1-score': 0.9810055865921787,\n",
       "   'support': 444}),\n",
       " ('sex',\n",
       "  {'precision': 0.9774774774774775,\n",
       "   'recall': 0.9644444444444444,\n",
       "   'f1-score': 0.970917225950783,\n",
       "   'support': 450}),\n",
       " ('symbol',\n",
       "  {'precision': 0.9481481481481482,\n",
       "   'recall': 0.973384030418251,\n",
       "   'f1-score': 0.9606003752345217,\n",
       "   'support': 263}),\n",
       " ('zip code',\n",
       "  {'precision': 0.9263839811542992,\n",
       "   'recall': 0.9911783238815375,\n",
       "   'f1-score': 0.9576864535768645,\n",
       "   'support': 1587}),\n",
       " ('address',\n",
       "  {'precision': 0.947136563876652,\n",
       "   'recall': 0.9555555555555556,\n",
       "   'f1-score': 0.9513274336283186,\n",
       "   'support': 450}),\n",
       " ('county',\n",
       "  {'precision': 0.9384615384615385,\n",
       "   'recall': 0.9617117117117117,\n",
       "   'f1-score': 0.9499443826473859,\n",
       "   'support': 444}),\n",
       " ('year',\n",
       "  {'precision': 0.9552572706935123,\n",
       "   'recall': 0.9446902654867256,\n",
       "   'f1-score': 0.9499443826473859,\n",
       "   'support': 452}),\n",
       " ('language',\n",
       "  {'precision': 0.9459459459459459,\n",
       "   'recall': 0.9502262443438914,\n",
       "   'f1-score': 0.9480812641083521,\n",
       "   'support': 221}),\n",
       " ('duration',\n",
       "  {'precision': 0.9417040358744395,\n",
       "   'recall': 0.9333333333333333,\n",
       "   'f1-score': 0.9375000000000001,\n",
       "   'support': 450}),\n",
       " ('state',\n",
       "  {'precision': 0.9302832244008714,\n",
       "   'recall': 0.9405286343612335,\n",
       "   'f1-score': 0.9353778751369113,\n",
       "   'support': 454}),\n",
       " ('status',\n",
       "  {'precision': 0.945054945054945,\n",
       "   'recall': 0.9247311827956989,\n",
       "   'f1-score': 0.9347826086956522,\n",
       "   'support': 465}),\n",
       " ('birth place',\n",
       "  {'precision': 1.0,\n",
       "   'recall': 0.873015873015873,\n",
       "   'f1-score': 0.9322033898305084,\n",
       "   'support': 63}),\n",
       " ('country',\n",
       "  {'precision': 0.9395973154362416,\n",
       "   'recall': 0.9210526315789473,\n",
       "   'f1-score': 0.9302325581395349,\n",
       "   'support': 456}),\n",
       " ('age',\n",
       "  {'precision': 0.8817635270541082,\n",
       "   'recall': 0.967032967032967,\n",
       "   'f1-score': 0.9224318658280922,\n",
       "   'support': 455}),\n",
       " ('city',\n",
       "  {'precision': 0.8694736842105263,\n",
       "   'recall': 0.9280898876404494,\n",
       "   'f1-score': 0.8978260869565217,\n",
       "   'support': 445}),\n",
       " ('type',\n",
       "  {'precision': 0.868421052631579,\n",
       "   'recall': 0.908256880733945,\n",
       "   'f1-score': 0.8878923766816144,\n",
       "   'support': 436}),\n",
       " ('product',\n",
       "  {'precision': 0.8928571428571429,\n",
       "   'recall': 0.8816120906801007,\n",
       "   'f1-score': 0.8871989860583016,\n",
       "   'support': 397}),\n",
       " ('day',\n",
       "  {'precision': 0.8801742919389978,\n",
       "   'recall': 0.8859649122807017,\n",
       "   'f1-score': 0.8830601092896174,\n",
       "   'support': 456}),\n",
       " ('manufacturer',\n",
       "  {'precision': 0.9015151515151515,\n",
       "   'recall': 0.8380281690140845,\n",
       "   'f1-score': 0.8686131386861314,\n",
       "   'support': 142}),\n",
       " ('order',\n",
       "  {'precision': 0.796078431372549,\n",
       "   'recall': 0.9269406392694064,\n",
       "   'f1-score': 0.8565400843881857,\n",
       "   'support': 219}),\n",
       " ('location',\n",
       "  {'precision': 0.9145077720207254,\n",
       "   'recall': 0.7986425339366516,\n",
       "   'f1-score': 0.8526570048309179,\n",
       "   'support': 442}),\n",
       " ('region',\n",
       "  {'precision': 0.8567839195979899,\n",
       "   'recall': 0.829683698296837,\n",
       "   'f1-score': 0.8430160692212609,\n",
       "   'support': 411}),\n",
       " ('area',\n",
       "  {'precision': 0.8821292775665399,\n",
       "   'recall': 0.7785234899328859,\n",
       "   'f1-score': 0.8270944741532977,\n",
       "   'support': 298}),\n",
       " ('name',\n",
       "  {'precision': 0.7848605577689243,\n",
       "   'recall': 0.869757174392936,\n",
       "   'f1-score': 0.825130890052356,\n",
       "   'support': 453}),\n",
       " ('continent',\n",
       "  {'precision': 0.7692307692307693,\n",
       "   'recall': 0.8823529411764706,\n",
       "   'f1-score': 0.8219178082191781,\n",
       "   'support': 34}),\n",
       " ('nationality',\n",
       "  {'precision': 0.7160493827160493,\n",
       "   'recall': 0.90625,\n",
       "   'f1-score': 0.7999999999999999,\n",
       "   'support': 64}),\n",
       " ('rank',\n",
       "  {'precision': 0.7777777777777778,\n",
       "   'recall': 0.7516778523489933,\n",
       "   'f1-score': 0.7645051194539249,\n",
       "   'support': 447}),\n",
       " ('range',\n",
       "  {'precision': 0.8656716417910447,\n",
       "   'recall': 0.6666666666666666,\n",
       "   'f1-score': 0.7532467532467532,\n",
       "   'support': 87}),\n",
       " ('brand',\n",
       "  {'precision': 0.7272727272727273,\n",
       "   'recall': 0.7441860465116279,\n",
       "   'f1-score': 0.735632183908046,\n",
       "   'support': 86}),\n",
       " ('person',\n",
       "  {'precision': 0.765625,\n",
       "   'recall': 0.5632183908045977,\n",
       "   'f1-score': 0.6490066225165564,\n",
       "   'support': 87}),\n",
       " ('fips code',\n",
       "  {'precision': 0.7592592592592593,\n",
       "   'recall': 0.422680412371134,\n",
       "   'f1-score': 0.543046357615894,\n",
       "   'support': 97}),\n",
       " ('naic',\n",
       "  {'precision': 0.9166666666666666,\n",
       "   'recall': 0.34375,\n",
       "   'f1-score': 0.5,\n",
       "   'support': 64}),\n",
       " ('sales',\n",
       "  {'precision': 0.68,\n",
       "   'recall': 0.3541666666666667,\n",
       "   'f1-score': 0.46575342465753433,\n",
       "   'support': 48}),\n",
       " ('mcc code',\n",
       "  {'precision': 0.0, 'recall': 0.0, 'f1-score': 0.0, 'support': 29})]"
      ]
     },
     "execution_count": 21,
     "metadata": {},
     "output_type": "execute_result"
    }
   ],
   "source": [
    "class_scores"
   ]
  }
 ],
 "metadata": {
  "kernelspec": {
   "display_name": "Python 3 (ipykernel)",
   "language": "python",
   "name": "python3"
  },
  "language_info": {
   "codemirror_mode": {
    "name": "ipython",
    "version": 3
   },
   "file_extension": ".py",
   "mimetype": "text/x-python",
   "name": "python",
   "nbconvert_exporter": "python",
   "pygments_lexer": "ipython3",
   "version": "3.8.13"
  },
  "vscode": {
   "interpreter": {
    "hash": "dbbef01d25d9fb4d9430fa9d81ea780e18a1c669119e240c1440cbb3ef3d3f19"
   }
  }
 },
 "nbformat": 4,
 "nbformat_minor": 4
}
