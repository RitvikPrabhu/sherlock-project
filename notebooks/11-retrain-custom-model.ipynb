{
 "cells": [
  {
   "cell_type": "markdown",
   "metadata": {},
   "source": [
    "# This notebook enables training and testing of Sherlock.\n",
    "The procedure is:\n",
    "- Load train, val, test datasets (should be preprocessed)\n",
    "- Initialize model using the \"pretrained\" model or by training one from scratch.\n",
    "- Evaluate and analyse the model predictions."
   ]
  },
  {
   "cell_type": "code",
   "execution_count": 1,
   "metadata": {
    "scrolled": true
   },
   "outputs": [
    {
     "name": "stdout",
     "output_type": "stream",
     "text": [
      "env: PYTHONHASHSEED=13\n"
     ]
    }
   ],
   "source": [
    "%env PYTHONHASHSEED=13\n",
    "%load_ext autoreload\n",
    "%autoreload 2"
   ]
  },
  {
   "cell_type": "code",
   "execution_count": 2,
   "metadata": {},
   "outputs": [],
   "source": [
    "# This will be the ID for the retrained model,\n",
    "#further down predictions can also be made with the original model: \"sherlock\"\n",
    "model_id = 'retrained_sherlock'"
   ]
  },
  {
   "cell_type": "code",
   "execution_count": 3,
   "metadata": {},
   "outputs": [],
   "source": [
    "from ast import literal_eval\n",
    "from collections import Counter\n",
    "from datetime import datetime\n",
    "\n",
    "import numpy as np\n",
    "import pandas as pd\n",
    "\n",
    "from sklearn.metrics import f1_score, classification_report\n",
    "\n",
    "from sherlock.deploy.model import SherlockModel"
   ]
  },
  {
   "cell_type": "markdown",
   "metadata": {},
   "source": [
    "## Load datasets for training, validation, testing"
   ]
  },
  {
   "cell_type": "code",
   "execution_count": 4,
   "metadata": {},
   "outputs": [
    {
     "name": "stdout",
     "output_type": "stream",
     "text": [
      "Started at 2022-12-07 16:27:46.475810\n",
      "Load data (train) process took 0:00:01.770314 seconds.\n"
     ]
    }
   ],
   "source": [
    "start = datetime.now()\n",
    "print(f'Started at {start}')\n",
    "\n",
    "X_train = pd.read_parquet('../data/data/processed/train.parquet')\n",
    "y_train = pd.read_parquet('../data/data/raw/train_labels.parquet').values.flatten()\n",
    "\n",
    "y_train = np.array([x.lower() for x in y_train])\n",
    "\n",
    "print(f'Load data (train) process took {datetime.now() - start} seconds.')"
   ]
  },
  {
   "cell_type": "code",
   "execution_count": 5,
   "metadata": {},
   "outputs": [
    {
     "data": {
      "text/plain": [
       "42"
      ]
     },
     "execution_count": 5,
     "metadata": {},
     "output_type": "execute_result"
    }
   ],
   "source": [
    "len(np.unique(y_train))"
   ]
  },
  {
   "cell_type": "code",
   "execution_count": 6,
   "metadata": {},
   "outputs": [
    {
     "name": "stdout",
     "output_type": "stream",
     "text": [
      "Distinct types for columns in the Dataframe (should be all float32):\n",
      "{dtype('float32')}\n"
     ]
    }
   ],
   "source": [
    "print('Distinct types for columns in the Dataframe (should be all float32):')\n",
    "print(set(X_train.dtypes))"
   ]
  },
  {
   "cell_type": "code",
   "execution_count": 7,
   "metadata": {},
   "outputs": [
    {
     "name": "stdout",
     "output_type": "stream",
     "text": [
      "Started at 2022-12-07 16:27:48.446367\n",
      "Load data (validation) process took 0:00:00.410649 seconds.\n"
     ]
    }
   ],
   "source": [
    "start = datetime.now()\n",
    "print(f'Started at {start}')\n",
    "\n",
    "X_validation = pd.read_parquet('../data/data/processed/validation.parquet')\n",
    "y_validation = pd.read_parquet('../data/data/raw/val_labels.parquet').values.flatten()\n",
    "\n",
    "y_validation = np.array([x.lower() for x in y_validation])\n",
    "\n",
    "print(f'Load data (validation) process took {datetime.now() - start} seconds.')"
   ]
  },
  {
   "cell_type": "code",
   "execution_count": 8,
   "metadata": {},
   "outputs": [
    {
     "name": "stdout",
     "output_type": "stream",
     "text": [
      "Started at 2022-12-07 16:27:48.901753\n",
      "Finished at 2022-12-07 16:27:49.319021, took 0:00:00.417285 seconds\n"
     ]
    }
   ],
   "source": [
    "start = datetime.now()\n",
    "print(f'Started at {start}')\n",
    "\n",
    "X_test = pd.read_parquet('../data/data/processed/test.parquet')\n",
    "y_test = pd.read_parquet('../data/data/raw/test_labels.parquet').values.flatten()\n",
    "\n",
    "y_test = np.array([x.lower() for x in y_test])\n",
    "\n",
    "print(f'Finished at {datetime.now()}, took {datetime.now() - start} seconds')"
   ]
  },
  {
   "cell_type": "markdown",
   "metadata": {},
   "source": [
    "## Initialize the model\n",
    "Two options:\n",
    "- Load Sherlock model with pretrained weights\n",
    "- Fit Sherlock model from scratch"
   ]
  },
  {
   "cell_type": "code",
   "execution_count": 9,
   "metadata": {},
   "outputs": [],
   "source": [
    "model_id = \"retrained_sherlock\""
   ]
  },
  {
   "cell_type": "code",
   "execution_count": 10,
   "metadata": {
    "scrolled": true
   },
   "outputs": [
    {
     "name": "stdout",
     "output_type": "stream",
     "text": [
      "Started at 2022-12-07 16:27:49.401567\n"
     ]
    },
    {
     "name": "stderr",
     "output_type": "stream",
     "text": [
      "2022-12-07 16:27:50.277268: I tensorflow/core/platform/cpu_feature_guard.cc:151] This TensorFlow binary is optimized with oneAPI Deep Neural Network Library (oneDNN) to use the following CPU instructions in performance-critical operations:  SSE4.1 SSE4.2 AVX AVX2 FMA\n",
      "To enable them in other operations, rebuild TensorFlow with the appropriate compiler flags.\n",
      "2022-12-07 16:27:50.297034: I tensorflow/core/common_runtime/process_util.cc:146] Creating new thread pool with default inter op setting: 2. Tune using inter_op_parallelism_threads for best performance.\n",
      "/home/ritvikp/.conda/envs/myenv3.8/lib/python3.8/site-packages/keras/optimizer_v2/adam.py:105: UserWarning: The `lr` argument is deprecated, use `learning_rate` instead.\n",
      "  super(Adam, self).__init__(name, **kwargs)\n"
     ]
    },
    {
     "name": "stdout",
     "output_type": "stream",
     "text": [
      "Epoch 1/10000\n"
     ]
    },
    {
     "name": "stderr",
     "output_type": "stream",
     "text": [
      "WARNING: Logging before flag parsing goes to stderr.\n",
      "W1207 16:27:51.540367 46912499975424 ag_logging.py:142] AutoGraph could not transform <function Model.make_train_function.<locals>.train_function at 0x2aab3f42e3a0> and will run it as-is.\n",
      "Please report this to the TensorFlow team. When filing the bug, set the verbosity to 10 (on Linux, `export AUTOGRAPH_VERBOSITY=10`) and attach the full output.\n",
      "Cause: module 'gast' has no attribute 'Constant'\n",
      "To silence this warning, decorate the function with @tf.autograph.experimental.do_not_convert\n"
     ]
    },
    {
     "name": "stdout",
     "output_type": "stream",
     "text": [
      "WARNING: AutoGraph could not transform <function Model.make_train_function.<locals>.train_function at 0x2aab3f42e3a0> and will run it as-is.\n",
      "Please report this to the TensorFlow team. When filing the bug, set the verbosity to 10 (on Linux, `export AUTOGRAPH_VERBOSITY=10`) and attach the full output.\n",
      "Cause: module 'gast' has no attribute 'Constant'\n",
      "To silence this warning, decorate the function with @tf.autograph.experimental.do_not_convert\n",
      "825/825 [==============================] - ETA: 0s - loss: 1.3520 - categorical_accuracy: 0.7384"
     ]
    },
    {
     "name": "stderr",
     "output_type": "stream",
     "text": [
      "W1207 16:28:08.724171 46912499975424 ag_logging.py:142] AutoGraph could not transform <function Model.make_test_function.<locals>.test_function at 0x2aad15a85670> and will run it as-is.\n",
      "Please report this to the TensorFlow team. When filing the bug, set the verbosity to 10 (on Linux, `export AUTOGRAPH_VERBOSITY=10`) and attach the full output.\n",
      "Cause: module 'gast' has no attribute 'Constant'\n",
      "To silence this warning, decorate the function with @tf.autograph.experimental.do_not_convert\n"
     ]
    },
    {
     "name": "stdout",
     "output_type": "stream",
     "text": [
      "WARNING: AutoGraph could not transform <function Model.make_test_function.<locals>.test_function at 0x2aad15a85670> and will run it as-is.\n",
      "Please report this to the TensorFlow team. When filing the bug, set the verbosity to 10 (on Linux, `export AUTOGRAPH_VERBOSITY=10`) and attach the full output.\n",
      "Cause: module 'gast' has no attribute 'Constant'\n",
      "To silence this warning, decorate the function with @tf.autograph.experimental.do_not_convert\n",
      "825/825 [==============================] - 19s 21ms/step - loss: 1.3520 - categorical_accuracy: 0.7384 - val_loss: 0.8440 - val_categorical_accuracy: 0.8603\n",
      "Epoch 2/10000\n",
      "825/825 [==============================] - 18s 21ms/step - loss: 0.8029 - categorical_accuracy: 0.8659 - val_loss: 0.7641 - val_categorical_accuracy: 0.8791\n",
      "Epoch 3/10000\n",
      "825/825 [==============================] - 17s 21ms/step - loss: 0.7129 - categorical_accuracy: 0.8868 - val_loss: 0.7240 - val_categorical_accuracy: 0.8882\n",
      "Epoch 4/10000\n",
      "825/825 [==============================] - 17s 20ms/step - loss: 0.6631 - categorical_accuracy: 0.8973 - val_loss: 0.7004 - val_categorical_accuracy: 0.8931\n",
      "Epoch 5/10000\n",
      "825/825 [==============================] - 17s 21ms/step - loss: 0.6270 - categorical_accuracy: 0.9047 - val_loss: 0.6800 - val_categorical_accuracy: 0.8957\n",
      "Epoch 6/10000\n",
      "825/825 [==============================] - 17s 20ms/step - loss: 0.5957 - categorical_accuracy: 0.9107 - val_loss: 0.6633 - val_categorical_accuracy: 0.8979\n",
      "Epoch 7/10000\n",
      "825/825 [==============================] - 16s 20ms/step - loss: 0.5717 - categorical_accuracy: 0.9146 - val_loss: 0.6458 - val_categorical_accuracy: 0.9000\n",
      "Epoch 8/10000\n",
      "825/825 [==============================] - 17s 20ms/step - loss: 0.5475 - categorical_accuracy: 0.9185 - val_loss: 0.6361 - val_categorical_accuracy: 0.9029\n",
      "Epoch 9/10000\n",
      "825/825 [==============================] - 17s 20ms/step - loss: 0.5293 - categorical_accuracy: 0.9215 - val_loss: 0.6217 - val_categorical_accuracy: 0.9058\n",
      "Epoch 10/10000\n",
      "825/825 [==============================] - 17s 21ms/step - loss: 0.5120 - categorical_accuracy: 0.9241 - val_loss: 0.6153 - val_categorical_accuracy: 0.9046\n",
      "Epoch 11/10000\n",
      "825/825 [==============================] - 17s 21ms/step - loss: 0.4945 - categorical_accuracy: 0.9267 - val_loss: 0.6050 - val_categorical_accuracy: 0.9064\n",
      "Epoch 12/10000\n",
      "825/825 [==============================] - 17s 21ms/step - loss: 0.4787 - categorical_accuracy: 0.9294 - val_loss: 0.5944 - val_categorical_accuracy: 0.9071\n",
      "Epoch 13/10000\n",
      "825/825 [==============================] - 17s 20ms/step - loss: 0.4636 - categorical_accuracy: 0.9312 - val_loss: 0.5873 - val_categorical_accuracy: 0.9098\n",
      "Epoch 14/10000\n",
      "825/825 [==============================] - 17s 21ms/step - loss: 0.4516 - categorical_accuracy: 0.9325 - val_loss: 0.5811 - val_categorical_accuracy: 0.9101\n",
      "Epoch 15/10000\n",
      "825/825 [==============================] - 17s 20ms/step - loss: 0.4385 - categorical_accuracy: 0.9346 - val_loss: 0.5728 - val_categorical_accuracy: 0.9112\n",
      "Epoch 16/10000\n",
      "825/825 [==============================] - 16s 20ms/step - loss: 0.4257 - categorical_accuracy: 0.9366 - val_loss: 0.5732 - val_categorical_accuracy: 0.9110\n",
      "Epoch 17/10000\n",
      "825/825 [==============================] - 17s 20ms/step - loss: 0.4151 - categorical_accuracy: 0.9373 - val_loss: 0.5714 - val_categorical_accuracy: 0.9101\n",
      "Epoch 18/10000\n",
      "825/825 [==============================] - 17s 21ms/step - loss: 0.4037 - categorical_accuracy: 0.9392 - val_loss: 0.5605 - val_categorical_accuracy: 0.9121\n",
      "Epoch 19/10000\n",
      "825/825 [==============================] - 17s 20ms/step - loss: 0.3950 - categorical_accuracy: 0.9397 - val_loss: 0.5494 - val_categorical_accuracy: 0.9125\n",
      "Epoch 20/10000\n",
      "825/825 [==============================] - 17s 20ms/step - loss: 0.3849 - categorical_accuracy: 0.9414 - val_loss: 0.5527 - val_categorical_accuracy: 0.9126\n",
      "Epoch 21/10000\n",
      "825/825 [==============================] - 17s 20ms/step - loss: 0.3733 - categorical_accuracy: 0.9437 - val_loss: 0.5520 - val_categorical_accuracy: 0.9134\n",
      "Epoch 22/10000\n",
      "825/825 [==============================] - 17s 20ms/step - loss: 0.3645 - categorical_accuracy: 0.9443 - val_loss: 0.5483 - val_categorical_accuracy: 0.9141\n",
      "Epoch 23/10000\n",
      "825/825 [==============================] - 16s 20ms/step - loss: 0.3567 - categorical_accuracy: 0.9455 - val_loss: 0.5414 - val_categorical_accuracy: 0.9148\n",
      "Epoch 24/10000\n",
      "825/825 [==============================] - 17s 20ms/step - loss: 0.3485 - categorical_accuracy: 0.9466 - val_loss: 0.5439 - val_categorical_accuracy: 0.9147\n",
      "Epoch 25/10000\n",
      "825/825 [==============================] - 16s 20ms/step - loss: 0.3433 - categorical_accuracy: 0.9464 - val_loss: 0.5382 - val_categorical_accuracy: 0.9149\n",
      "Epoch 26/10000\n",
      "825/825 [==============================] - 16s 20ms/step - loss: 0.3361 - categorical_accuracy: 0.9477 - val_loss: 0.5409 - val_categorical_accuracy: 0.9148\n",
      "Epoch 27/10000\n",
      "825/825 [==============================] - 16s 20ms/step - loss: 0.3285 - categorical_accuracy: 0.9481 - val_loss: 0.5374 - val_categorical_accuracy: 0.9150\n",
      "Epoch 28/10000\n",
      "825/825 [==============================] - 16s 20ms/step - loss: 0.3222 - categorical_accuracy: 0.9494 - val_loss: 0.5309 - val_categorical_accuracy: 0.9154\n",
      "Epoch 29/10000\n",
      "825/825 [==============================] - 17s 20ms/step - loss: 0.3167 - categorical_accuracy: 0.9502 - val_loss: 0.5254 - val_categorical_accuracy: 0.9160\n",
      "Epoch 30/10000\n",
      "825/825 [==============================] - 18s 21ms/step - loss: 0.3099 - categorical_accuracy: 0.9511 - val_loss: 0.5301 - val_categorical_accuracy: 0.9157\n",
      "Epoch 31/10000\n",
      "825/825 [==============================] - 17s 21ms/step - loss: 0.3043 - categorical_accuracy: 0.9522 - val_loss: 0.5232 - val_categorical_accuracy: 0.9174\n",
      "Epoch 32/10000\n",
      "825/825 [==============================] - 17s 20ms/step - loss: 0.2980 - categorical_accuracy: 0.9527 - val_loss: 0.5224 - val_categorical_accuracy: 0.9158\n",
      "Epoch 33/10000\n",
      "825/825 [==============================] - 17s 21ms/step - loss: 0.2937 - categorical_accuracy: 0.9532 - val_loss: 0.5199 - val_categorical_accuracy: 0.9166\n",
      "Epoch 34/10000\n",
      "825/825 [==============================] - 17s 21ms/step - loss: 0.2874 - categorical_accuracy: 0.9544 - val_loss: 0.5257 - val_categorical_accuracy: 0.9162\n",
      "Epoch 35/10000\n",
      "825/825 [==============================] - 17s 20ms/step - loss: 0.2837 - categorical_accuracy: 0.9548 - val_loss: 0.5298 - val_categorical_accuracy: 0.9168\n",
      "Epoch 36/10000\n",
      "825/825 [==============================] - 17s 20ms/step - loss: 0.2789 - categorical_accuracy: 0.9554 - val_loss: 0.5205 - val_categorical_accuracy: 0.9173\n",
      "Epoch 37/10000\n",
      "825/825 [==============================] - 16s 20ms/step - loss: 0.2740 - categorical_accuracy: 0.9559 - val_loss: 0.5142 - val_categorical_accuracy: 0.9175\n",
      "Epoch 38/10000\n",
      "825/825 [==============================] - 17s 20ms/step - loss: 0.2710 - categorical_accuracy: 0.9560 - val_loss: 0.5146 - val_categorical_accuracy: 0.9178\n",
      "Epoch 39/10000\n",
      "825/825 [==============================] - 17s 21ms/step - loss: 0.2677 - categorical_accuracy: 0.9566 - val_loss: 0.5110 - val_categorical_accuracy: 0.9181\n",
      "Epoch 40/10000\n",
      "825/825 [==============================] - 17s 20ms/step - loss: 0.2634 - categorical_accuracy: 0.9569 - val_loss: 0.5112 - val_categorical_accuracy: 0.9173\n",
      "Epoch 41/10000\n",
      "825/825 [==============================] - 17s 21ms/step - loss: 0.2595 - categorical_accuracy: 0.9578 - val_loss: 0.5132 - val_categorical_accuracy: 0.9170\n",
      "Epoch 42/10000\n",
      "825/825 [==============================] - 17s 20ms/step - loss: 0.2557 - categorical_accuracy: 0.9583 - val_loss: 0.5117 - val_categorical_accuracy: 0.9178\n",
      "Epoch 43/10000\n",
      "825/825 [==============================] - 17s 20ms/step - loss: 0.2528 - categorical_accuracy: 0.9586 - val_loss: 0.5098 - val_categorical_accuracy: 0.9180\n",
      "Epoch 44/10000\n",
      "825/825 [==============================] - 17s 20ms/step - loss: 0.2487 - categorical_accuracy: 0.9597 - val_loss: 0.5085 - val_categorical_accuracy: 0.9174\n",
      "Epoch 45/10000\n",
      "825/825 [==============================] - 17s 20ms/step - loss: 0.2474 - categorical_accuracy: 0.9590 - val_loss: 0.5037 - val_categorical_accuracy: 0.9187\n",
      "Epoch 46/10000\n"
     ]
    },
    {
     "name": "stdout",
     "output_type": "stream",
     "text": [
      "825/825 [==============================] - 16s 20ms/step - loss: 0.2436 - categorical_accuracy: 0.9596 - val_loss: 0.5002 - val_categorical_accuracy: 0.9179\n",
      "Epoch 47/10000\n",
      "825/825 [==============================] - 17s 20ms/step - loss: 0.2404 - categorical_accuracy: 0.9602 - val_loss: 0.5040 - val_categorical_accuracy: 0.9193\n",
      "Epoch 48/10000\n",
      "825/825 [==============================] - 17s 20ms/step - loss: 0.2369 - categorical_accuracy: 0.9609 - val_loss: 0.5031 - val_categorical_accuracy: 0.9190\n",
      "Epoch 49/10000\n",
      "825/825 [==============================] - 17s 20ms/step - loss: 0.2356 - categorical_accuracy: 0.9609 - val_loss: 0.5000 - val_categorical_accuracy: 0.9191\n",
      "Epoch 50/10000\n",
      "825/825 [==============================] - 17s 20ms/step - loss: 0.2322 - categorical_accuracy: 0.9611 - val_loss: 0.4977 - val_categorical_accuracy: 0.9190\n",
      "Epoch 51/10000\n",
      "825/825 [==============================] - 17s 20ms/step - loss: 0.2301 - categorical_accuracy: 0.9617 - val_loss: 0.5026 - val_categorical_accuracy: 0.9175\n",
      "Epoch 52/10000\n",
      "825/825 [==============================] - 17s 20ms/step - loss: 0.2280 - categorical_accuracy: 0.9616 - val_loss: 0.4971 - val_categorical_accuracy: 0.9187\n",
      "Epoch 53/10000\n",
      "825/825 [==============================] - 17s 20ms/step - loss: 0.2250 - categorical_accuracy: 0.9623 - val_loss: 0.5014 - val_categorical_accuracy: 0.9194\n",
      "Epoch 54/10000\n",
      "825/825 [==============================] - 17s 20ms/step - loss: 0.2236 - categorical_accuracy: 0.9623 - val_loss: 0.4959 - val_categorical_accuracy: 0.9193\n",
      "Epoch 55/10000\n",
      "825/825 [==============================] - 17s 20ms/step - loss: 0.2208 - categorical_accuracy: 0.9626 - val_loss: 0.5034 - val_categorical_accuracy: 0.9185\n",
      "Epoch 56/10000\n",
      "825/825 [==============================] - 17s 20ms/step - loss: 0.2188 - categorical_accuracy: 0.9632 - val_loss: 0.4970 - val_categorical_accuracy: 0.9176\n",
      "Epoch 57/10000\n",
      "825/825 [==============================] - 17s 20ms/step - loss: 0.2167 - categorical_accuracy: 0.9635 - val_loss: 0.4957 - val_categorical_accuracy: 0.9187\n",
      "Epoch 58/10000\n",
      "825/825 [==============================] - 16s 20ms/step - loss: 0.2146 - categorical_accuracy: 0.9636 - val_loss: 0.4945 - val_categorical_accuracy: 0.9188\n",
      "Epoch 59/10000\n",
      "825/825 [==============================] - 16s 20ms/step - loss: 0.2126 - categorical_accuracy: 0.9638 - val_loss: 0.4932 - val_categorical_accuracy: 0.9189\n",
      "Epoch 60/10000\n",
      "825/825 [==============================] - 17s 20ms/step - loss: 0.2113 - categorical_accuracy: 0.9644 - val_loss: 0.4963 - val_categorical_accuracy: 0.9195\n",
      "Epoch 61/10000\n",
      "825/825 [==============================] - 17s 20ms/step - loss: 0.2091 - categorical_accuracy: 0.9641 - val_loss: 0.5005 - val_categorical_accuracy: 0.9194\n",
      "Epoch 62/10000\n",
      "825/825 [==============================] - 17s 20ms/step - loss: 0.2081 - categorical_accuracy: 0.9644 - val_loss: 0.4961 - val_categorical_accuracy: 0.9192\n",
      "Epoch 63/10000\n",
      "825/825 [==============================] - 17s 20ms/step - loss: 0.2061 - categorical_accuracy: 0.9644 - val_loss: 0.4965 - val_categorical_accuracy: 0.9192\n",
      "Epoch 64/10000\n",
      "825/825 [==============================] - 17s 20ms/step - loss: 0.2053 - categorical_accuracy: 0.9652 - val_loss: 0.4927 - val_categorical_accuracy: 0.9193\n",
      "Epoch 65/10000\n",
      "825/825 [==============================] - 16s 20ms/step - loss: 0.2033 - categorical_accuracy: 0.9649 - val_loss: 0.4969 - val_categorical_accuracy: 0.9195\n",
      "Epoch 66/10000\n",
      "825/825 [==============================] - 17s 20ms/step - loss: 0.2013 - categorical_accuracy: 0.9654 - val_loss: 0.4999 - val_categorical_accuracy: 0.9201\n",
      "Epoch 67/10000\n",
      "825/825 [==============================] - 17s 20ms/step - loss: 0.2011 - categorical_accuracy: 0.9652 - val_loss: 0.4969 - val_categorical_accuracy: 0.9203\n",
      "Epoch 68/10000\n",
      "825/825 [==============================] - 17s 20ms/step - loss: 0.1994 - categorical_accuracy: 0.9654 - val_loss: 0.4932 - val_categorical_accuracy: 0.9194\n",
      "Epoch 69/10000\n",
      "825/825 [==============================] - 17s 20ms/step - loss: 0.1965 - categorical_accuracy: 0.9661 - val_loss: 0.4925 - val_categorical_accuracy: 0.9202\n",
      "Epoch 70/10000\n",
      "825/825 [==============================] - 17s 20ms/step - loss: 0.1969 - categorical_accuracy: 0.9656 - val_loss: 0.4916 - val_categorical_accuracy: 0.9200\n",
      "Epoch 71/10000\n",
      "825/825 [==============================] - 16s 20ms/step - loss: 0.1952 - categorical_accuracy: 0.9662 - val_loss: 0.4933 - val_categorical_accuracy: 0.9205\n",
      "Epoch 72/10000\n",
      "825/825 [==============================] - 16s 19ms/step - loss: 0.1937 - categorical_accuracy: 0.9666 - val_loss: 0.4895 - val_categorical_accuracy: 0.9203\n",
      "Epoch 73/10000\n",
      "825/825 [==============================] - 16s 20ms/step - loss: 0.1924 - categorical_accuracy: 0.9668 - val_loss: 0.4905 - val_categorical_accuracy: 0.9198\n",
      "Epoch 74/10000\n",
      "825/825 [==============================] - 16s 20ms/step - loss: 0.1919 - categorical_accuracy: 0.9666 - val_loss: 0.4919 - val_categorical_accuracy: 0.9203\n",
      "Epoch 75/10000\n",
      "825/825 [==============================] - 16s 20ms/step - loss: 0.1900 - categorical_accuracy: 0.9668 - val_loss: 0.4878 - val_categorical_accuracy: 0.9193\n",
      "Epoch 76/10000\n",
      "825/825 [==============================] - 17s 20ms/step - loss: 0.1894 - categorical_accuracy: 0.9668 - val_loss: 0.4874 - val_categorical_accuracy: 0.9198\n",
      "Epoch 77/10000\n",
      "825/825 [==============================] - 17s 20ms/step - loss: 0.1880 - categorical_accuracy: 0.9672 - val_loss: 0.4867 - val_categorical_accuracy: 0.9196\n",
      "Epoch 78/10000\n",
      "825/825 [==============================] - 17s 20ms/step - loss: 0.1880 - categorical_accuracy: 0.9668 - val_loss: 0.4882 - val_categorical_accuracy: 0.9204\n",
      "Epoch 79/10000\n",
      "825/825 [==============================] - 16s 20ms/step - loss: 0.1858 - categorical_accuracy: 0.9673 - val_loss: 0.4840 - val_categorical_accuracy: 0.9198\n",
      "Epoch 80/10000\n",
      "825/825 [==============================] - 17s 20ms/step - loss: 0.1853 - categorical_accuracy: 0.9673 - val_loss: 0.4857 - val_categorical_accuracy: 0.9195\n",
      "Epoch 81/10000\n",
      "825/825 [==============================] - 16s 20ms/step - loss: 0.1844 - categorical_accuracy: 0.9674 - val_loss: 0.4853 - val_categorical_accuracy: 0.9206\n",
      "Epoch 82/10000\n",
      "825/825 [==============================] - 16s 20ms/step - loss: 0.1836 - categorical_accuracy: 0.9678 - val_loss: 0.4951 - val_categorical_accuracy: 0.9195\n",
      "Epoch 83/10000\n",
      "825/825 [==============================] - 16s 20ms/step - loss: 0.1818 - categorical_accuracy: 0.9677 - val_loss: 0.4859 - val_categorical_accuracy: 0.9204\n",
      "Epoch 84/10000\n",
      "825/825 [==============================] - 17s 20ms/step - loss: 0.1821 - categorical_accuracy: 0.9677 - val_loss: 0.4899 - val_categorical_accuracy: 0.9201\n",
      "Trained and saved new model.\n",
      "Finished at 2022-12-07 16:51:15.475127, took 0:23:26.073575 seconds\n"
     ]
    }
   ],
   "source": [
    "model = SherlockModel()\n",
    "try:\n",
    "    model.initialize_model_from_json(with_weights=True, model_id=model_id);\n",
    "except:\n",
    "    start = datetime.now()\n",
    "    print(f'Started at {start}')\n",
    "    # Model will be stored with ID `model_id`\n",
    "    model.fit(X_train, y_train, X_validation, y_validation, model_id=model_id)\n",
    "\n",
    "    print('Trained and saved new model.')\n",
    "    print(f'Finished at {datetime.now()}, took {datetime.now() - start} seconds')\n",
    "    model.store_weights(model_id=model_id)"
   ]
  },
  {
   "cell_type": "code",
   "execution_count": 11,
   "metadata": {},
   "outputs": [],
   "source": [
    "predicted_labels = []"
   ]
  },
  {
   "cell_type": "markdown",
   "metadata": {},
   "source": [
    "### Make prediction"
   ]
  },
  {
   "cell_type": "code",
   "execution_count": 12,
   "metadata": {},
   "outputs": [
    {
     "name": "stderr",
     "output_type": "stream",
     "text": [
      "W1207 16:51:20.375893 46912499975424 ag_logging.py:142] AutoGraph could not transform <function Model.make_predict_function.<locals>.predict_function at 0x2aab57bbb0d0> and will run it as-is.\n",
      "Please report this to the TensorFlow team. When filing the bug, set the verbosity to 10 (on Linux, `export AUTOGRAPH_VERBOSITY=10`) and attach the full output.\n",
      "Cause: module 'gast' has no attribute 'Constant'\n",
      "To silence this warning, decorate the function with @tf.autograph.experimental.do_not_convert\n"
     ]
    },
    {
     "name": "stdout",
     "output_type": "stream",
     "text": [
      "WARNING: AutoGraph could not transform <function Model.make_predict_function.<locals>.predict_function at 0x2aab57bbb0d0> and will run it as-is.\n",
      "Please report this to the TensorFlow team. When filing the bug, set the verbosity to 10 (on Linux, `export AUTOGRAPH_VERBOSITY=10`) and attach the full output.\n",
      "Cause: module 'gast' has no attribute 'Constant'\n",
      "To silence this warning, decorate the function with @tf.autograph.experimental.do_not_convert\n"
     ]
    }
   ],
   "source": [
    "predicted_labels = model.predict(X_test, model_id)\n",
    "predicted_labels = np.array([x.lower() for x in predicted_labels])"
   ]
  },
  {
   "cell_type": "code",
   "execution_count": 13,
   "metadata": {},
   "outputs": [
    {
     "name": "stdout",
     "output_type": "stream",
     "text": [
      "prediction count 67959, type = <class 'numpy.ndarray'>\n"
     ]
    },
    {
     "data": {
      "text/plain": [
       "0.9199339349133125"
      ]
     },
     "execution_count": 13,
     "metadata": {},
     "output_type": "execute_result"
    }
   ],
   "source": [
    "print(f'prediction count {len(predicted_labels)}, type = {type(predicted_labels)}')\n",
    "\n",
    "size=len(y_test)\n",
    "\n",
    "# Should be fully deterministic too.\n",
    "f1_score(y_test[:size], predicted_labels[:size], average=\"weighted\")"
   ]
  },
  {
   "cell_type": "code",
   "execution_count": 14,
   "metadata": {},
   "outputs": [],
   "source": [
    "# If using the original model, model_id should be replaced with \"sherlock\"\n",
    "#model_id = \"sherlock\"\n",
    "classes = np.load(f\"../model_files/classes_{model_id}.npy\", allow_pickle=True)\n",
    "\n",
    "report = classification_report(y_test, predicted_labels, output_dict=True)\n",
    "\n",
    "class_scores = list(filter(lambda x: isinstance(x, tuple) and isinstance(x[1], dict) and 'f1-score' in x[1] and x[0] in classes, list(report.items())))\n",
    "\n",
    "class_scores = sorted(class_scores, key=lambda item: item[1]['f1-score'], reverse=True)"
   ]
  },
  {
   "cell_type": "markdown",
   "metadata": {},
   "source": [
    "### Top 5 Types"
   ]
  },
  {
   "cell_type": "code",
   "execution_count": 15,
   "metadata": {},
   "outputs": [
    {
     "name": "stdout",
     "output_type": "stream",
     "text": [
      "\t\tf1-score\tprecision\trecall\t\tsupport\n",
      "lei\t\t1.000\t\t1.000\t\t1.000\t\t110\n",
      "credit card account numbers\t0.998\t\t0.997\t\t1.000\t\t585\n",
      "guuid\t\t0.996\t\t0.992\t\t1.000\t\t120\n",
      "industry\t0.987\t\t0.986\t\t0.987\t\t2958\n",
      "phone number\t0.985\t\t0.971\t\t1.000\t\t300\n"
     ]
    }
   ],
   "source": [
    "print(f\"\\t\\tf1-score\\tprecision\\trecall\\t\\tsupport\")\n",
    "\n",
    "for key, value in class_scores[0:5]:\n",
    "    if len(key) >= 8:\n",
    "        tabs = '\\t' * 1\n",
    "    else:\n",
    "        tabs = '\\t' * 2\n",
    "\n",
    "    print(f\"{key}{tabs}{value['f1-score']:.3f}\\t\\t{value['precision']:.3f}\\t\\t{value['recall']:.3f}\\t\\t{value['support']}\")"
   ]
  },
  {
   "cell_type": "markdown",
   "metadata": {},
   "source": [
    "### Bottom 5 Types"
   ]
  },
  {
   "cell_type": "code",
   "execution_count": 16,
   "metadata": {
    "scrolled": true
   },
   "outputs": [
    {
     "name": "stdout",
     "output_type": "stream",
     "text": [
      "\t\tf1-score\tprecision\trecall\t\tsupport\n",
      "person\t\t0.707\t\t0.748\t\t0.670\t\t579\n",
      "sales\t\t0.660\t\t0.753\t\t0.587\t\t322\n",
      "fips code\t0.640\t\t0.718\t\t0.577\t\t97\n",
      "naic\t\t0.395\t\t0.773\t\t0.266\t\t64\n",
      "mcc code\t0.000\t\t0.000\t\t0.000\t\t29\n"
     ]
    }
   ],
   "source": [
    "print(f\"\\t\\tf1-score\\tprecision\\trecall\\t\\tsupport\")\n",
    "\n",
    "for key, value in class_scores[len(class_scores)-5:len(class_scores)]:\n",
    "    if len(key) >= 8:\n",
    "        tabs = '\\t' * 1\n",
    "    else:\n",
    "        tabs = '\\t' * 2\n",
    "\n",
    "    print(f\"{key}{tabs}{value['f1-score']:.3f}\\t\\t{value['precision']:.3f}\\t\\t{value['recall']:.3f}\\t\\t{value['support']}\")"
   ]
  },
  {
   "cell_type": "markdown",
   "metadata": {},
   "source": [
    "### All Scores"
   ]
  },
  {
   "cell_type": "code",
   "execution_count": 17,
   "metadata": {},
   "outputs": [
    {
     "name": "stdout",
     "output_type": "stream",
     "text": [
      "                             precision    recall  f1-score   support\n",
      "\n",
      "                    address      0.944     0.947     0.946      3003\n",
      "                        age      0.919     0.972     0.945      3033\n",
      "                       area      0.900     0.852     0.875      1987\n",
      "                 birth date      0.975     0.975     0.975       479\n",
      "                birth place      0.977     0.909     0.942       418\n",
      "                      brand      0.830     0.749     0.788       574\n",
      "                       city      0.884     0.910     0.897      2966\n",
      "                  continent      0.872     0.903     0.887       227\n",
      "                    country      0.936     0.951     0.943      3038\n",
      "                     county      0.956     0.955     0.955      2959\n",
      "credit card account numbers      0.997     1.000     0.998       585\n",
      "                   currency      0.978     0.973     0.975       405\n",
      "                        day      0.936     0.917     0.926      3038\n",
      "                   duration      0.971     0.953     0.962      3000\n",
      "                  fips code      0.718     0.577     0.640        97\n",
      "                      guuid      0.992     1.000     0.996       120\n",
      "                   industry      0.986     0.987     0.987      2958\n",
      "                   language      0.872     0.972     0.919      1474\n",
      "                        lei      1.000     1.000     1.000       110\n",
      "                   location      0.883     0.854     0.868      2949\n",
      "               manufacturer      0.920     0.854     0.886       945\n",
      "                   mcc code      0.000     0.000     0.000        29\n",
      "                       naic      0.773     0.266     0.395        64\n",
      "                       name      0.839     0.876     0.857      3017\n",
      "                nationality      0.835     0.800     0.817       424\n",
      "                      order      0.951     0.832     0.887      1462\n",
      "                     person      0.748     0.670     0.707       579\n",
      "               phone number      0.971     1.000     0.985       300\n",
      "                    product      0.902     0.918     0.910      2647\n",
      "                      range      0.870     0.825     0.847       577\n",
      "                       rank      0.778     0.870     0.822      2983\n",
      "                     region      0.884     0.851     0.867      2740\n",
      "                      sales      0.753     0.587     0.660       322\n",
      "                        sex      0.984     0.978     0.981      2997\n",
      "            social_security      0.955     0.700     0.808        30\n",
      "                      state      0.961     0.962     0.962      3030\n",
      "                     status      0.959     0.950     0.954      3100\n",
      "                     symbol      0.963     0.977     0.970      1752\n",
      "                     tax_id      1.000     0.967     0.983        30\n",
      "                       type      0.916     0.915     0.916      2909\n",
      "                       year      0.980     0.955     0.967      3015\n",
      "                   zip code      0.933     0.986     0.958      1587\n",
      "\n",
      "                   accuracy                          0.920     67959\n",
      "                  macro avg      0.890     0.859     0.871     67959\n",
      "               weighted avg      0.921     0.920     0.920     67959\n",
      "\n"
     ]
    }
   ],
   "source": [
    "print(classification_report(y_test, predicted_labels, digits=3))"
   ]
  },
  {
   "cell_type": "markdown",
   "metadata": {},
   "source": [
    "## Review errors"
   ]
  },
  {
   "cell_type": "code",
   "execution_count": 18,
   "metadata": {},
   "outputs": [
    {
     "name": "stdout",
     "output_type": "stream",
     "text": [
      "[478] expected \"address\" but predicted \"name\"\n",
      "[1111] expected \"address\" but predicted \"location\"\n",
      "[1201] expected \"address\" but predicted \"location\"\n",
      "[1585] expected \"address\" but predicted \"city\"\n",
      "[2041] expected \"address\" but predicted \"county\"\n",
      "[2059] expected \"address\" but predicted \"city\"\n",
      "[2393] expected \"address\" but predicted \"location\"\n",
      "[2609] expected \"address\" but predicted \"name\"\n",
      "[3342] expected \"address\" but predicted \"location\"\n",
      "[4134] expected \"address\" but predicted \"location\"\n",
      "[4428] expected \"address\" but predicted \"location\"\n",
      "[4537] expected \"address\" but predicted \"location\"\n",
      "[4640] expected \"address\" but predicted \"city\"\n",
      "[4787] expected \"address\" but predicted \"rank\"\n",
      "[5261] expected \"address\" but predicted \"county\"\n",
      "[5685] expected \"address\" but predicted \"location\"\n",
      "[6033] expected \"address\" but predicted \"location\"\n",
      "[7008] expected \"address\" but predicted \"location\"\n",
      "[7281] expected \"address\" but predicted \"city\"\n",
      "[7390] expected \"address\" but predicted \"location\"\n",
      "[7404] expected \"address\" but predicted \"city\"\n",
      "[7746] expected \"address\" but predicted \"location\"\n",
      "[9041] expected \"address\" but predicted \"type\"\n",
      "[9920] expected \"address\" but predicted \"language\"\n",
      "[10188] expected \"address\" but predicted \"product\"\n",
      "[10572] expected \"address\" but predicted \"location\"\n",
      "[11395] expected \"address\" but predicted \"location\"\n",
      "[12499] expected \"address\" but predicted \"name\"\n",
      "[12503] expected \"address\" but predicted \"name\"\n",
      "[12514] expected \"address\" but predicted \"location\"\n",
      "[12556] expected \"address\" but predicted \"duration\"\n",
      "[12608] expected \"address\" but predicted \"range\"\n",
      "[12829] expected \"address\" but predicted \"name\"\n",
      "[14477] expected \"address\" but predicted \"language\"\n",
      "[14927] expected \"address\" but predicted \"location\"\n",
      "[15140] expected \"address\" but predicted \"country\"\n",
      "[15145] expected \"address\" but predicted \"language\"\n",
      "[15221] expected \"address\" but predicted \"location\"\n",
      "[15481] expected \"address\" but predicted \"city\"\n",
      "[15592] expected \"address\" but predicted \"name\"\n",
      "[15799] expected \"address\" but predicted \"industry\"\n",
      "[16143] expected \"address\" but predicted \"location\"\n",
      "[16409] expected \"address\" but predicted \"location\"\n",
      "[16543] expected \"address\" but predicted \"location\"\n",
      "[16956] expected \"address\" but predicted \"location\"\n",
      "[17047] expected \"address\" but predicted \"language\"\n",
      "[17088] expected \"address\" but predicted \"city\"\n",
      "[17588] expected \"address\" but predicted \"person\"\n",
      "[17689] expected \"address\" but predicted \"language\"\n",
      "[17747] expected \"address\" but predicted \"region\"\n",
      "[17788] expected \"address\" but predicted \"language\"\n",
      "[18056] expected \"address\" but predicted \"name\"\n",
      "[19063] expected \"address\" but predicted \"language\"\n",
      "[19185] expected \"address\" but predicted \"country\"\n",
      "[21283] expected \"address\" but predicted \"name\"\n",
      "[21290] expected \"address\" but predicted \"area\"\n",
      "[21296] expected \"address\" but predicted \"name\"\n",
      "[22018] expected \"address\" but predicted \"location\"\n",
      "[22419] expected \"address\" but predicted \"language\"\n",
      "[22532] expected \"address\" but predicted \"location\"\n",
      "[22601] expected \"address\" but predicted \"location\"\n",
      "[22631] expected \"address\" but predicted \"city\"\n",
      "[22678] expected \"address\" but predicted \"region\"\n",
      "[22787] expected \"address\" but predicted \"location\"\n",
      "[22911] expected \"address\" but predicted \"location\"\n",
      "[23055] expected \"address\" but predicted \"location\"\n",
      "[23705] expected \"address\" but predicted \"name\"\n",
      "[23876] expected \"address\" but predicted \"area\"\n",
      "[24098] expected \"address\" but predicted \"city\"\n",
      "[25623] expected \"address\" but predicted \"location\"\n",
      "[25742] expected \"address\" but predicted \"area\"\n",
      "[26579] expected \"address\" but predicted \"type\"\n",
      "[26608] expected \"address\" but predicted \"name\"\n",
      "[26895] expected \"address\" but predicted \"name\"\n",
      "[27040] expected \"address\" but predicted \"symbol\"\n",
      "[27206] expected \"address\" but predicted \"name\"\n",
      "[27413] expected \"address\" but predicted \"location\"\n",
      "[27725] expected \"address\" but predicted \"location\"\n",
      "[27855] expected \"address\" but predicted \"name\"\n",
      "[28218] expected \"address\" but predicted \"product\"\n",
      "[28286] expected \"address\" but predicted \"location\"\n",
      "[28333] expected \"address\" but predicted \"region\"\n",
      "[28523] expected \"address\" but predicted \"location\"\n",
      "[28573] expected \"address\" but predicted \"language\"\n",
      "[28668] expected \"address\" but predicted \"location\"\n",
      "[28732] expected \"address\" but predicted \"range\"\n",
      "[29339] expected \"address\" but predicted \"language\"\n",
      "[29377] expected \"address\" but predicted \"range\"\n",
      "[29636] expected \"address\" but predicted \"location\"\n",
      "[30525] expected \"address\" but predicted \"city\"\n",
      "[32546] expected \"address\" but predicted \"rank\"\n",
      "[33071] expected \"address\" but predicted \"city\"\n",
      "[33755] expected \"address\" but predicted \"location\"\n",
      "[34016] expected \"address\" but predicted \"location\"\n",
      "[34025] expected \"address\" but predicted \"county\"\n",
      "[34227] expected \"address\" but predicted \"symbol\"\n",
      "[34824] expected \"address\" but predicted \"name\"\n",
      "[34895] expected \"address\" but predicted \"name\"\n",
      "[35213] expected \"address\" but predicted \"location\"\n",
      "[35845] expected \"address\" but predicted \"range\"\n",
      "[35994] expected \"address\" but predicted \"region\"\n",
      "[36306] expected \"address\" but predicted \"language\"\n",
      "[36869] expected \"address\" but predicted \"city\"\n",
      "[38885] expected \"address\" but predicted \"location\"\n",
      "[39210] expected \"address\" but predicted \"range\"\n",
      "[39499] expected \"address\" but predicted \"location\"\n",
      "[40324] expected \"address\" but predicted \"location\"\n",
      "[40391] expected \"address\" but predicted \"brand\"\n",
      "[40584] expected \"address\" but predicted \"language\"\n",
      "[40677] expected \"address\" but predicted \"language\"\n",
      "[40697] expected \"address\" but predicted \"location\"\n",
      "[41137] expected \"address\" but predicted \"rank\"\n",
      "[41181] expected \"address\" but predicted \"product\"\n",
      "[41391] expected \"address\" but predicted \"location\"\n",
      "[41639] expected \"address\" but predicted \"location\"\n",
      "[41686] expected \"address\" but predicted \"city\"\n",
      "[42378] expected \"address\" but predicted \"location\"\n",
      "[42634] expected \"address\" but predicted \"name\"\n",
      "[42825] expected \"address\" but predicted \"location\"\n",
      "[42880] expected \"address\" but predicted \"city\"\n",
      "[43719] expected \"address\" but predicted \"location\"\n",
      "[44174] expected \"address\" but predicted \"location\"\n",
      "[44269] expected \"address\" but predicted \"country\"\n",
      "[45147] expected \"address\" but predicted \"location\"\n",
      "[45617] expected \"address\" but predicted \"location\"\n",
      "[45745] expected \"address\" but predicted \"product\"\n",
      "[45783] expected \"address\" but predicted \"birth place\"\n",
      "[46985] expected \"address\" but predicted \"location\"\n",
      "[47727] expected \"address\" but predicted \"symbol\"\n",
      "[48687] expected \"address\" but predicted \"county\"\n",
      "[48830] expected \"address\" but predicted \"language\"\n",
      "[49073] expected \"address\" but predicted \"location\"\n",
      "[49468] expected \"address\" but predicted \"location\"\n",
      "[49754] expected \"address\" but predicted \"city\"\n",
      "[50816] expected \"address\" but predicted \"location\"\n",
      "[51787] expected \"address\" but predicted \"city\"\n",
      "[53301] expected \"address\" but predicted \"location\"\n",
      "[53814] expected \"address\" but predicted \"location\"\n",
      "[54112] expected \"address\" but predicted \"area\"\n",
      "[54164] expected \"address\" but predicted \"duration\"\n",
      "[54767] expected \"address\" but predicted \"order\"\n",
      "[55162] expected \"address\" but predicted \"county\"\n",
      "[56111] expected \"address\" but predicted \"language\"\n",
      "[56716] expected \"address\" but predicted \"rank\"\n",
      "[57986] expected \"address\" but predicted \"language\"\n",
      "[58196] expected \"address\" but predicted \"person\"\n",
      "[58519] expected \"address\" but predicted \"location\"\n",
      "[59031] expected \"address\" but predicted \"name\"\n",
      "[59662] expected \"address\" but predicted \"year\"\n",
      "[59806] expected \"address\" but predicted \"product\"\n",
      "[60420] expected \"address\" but predicted \"rank\"\n",
      "[61914] expected \"address\" but predicted \"rank\"\n",
      "[62150] expected \"address\" but predicted \"city\"\n",
      "[62274] expected \"address\" but predicted \"location\"\n",
      "[62844] expected \"address\" but predicted \"manufacturer\"\n",
      "[63288] expected \"address\" but predicted \"location\"\n",
      "[64711] expected \"address\" but predicted \"status\"\n",
      "[64859] expected \"address\" but predicted \"location\"\n",
      "Total mismatches: 5403 (F1 score: 0.9199339349133125)\n"
     ]
    },
    {
     "data": {
      "text/plain": [
       "[('location', 430),\n",
       " ('region', 408),\n",
       " ('rank', 387),\n",
       " ('name', 373),\n",
       " ('area', 294),\n",
       " ('city', 266),\n",
       " ('day', 252),\n",
       " ('type', 247),\n",
       " ('order', 246),\n",
       " ('product', 216),\n",
       " ('person', 191),\n",
       " ('address', 158),\n",
       " ('status', 155),\n",
       " ('country', 150),\n",
       " ('brand', 144),\n",
       " ('duration', 141),\n",
       " ('manufacturer', 138),\n",
       " ('year', 137),\n",
       " ('county', 134),\n",
       " ('sales', 133),\n",
       " ('state', 114),\n",
       " ('range', 101),\n",
       " ('nationality', 85),\n",
       " ('age', 85),\n",
       " ('sex', 65),\n",
       " ('naic', 47),\n",
       " ('language', 41),\n",
       " ('symbol', 41),\n",
       " ('fips code', 41),\n",
       " ('birth place', 38),\n",
       " ('industry', 38),\n",
       " ('mcc code', 29),\n",
       " ('zip code', 23),\n",
       " ('continent', 22),\n",
       " ('birth date', 12),\n",
       " ('currency', 11),\n",
       " ('social_security', 9),\n",
       " ('tax_id', 1)]"
      ]
     },
     "execution_count": 18,
     "metadata": {},
     "output_type": "execute_result"
    }
   ],
   "source": [
    "size = len(y_test)\n",
    "mismatches = list()\n",
    "\n",
    "for idx, k1 in enumerate(y_test[:size]):\n",
    "    k2 = predicted_labels[idx]\n",
    "\n",
    "    if k1 != k2:\n",
    "        mismatches.append(k1)\n",
    "        \n",
    "        # zoom in to specific errors. Use the index in the next step\n",
    "        if k1 in ('address'):\n",
    "            print(f'[{idx}] expected \"{k1}\" but predicted \"{k2}\"')\n",
    "        \n",
    "f1 = f1_score(y_test[:size], predicted_labels[:size], average=\"weighted\")\n",
    "print(f'Total mismatches: {len(mismatches)} (F1 score: {f1})')\n",
    "\n",
    "data = Counter(mismatches)\n",
    "data.most_common()   # Returns all unique items and their counts"
   ]
  },
  {
   "cell_type": "code",
   "execution_count": 19,
   "metadata": {},
   "outputs": [],
   "source": [
    "test_samples = pd.read_parquet('../data/data/raw/test_values.parquet')"
   ]
  },
  {
   "cell_type": "code",
   "execution_count": 20,
   "metadata": {},
   "outputs": [
    {
     "name": "stdout",
     "output_type": "stream",
     "text": [
      "Predicted \"symbol\", actual label \"symbol\". Actual values:\n",
      "[['VASC', 'TNK', 'NAT', 'GPRO', 'MANH']]\n"
     ]
    }
   ],
   "source": [
    "idx = 57\n",
    "\n",
    "\n",
    "original = test_samples.iloc[idx]\n",
    "converted = original.apply(literal_eval).to_list()\n",
    "\n",
    "print(f'Predicted \"{predicted_labels[idx]}\", actual label \"{y_test[idx]}\". Actual values:\\n{converted}')"
   ]
  },
  {
   "cell_type": "code",
   "execution_count": 21,
   "metadata": {},
   "outputs": [
    {
     "data": {
      "text/plain": [
       "[('lei', {'precision': 1.0, 'recall': 1.0, 'f1-score': 1.0, 'support': 110}),\n",
       " ('credit card account numbers',\n",
       "  {'precision': 0.9965928449744463,\n",
       "   'recall': 1.0,\n",
       "   'f1-score': 0.9982935153583617,\n",
       "   'support': 585}),\n",
       " ('guuid',\n",
       "  {'precision': 0.9917355371900827,\n",
       "   'recall': 1.0,\n",
       "   'f1-score': 0.995850622406639,\n",
       "   'support': 120}),\n",
       " ('industry',\n",
       "  {'precision': 0.9861533265788585,\n",
       "   'recall': 0.9871534820824882,\n",
       "   'f1-score': 0.9866531508700793,\n",
       "   'support': 2958}),\n",
       " ('phone number',\n",
       "  {'precision': 0.970873786407767,\n",
       "   'recall': 1.0,\n",
       "   'f1-score': 0.9852216748768473,\n",
       "   'support': 300}),\n",
       " ('tax_id',\n",
       "  {'precision': 1.0,\n",
       "   'recall': 0.9666666666666667,\n",
       "   'f1-score': 0.983050847457627,\n",
       "   'support': 30}),\n",
       " ('sex',\n",
       "  {'precision': 0.9842228935884525,\n",
       "   'recall': 0.9783116449783117,\n",
       "   'f1-score': 0.9812583668005355,\n",
       "   'support': 2997}),\n",
       " ('currency',\n",
       "  {'precision': 0.9776674937965261,\n",
       "   'recall': 0.9728395061728395,\n",
       "   'f1-score': 0.9752475247524752,\n",
       "   'support': 405}),\n",
       " ('birth date',\n",
       "  {'precision': 0.9749478079331941,\n",
       "   'recall': 0.9749478079331941,\n",
       "   'f1-score': 0.9749478079331941,\n",
       "   'support': 479}),\n",
       " ('symbol',\n",
       "  {'precision': 0.9628587507034327,\n",
       "   'recall': 0.9765981735159818,\n",
       "   'f1-score': 0.9696797959761972,\n",
       "   'support': 1752}),\n",
       " ('year',\n",
       "  {'precision': 0.9795779441797141,\n",
       "   'recall': 0.9545605306799336,\n",
       "   'f1-score': 0.9669074416260709,\n",
       "   'support': 3015}),\n",
       " ('state',\n",
       "  {'precision': 0.9614243323442137,\n",
       "   'recall': 0.9623762376237623,\n",
       "   'f1-score': 0.9619000494804553,\n",
       "   'support': 3030}),\n",
       " ('duration',\n",
       "  {'precision': 0.9707979626485569,\n",
       "   'recall': 0.953,\n",
       "   'f1-score': 0.9618166526492851,\n",
       "   'support': 3000}),\n",
       " ('zip code',\n",
       "  {'precision': 0.9326177698270721,\n",
       "   'recall': 0.9855072463768116,\n",
       "   'f1-score': 0.9583333333333334,\n",
       "   'support': 1587}),\n",
       " ('county',\n",
       "  {'precision': 0.9560067681895094,\n",
       "   'recall': 0.9547144305508618,\n",
       "   'f1-score': 0.9553601623266824,\n",
       "   'support': 2959}),\n",
       " ('status',\n",
       "  {'precision': 0.9586588541666666,\n",
       "   'recall': 0.95,\n",
       "   'f1-score': 0.9543097861309137,\n",
       "   'support': 3100}),\n",
       " ('address',\n",
       "  {'precision': 0.9442416196481912,\n",
       "   'recall': 0.9473859473859474,\n",
       "   'f1-score': 0.9458111702127661,\n",
       "   'support': 3003}),\n",
       " ('age',\n",
       "  {'precision': 0.9186662511685884,\n",
       "   'recall': 0.9719749423013518,\n",
       "   'f1-score': 0.9445690483819289,\n",
       "   'support': 3033}),\n",
       " ('country',\n",
       "  {'precision': 0.9361426256077796,\n",
       "   'recall': 0.9506254114549045,\n",
       "   'f1-score': 0.9433284337742938,\n",
       "   'support': 3038}),\n",
       " ('birth place',\n",
       "  {'precision': 0.9768637532133676,\n",
       "   'recall': 0.9090909090909091,\n",
       "   'f1-score': 0.9417596034696406,\n",
       "   'support': 418}),\n",
       " ('day',\n",
       "  {'precision': 0.9358414511252939,\n",
       "   'recall': 0.9170506912442397,\n",
       "   'f1-score': 0.9263507896924356,\n",
       "   'support': 3038}),\n",
       " ('language',\n",
       "  {'precision': 0.8721850273889227,\n",
       "   'recall': 0.9721845318860244,\n",
       "   'f1-score': 0.9194738530638433,\n",
       "   'support': 1474}),\n",
       " ('type',\n",
       "  {'precision': 0.9163511187607574,\n",
       "   'recall': 0.9150910965967687,\n",
       "   'f1-score': 0.9157206742346062,\n",
       "   'support': 2909}),\n",
       " ('product',\n",
       "  {'precision': 0.9020408163265307,\n",
       "   'recall': 0.9183981866263695,\n",
       "   'f1-score': 0.9101460127293151,\n",
       "   'support': 2647}),\n",
       " ('city',\n",
       "  {'precision': 0.8840864440078585,\n",
       "   'recall': 0.9103169251517195,\n",
       "   'f1-score': 0.8970099667774085,\n",
       "   'support': 2966}),\n",
       " ('continent',\n",
       "  {'precision': 0.8723404255319149,\n",
       "   'recall': 0.9030837004405287,\n",
       "   'f1-score': 0.8874458874458875,\n",
       "   'support': 227}),\n",
       " ('order',\n",
       "  {'precision': 0.9507427677873339,\n",
       "   'recall': 0.8317373461012312,\n",
       "   'f1-score': 0.8872674206493981,\n",
       "   'support': 1462}),\n",
       " ('manufacturer',\n",
       "  {'precision': 0.9201824401368301,\n",
       "   'recall': 0.8539682539682539,\n",
       "   'f1-score': 0.8858397365532381,\n",
       "   'support': 945}),\n",
       " ('area',\n",
       "  {'precision': 0.8995749202975558,\n",
       "   'recall': 0.8520382486160041,\n",
       "   'f1-score': 0.8751615404497287,\n",
       "   'support': 1987}),\n",
       " ('location',\n",
       "  {'precision': 0.8829302488608483,\n",
       "   'recall': 0.8541878602916243,\n",
       "   'f1-score': 0.8683212685280938,\n",
       "   'support': 2949}),\n",
       " ('region',\n",
       "  {'precision': 0.8843382631778536,\n",
       "   'recall': 0.8510948905109489,\n",
       "   'f1-score': 0.8673981774223544,\n",
       "   'support': 2740}),\n",
       " ('name',\n",
       "  {'precision': 0.8390986988257696,\n",
       "   'recall': 0.8763672522373218,\n",
       "   'f1-score': 0.8573281452658884,\n",
       "   'support': 3017}),\n",
       " ('range',\n",
       "  {'precision': 0.870201096892139,\n",
       "   'recall': 0.8249566724436742,\n",
       "   'f1-score': 0.8469750889679715,\n",
       "   'support': 577}),\n",
       " ('rank',\n",
       "  {'precision': 0.7781774580335732,\n",
       "   'recall': 0.8702648340596715,\n",
       "   'f1-score': 0.8216489950941605,\n",
       "   'support': 2983}),\n",
       " ('nationality',\n",
       "  {'precision': 0.8349753694581281,\n",
       "   'recall': 0.7995283018867925,\n",
       "   'f1-score': 0.8168674698795182,\n",
       "   'support': 424}),\n",
       " ('social_security',\n",
       "  {'precision': 0.9545454545454546,\n",
       "   'recall': 0.7,\n",
       "   'f1-score': 0.8076923076923077,\n",
       "   'support': 30}),\n",
       " ('brand',\n",
       "  {'precision': 0.8301158301158301,\n",
       "   'recall': 0.7491289198606271,\n",
       "   'f1-score': 0.7875457875457875,\n",
       "   'support': 574}),\n",
       " ('person',\n",
       "  {'precision': 0.7475915221579962,\n",
       "   'recall': 0.6701208981001727,\n",
       "   'f1-score': 0.7067395264116575,\n",
       "   'support': 579}),\n",
       " ('sales',\n",
       "  {'precision': 0.7529880478087649,\n",
       "   'recall': 0.5869565217391305,\n",
       "   'f1-score': 0.6596858638743456,\n",
       "   'support': 322}),\n",
       " ('fips code',\n",
       "  {'precision': 0.717948717948718,\n",
       "   'recall': 0.5773195876288659,\n",
       "   'f1-score': 0.64,\n",
       "   'support': 97}),\n",
       " ('naic',\n",
       "  {'precision': 0.7727272727272727,\n",
       "   'recall': 0.265625,\n",
       "   'f1-score': 0.39534883720930236,\n",
       "   'support': 64}),\n",
       " ('mcc code',\n",
       "  {'precision': 0.0, 'recall': 0.0, 'f1-score': 0.0, 'support': 29})]"
      ]
     },
     "execution_count": 21,
     "metadata": {},
     "output_type": "execute_result"
    }
   ],
   "source": [
    "class_scores"
   ]
  }
 ],
 "metadata": {
  "kernelspec": {
   "display_name": "Python 3 (ipykernel)",
   "language": "python",
   "name": "python3"
  },
  "language_info": {
   "codemirror_mode": {
    "name": "ipython",
    "version": 3
   },
   "file_extension": ".py",
   "mimetype": "text/x-python",
   "name": "python",
   "nbconvert_exporter": "python",
   "pygments_lexer": "ipython3",
   "version": "3.8.13"
  },
  "vscode": {
   "interpreter": {
    "hash": "93982b2d13d9986a928bb816b0e17d444852884eb3b4b4fc01736d695f21d025"
   }
  }
 },
 "nbformat": 4,
 "nbformat_minor": 4
}
