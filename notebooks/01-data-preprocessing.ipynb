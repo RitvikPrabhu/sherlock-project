{
 "cells": [
  {
   "cell_type": "markdown",
   "metadata": {},
   "source": [
    "# Preprocess data and extract features."
   ]
  },
  {
   "cell_type": "code",
   "execution_count": 1,
   "metadata": {},
   "outputs": [
    {
     "name": "stdout",
     "output_type": "stream",
     "text": [
      "env: PYTHONHASHSEED=13\n"
     ]
    }
   ],
   "source": [
    "%env PYTHONHASHSEED=13\n",
    "%load_ext autoreload\n",
    "%autoreload 2"
   ]
  },
  {
   "cell_type": "code",
   "execution_count": 2,
   "metadata": {},
   "outputs": [
    {
     "data": {
      "text/plain": [
       "'13'"
      ]
     },
     "execution_count": 2,
     "metadata": {},
     "output_type": "execute_result"
    }
   ],
   "source": [
    "# If you need fully deterministic results between runs, set the following environment value prior to launching jupyter.\n",
    "# Instructions can be found in HOW-TO-ENVIRONMENT.md.\n",
    "# See comment in sherlock.features.paragraph_vectors.infer_paragraph_embeddings_features for more info.\n",
    "%env PYTHONHASHSEED"
   ]
  },
  {
   "cell_type": "code",
   "execution_count": 3,
   "metadata": {},
   "outputs": [],
   "source": [
    "from datetime import datetime\n",
    "import os\n",
    "import sys\n",
    "import time\n",
    "\n",
    "import numpy as np\n",
    "import pandas as pd\n",
    "\n",
    "from sherlock import helpers\n",
    "from sherlock.functional import extract_features_to_csv\n",
    "from sherlock.features.paragraph_vectors import initialise_pretrained_model, initialise_nltk\n",
    "from sherlock.features.preprocessing import (\n",
    "    extract_features,\n",
    "    convert_string_lists_to_lists,\n",
    "    prepare_feature_extraction,\n",
    "    load_parquet_values,\n",
    ")\n",
    "from sherlock.features.word_embeddings import initialise_word_embeddings"
   ]
  },
  {
   "cell_type": "code",
   "execution_count": 4,
   "metadata": {},
   "outputs": [
    {
     "name": "stdout",
     "output_type": "stream",
     "text": [
      "Started at 2022-11-14 10:38:12.384241.\n"
     ]
    }
   ],
   "source": [
    "print(f'Started at {datetime.now()}.')"
   ]
  },
  {
   "cell_type": "markdown",
   "metadata": {},
   "source": [
    "## Download data\n",
    "This will download the raw values and preprocessed files, the corresponding labels as well as a few other supporting files:\n",
    "- `download_data()` will download 3.6GB of data for preprocessing and model training into the `data/` directory.\n",
    "- `prepare_feature_extraction()` will download +/- 800 MB of data into the `features/` directory."
   ]
  },
  {
   "cell_type": "code",
   "execution_count": 5,
   "metadata": {},
   "outputs": [
    {
     "name": "stdout",
     "output_type": "stream",
     "text": [
      "Downloading the raw data into ../data/data/.\n",
      "Downloading data directory.\n"
     ]
    },
    {
     "name": "stderr",
     "output_type": "stream",
     "text": [
      "Downloading...\n",
      "From: https://drive.google.com/u/1/uc?id=1F-Bciiv9KD1-3-UpzIWQ_NUMNHcDTvuN&export=download\n",
      "To: /home/ritvikp/CMDA_capstone/sherlock-project/data/data.zip\n",
      "100%|██████████| 35.7M/35.7M [00:00<00:00, 67.7MB/s]\n"
     ]
    },
    {
     "name": "stdout",
     "output_type": "stream",
     "text": [
      "Data was downloaded.\n",
      "Preparing feature extraction by downloading 4 files:\n",
      "        \n",
      " ../sherlock/features/glove.6B.50d.txt, \n",
      " ../sherlock/features/par_vec_trained_400.pkl.docvecs.vectors_docs.npy,\n",
      "        \n",
      " ../sherlock/features/par_vec_trained_400.pkl.trainables.syn1neg.npy, and \n",
      " ../sherlock/features/par_vec_trained_400.pkl.wv.vectors.npy.\n",
      "        \n",
      "All files for extracting word and paragraph embeddings are present.\n"
     ]
    }
   ],
   "source": [
    "helpers.download_data()\n",
    "prepare_feature_extraction()"
   ]
  },
  {
   "cell_type": "code",
   "execution_count": 6,
   "metadata": {},
   "outputs": [],
   "source": [
    "if not os.path.exists('../sherlock/features/par_vec_trained_400.pkl.docvecs.vectors_docs.npy'):\n",
    "    raise SystemExit(\n",
    "        \"\"\"\n",
    "        Trained paragraph vectors do not exist,\n",
    "        please run the '01-train-paragraph-vector-features' notebook before continuing\n",
    "        \"\"\"\n",
    "    )"
   ]
  },
  {
   "cell_type": "markdown",
   "metadata": {},
   "source": [
    "## Read in raw data\n",
    "You can skip this step if you want to use a preprocessed data file."
   ]
  },
  {
   "cell_type": "markdown",
   "metadata": {},
   "source": [
    "## Report memory usage (can be slow)"
   ]
  },
  {
   "cell_type": "code",
   "execution_count": 7,
   "metadata": {},
   "outputs": [],
   "source": [
    "report_memory = False"
   ]
  },
  {
   "cell_type": "markdown",
   "metadata": {},
   "source": [
    "## Extract features\n",
    "It is important that the string-representations of lists are first converted into lists of strings.\n",
    "The labels should be a list of semantic types."
   ]
  },
  {
   "cell_type": "code",
   "execution_count": 8,
   "metadata": {},
   "outputs": [],
   "source": [
    "timestr = time.strftime(\"%Y%m%d-%H%M%S\")\n",
    "\n",
    "# Features will be output to the following files\n",
    "X_test_filename_csv = f'../data/data/processed/test_{timestr}.csv'\n",
    "X_train_filename_csv = f'../data/data/processed/train_{timestr}.csv'\n",
    "X_validation_filename_csv = f'../data/data/processed/validation_{timestr}.csv'"
   ]
  },
  {
   "cell_type": "markdown",
   "metadata": {},
   "source": [
    "### PREPARATION"
   ]
  },
  {
   "cell_type": "code",
   "execution_count": 9,
   "metadata": {},
   "outputs": [
    {
     "name": "stdout",
     "output_type": "stream",
     "text": [
      "Preparing feature extraction by downloading 4 files:\n",
      "        \n",
      " ../sherlock/features/glove.6B.50d.txt, \n",
      " ../sherlock/features/par_vec_trained_400.pkl.docvecs.vectors_docs.npy,\n",
      "        \n",
      " ../sherlock/features/par_vec_trained_400.pkl.trainables.syn1neg.npy, and \n",
      " ../sherlock/features/par_vec_trained_400.pkl.wv.vectors.npy.\n",
      "        \n",
      "All files for extracting word and paragraph embeddings are present.\n",
      "Initialising word embeddings\n",
      "Initialise Word Embeddings process took 0:00:04.852397 seconds.\n",
      "Initialise Doc2Vec Model, 400 dim, process took 0:00:10.539313 seconds. (filename = ../sherlock/features/par_vec_trained_400.pkl)\n",
      "Initialised NLTK, process took 0:00:00.259892 seconds.\n"
     ]
    },
    {
     "name": "stderr",
     "output_type": "stream",
     "text": [
      "[nltk_data] Downloading package punkt to /home/ritvikp/nltk_data...\n",
      "[nltk_data]   Package punkt is already up-to-date!\n",
      "[nltk_data] Downloading package stopwords to\n",
      "[nltk_data]     /home/ritvikp/nltk_data...\n",
      "[nltk_data]   Package stopwords is already up-to-date!\n"
     ]
    }
   ],
   "source": [
    "# ensure embedding initialisation is outside of timing for extract_features\n",
    "prepare_feature_extraction()\n",
    "initialise_word_embeddings()\n",
    "initialise_pretrained_model(400)\n",
    "initialise_nltk()"
   ]
  },
  {
   "cell_type": "code",
   "execution_count": 10,
   "metadata": {},
   "outputs": [],
   "source": [
    "%load_ext line_profiler"
   ]
  },
  {
   "cell_type": "code",
   "execution_count": 11,
   "metadata": {},
   "outputs": [],
   "source": [
    "# default process creation mode is changed in Python 3.8 to 'spawn' which causes \"name not defined\" type errors. Force fork 'mode' for now (this only needs to be called once).\n",
    "# https://bugs.python.org/issue39931\n",
    "#mp.set_start_method('fork', force=True)"
   ]
  },
  {
   "cell_type": "markdown",
   "metadata": {},
   "source": [
    "## EXTRACT FEATURES TO CSV"
   ]
  },
  {
   "cell_type": "markdown",
   "metadata": {},
   "source": [
    "### TEST SET"
   ]
  },
  {
   "cell_type": "code",
   "execution_count": 13,
   "metadata": {},
   "outputs": [
    {
     "name": "stdout",
     "output_type": "stream",
     "text": [
      "Starting ../data/data/processed/test_20221114-103814.csv at 2022-11-14 10:40:03.320033. Rows=12524, using 128 CPU cores\n",
      "Exporting 1588 column features\n",
      "Finished. Processed 12524 rows in 0:00:09.300093, key_count=118\n"
     ]
    }
   ],
   "source": [
    "values = load_parquet_values(\"../data/data/raw/test_values.parquet\")\n",
    "\n",
    "extract_features_to_csv(X_test_filename_csv, values)\n",
    "\n",
    "values = None"
   ]
  },
  {
   "cell_type": "code",
   "execution_count": 14,
   "metadata": {},
   "outputs": [
    {
     "name": "stdout",
     "output_type": "stream",
     "text": [
      "Finished at 2022-11-14 10:40:12.648233\n"
     ]
    }
   ],
   "source": [
    "print(f'Finished at {datetime.now()}')"
   ]
  },
  {
   "cell_type": "markdown",
   "metadata": {},
   "source": [
    "### TRAIN SET"
   ]
  },
  {
   "cell_type": "code",
   "execution_count": 15,
   "metadata": {},
   "outputs": [
    {
     "name": "stdout",
     "output_type": "stream",
     "text": [
      "Starting ../data/data/processed/train_20221114-103814.csv at 2022-11-14 10:40:13.341618. Rows=66784, using 128 CPU cores\n",
      "Exporting 1588 column features\n",
      "Finished. Processed 66784 rows in 0:00:30.262937, key_count=128\n"
     ]
    }
   ],
   "source": [
    "values = load_parquet_values(\"../data/data/raw/train_values.parquet\")\n",
    "\n",
    "extract_features_to_csv(X_train_filename_csv, values)\n",
    "\n",
    "values = None"
   ]
  },
  {
   "cell_type": "code",
   "execution_count": 16,
   "metadata": {},
   "outputs": [
    {
     "name": "stdout",
     "output_type": "stream",
     "text": [
      "Finished at 2022-11-14 10:40:44.046609\n"
     ]
    }
   ],
   "source": [
    "print(f'Finished at {datetime.now()}')"
   ]
  },
  {
   "cell_type": "markdown",
   "metadata": {},
   "source": [
    "### VALIDATION SET"
   ]
  },
  {
   "cell_type": "code",
   "execution_count": 17,
   "metadata": {},
   "outputs": [
    {
     "name": "stdout",
     "output_type": "stream",
     "text": [
      "Starting ../data/data/processed/validation_20221114-103814.csv at 2022-11-14 10:40:44.125011. Rows=4174, using 128 CPU cores\n",
      "Exporting 1588 column features\n",
      "Finished. Processed 4174 rows in 0:00:07.090978, key_count=41\n"
     ]
    }
   ],
   "source": [
    "values = load_parquet_values(\"../data/data/raw/val_values.parquet\")\n",
    "\n",
    "extract_features_to_csv(X_validation_filename_csv, values)\n",
    "\n",
    "values = None"
   ]
  },
  {
   "cell_type": "code",
   "execution_count": 18,
   "metadata": {},
   "outputs": [
    {
     "name": "stdout",
     "output_type": "stream",
     "text": [
      "Finished at 2022-11-14 10:40:51.492896\n"
     ]
    }
   ],
   "source": [
    "print(f'Finished at {datetime.now()}')"
   ]
  },
  {
   "cell_type": "markdown",
   "metadata": {},
   "source": [
    "### Read Locally Processed Features"
   ]
  },
  {
   "cell_type": "code",
   "execution_count": 19,
   "metadata": {},
   "outputs": [
    {
     "name": "stdout",
     "output_type": "stream",
     "text": [
      "Load Features (test) process took 0:00:01.462549 seconds.\n"
     ]
    }
   ],
   "source": [
    "start = datetime.now()\n",
    "\n",
    "X_test = pd.read_csv(X_test_filename_csv, dtype=np.float32)\n",
    "\n",
    "print(f'Load Features (test) process took {datetime.now() - start} seconds.')"
   ]
  },
  {
   "cell_type": "code",
   "execution_count": 20,
   "metadata": {},
   "outputs": [
    {
     "data": {
      "text/html": [
       "<div>\n",
       "<style scoped>\n",
       "    .dataframe tbody tr th:only-of-type {\n",
       "        vertical-align: middle;\n",
       "    }\n",
       "\n",
       "    .dataframe tbody tr th {\n",
       "        vertical-align: top;\n",
       "    }\n",
       "\n",
       "    .dataframe thead th {\n",
       "        text-align: right;\n",
       "    }\n",
       "</style>\n",
       "<table border=\"1\" class=\"dataframe\">\n",
       "  <thead>\n",
       "    <tr style=\"text-align: right;\">\n",
       "      <th></th>\n",
       "      <th>n_[0]-agg-any</th>\n",
       "      <th>n_[0]-agg-all</th>\n",
       "      <th>n_[0]-agg-mean</th>\n",
       "      <th>n_[0]-agg-var</th>\n",
       "      <th>n_[0]-agg-min</th>\n",
       "      <th>n_[0]-agg-max</th>\n",
       "      <th>n_[0]-agg-median</th>\n",
       "      <th>n_[0]-agg-sum</th>\n",
       "      <th>n_[0]-agg-kurtosis</th>\n",
       "      <th>n_[0]-agg-skewness</th>\n",
       "      <th>...</th>\n",
       "      <th>par_vec_390</th>\n",
       "      <th>par_vec_391</th>\n",
       "      <th>par_vec_392</th>\n",
       "      <th>par_vec_393</th>\n",
       "      <th>par_vec_394</th>\n",
       "      <th>par_vec_395</th>\n",
       "      <th>par_vec_396</th>\n",
       "      <th>par_vec_397</th>\n",
       "      <th>par_vec_398</th>\n",
       "      <th>par_vec_399</th>\n",
       "    </tr>\n",
       "  </thead>\n",
       "  <tbody>\n",
       "    <tr>\n",
       "      <th>0</th>\n",
       "      <td>1.0</td>\n",
       "      <td>1.0</td>\n",
       "      <td>1.714290</td>\n",
       "      <td>1.061220</td>\n",
       "      <td>1.0</td>\n",
       "      <td>4.0</td>\n",
       "      <td>1.0</td>\n",
       "      <td>12.0</td>\n",
       "      <td>0.596154</td>\n",
       "      <td>1.376080</td>\n",
       "      <td>...</td>\n",
       "      <td>-0.281252</td>\n",
       "      <td>-0.141856</td>\n",
       "      <td>-0.139772</td>\n",
       "      <td>0.043446</td>\n",
       "      <td>-0.153707</td>\n",
       "      <td>-0.136036</td>\n",
       "      <td>0.176066</td>\n",
       "      <td>-0.015164</td>\n",
       "      <td>0.004617</td>\n",
       "      <td>-0.421544</td>\n",
       "    </tr>\n",
       "    <tr>\n",
       "      <th>1</th>\n",
       "      <td>1.0</td>\n",
       "      <td>0.0</td>\n",
       "      <td>0.300000</td>\n",
       "      <td>0.210000</td>\n",
       "      <td>0.0</td>\n",
       "      <td>1.0</td>\n",
       "      <td>0.0</td>\n",
       "      <td>3.0</td>\n",
       "      <td>-1.238095</td>\n",
       "      <td>0.872872</td>\n",
       "      <td>...</td>\n",
       "      <td>-0.125890</td>\n",
       "      <td>0.019456</td>\n",
       "      <td>-0.283072</td>\n",
       "      <td>0.168325</td>\n",
       "      <td>-0.213451</td>\n",
       "      <td>-0.095402</td>\n",
       "      <td>0.058518</td>\n",
       "      <td>0.086278</td>\n",
       "      <td>-0.002591</td>\n",
       "      <td>-0.268067</td>\n",
       "    </tr>\n",
       "    <tr>\n",
       "      <th>2</th>\n",
       "      <td>0.0</td>\n",
       "      <td>0.0</td>\n",
       "      <td>0.000000</td>\n",
       "      <td>0.000000</td>\n",
       "      <td>0.0</td>\n",
       "      <td>0.0</td>\n",
       "      <td>0.0</td>\n",
       "      <td>0.0</td>\n",
       "      <td>-3.000000</td>\n",
       "      <td>0.000000</td>\n",
       "      <td>...</td>\n",
       "      <td>-0.028812</td>\n",
       "      <td>-0.015692</td>\n",
       "      <td>0.369469</td>\n",
       "      <td>0.073525</td>\n",
       "      <td>-0.225517</td>\n",
       "      <td>0.034162</td>\n",
       "      <td>-0.145376</td>\n",
       "      <td>0.115689</td>\n",
       "      <td>-0.088321</td>\n",
       "      <td>-0.324119</td>\n",
       "    </tr>\n",
       "    <tr>\n",
       "      <th>3</th>\n",
       "      <td>1.0</td>\n",
       "      <td>0.0</td>\n",
       "      <td>0.600000</td>\n",
       "      <td>0.640000</td>\n",
       "      <td>0.0</td>\n",
       "      <td>2.0</td>\n",
       "      <td>0.0</td>\n",
       "      <td>6.0</td>\n",
       "      <td>-0.921875</td>\n",
       "      <td>0.843750</td>\n",
       "      <td>...</td>\n",
       "      <td>-0.107193</td>\n",
       "      <td>-0.262430</td>\n",
       "      <td>0.209832</td>\n",
       "      <td>-0.176670</td>\n",
       "      <td>-0.086504</td>\n",
       "      <td>0.093452</td>\n",
       "      <td>-0.013796</td>\n",
       "      <td>-0.042605</td>\n",
       "      <td>-0.112081</td>\n",
       "      <td>-0.316170</td>\n",
       "    </tr>\n",
       "    <tr>\n",
       "      <th>4</th>\n",
       "      <td>1.0</td>\n",
       "      <td>0.0</td>\n",
       "      <td>0.047619</td>\n",
       "      <td>0.045351</td>\n",
       "      <td>0.0</td>\n",
       "      <td>1.0</td>\n",
       "      <td>0.0</td>\n",
       "      <td>1.0</td>\n",
       "      <td>16.049999</td>\n",
       "      <td>4.248529</td>\n",
       "      <td>...</td>\n",
       "      <td>-0.426857</td>\n",
       "      <td>-0.108697</td>\n",
       "      <td>0.102459</td>\n",
       "      <td>0.794043</td>\n",
       "      <td>-0.574360</td>\n",
       "      <td>-0.152513</td>\n",
       "      <td>-0.056189</td>\n",
       "      <td>-0.105120</td>\n",
       "      <td>-0.058013</td>\n",
       "      <td>-0.572473</td>\n",
       "    </tr>\n",
       "  </tbody>\n",
       "</table>\n",
       "<p>5 rows × 1588 columns</p>\n",
       "</div>"
      ],
      "text/plain": [
       "   n_[0]-agg-any  n_[0]-agg-all  n_[0]-agg-mean  n_[0]-agg-var  n_[0]-agg-min  \\\n",
       "0            1.0            1.0        1.714290       1.061220            1.0   \n",
       "1            1.0            0.0        0.300000       0.210000            0.0   \n",
       "2            0.0            0.0        0.000000       0.000000            0.0   \n",
       "3            1.0            0.0        0.600000       0.640000            0.0   \n",
       "4            1.0            0.0        0.047619       0.045351            0.0   \n",
       "\n",
       "   n_[0]-agg-max  n_[0]-agg-median  n_[0]-agg-sum  n_[0]-agg-kurtosis  \\\n",
       "0            4.0               1.0           12.0            0.596154   \n",
       "1            1.0               0.0            3.0           -1.238095   \n",
       "2            0.0               0.0            0.0           -3.000000   \n",
       "3            2.0               0.0            6.0           -0.921875   \n",
       "4            1.0               0.0            1.0           16.049999   \n",
       "\n",
       "   n_[0]-agg-skewness  ...  par_vec_390  par_vec_391  par_vec_392  \\\n",
       "0            1.376080  ...    -0.281252    -0.141856    -0.139772   \n",
       "1            0.872872  ...    -0.125890     0.019456    -0.283072   \n",
       "2            0.000000  ...    -0.028812    -0.015692     0.369469   \n",
       "3            0.843750  ...    -0.107193    -0.262430     0.209832   \n",
       "4            4.248529  ...    -0.426857    -0.108697     0.102459   \n",
       "\n",
       "   par_vec_393  par_vec_394  par_vec_395  par_vec_396  par_vec_397  \\\n",
       "0     0.043446    -0.153707    -0.136036     0.176066    -0.015164   \n",
       "1     0.168325    -0.213451    -0.095402     0.058518     0.086278   \n",
       "2     0.073525    -0.225517     0.034162    -0.145376     0.115689   \n",
       "3    -0.176670    -0.086504     0.093452    -0.013796    -0.042605   \n",
       "4     0.794043    -0.574360    -0.152513    -0.056189    -0.105120   \n",
       "\n",
       "   par_vec_398  par_vec_399  \n",
       "0     0.004617    -0.421544  \n",
       "1    -0.002591    -0.268067  \n",
       "2    -0.088321    -0.324119  \n",
       "3    -0.112081    -0.316170  \n",
       "4    -0.058013    -0.572473  \n",
       "\n",
       "[5 rows x 1588 columns]"
      ]
     },
     "execution_count": 20,
     "metadata": {},
     "output_type": "execute_result"
    }
   ],
   "source": [
    "X_test.head()"
   ]
  },
  {
   "cell_type": "code",
   "execution_count": 21,
   "metadata": {},
   "outputs": [
    {
     "name": "stdout",
     "output_type": "stream",
     "text": [
      "Load Features (train) process took 0:00:07.938462 seconds.\n"
     ]
    }
   ],
   "source": [
    "start = datetime.now()\n",
    "\n",
    "X_train = pd.read_csv(X_train_filename_csv, dtype=np.float32)\n",
    "\n",
    "print(f'Load Features (train) process took {datetime.now() - start} seconds.')"
   ]
  },
  {
   "cell_type": "code",
   "execution_count": 22,
   "metadata": {},
   "outputs": [
    {
     "data": {
      "text/html": [
       "<div>\n",
       "<style scoped>\n",
       "    .dataframe tbody tr th:only-of-type {\n",
       "        vertical-align: middle;\n",
       "    }\n",
       "\n",
       "    .dataframe tbody tr th {\n",
       "        vertical-align: top;\n",
       "    }\n",
       "\n",
       "    .dataframe thead th {\n",
       "        text-align: right;\n",
       "    }\n",
       "</style>\n",
       "<table border=\"1\" class=\"dataframe\">\n",
       "  <thead>\n",
       "    <tr style=\"text-align: right;\">\n",
       "      <th></th>\n",
       "      <th>n_[0]-agg-any</th>\n",
       "      <th>n_[0]-agg-all</th>\n",
       "      <th>n_[0]-agg-mean</th>\n",
       "      <th>n_[0]-agg-var</th>\n",
       "      <th>n_[0]-agg-min</th>\n",
       "      <th>n_[0]-agg-max</th>\n",
       "      <th>n_[0]-agg-median</th>\n",
       "      <th>n_[0]-agg-sum</th>\n",
       "      <th>n_[0]-agg-kurtosis</th>\n",
       "      <th>n_[0]-agg-skewness</th>\n",
       "      <th>...</th>\n",
       "      <th>par_vec_390</th>\n",
       "      <th>par_vec_391</th>\n",
       "      <th>par_vec_392</th>\n",
       "      <th>par_vec_393</th>\n",
       "      <th>par_vec_394</th>\n",
       "      <th>par_vec_395</th>\n",
       "      <th>par_vec_396</th>\n",
       "      <th>par_vec_397</th>\n",
       "      <th>par_vec_398</th>\n",
       "      <th>par_vec_399</th>\n",
       "    </tr>\n",
       "  </thead>\n",
       "  <tbody>\n",
       "    <tr>\n",
       "      <th>0</th>\n",
       "      <td>1.0</td>\n",
       "      <td>0.0</td>\n",
       "      <td>0.50</td>\n",
       "      <td>0.2500</td>\n",
       "      <td>0.0</td>\n",
       "      <td>1.0</td>\n",
       "      <td>0.5</td>\n",
       "      <td>1.0</td>\n",
       "      <td>-2.000000</td>\n",
       "      <td>0.000000</td>\n",
       "      <td>...</td>\n",
       "      <td>-0.009931</td>\n",
       "      <td>-0.010923</td>\n",
       "      <td>-0.005544</td>\n",
       "      <td>0.059266</td>\n",
       "      <td>-0.066409</td>\n",
       "      <td>-0.005828</td>\n",
       "      <td>0.049840</td>\n",
       "      <td>-0.049171</td>\n",
       "      <td>-0.011011</td>\n",
       "      <td>-0.053690</td>\n",
       "    </tr>\n",
       "    <tr>\n",
       "      <th>1</th>\n",
       "      <td>1.0</td>\n",
       "      <td>0.0</td>\n",
       "      <td>0.20</td>\n",
       "      <td>0.1600</td>\n",
       "      <td>0.0</td>\n",
       "      <td>1.0</td>\n",
       "      <td>0.0</td>\n",
       "      <td>5.0</td>\n",
       "      <td>0.250000</td>\n",
       "      <td>1.500000</td>\n",
       "      <td>...</td>\n",
       "      <td>-0.425365</td>\n",
       "      <td>-0.142438</td>\n",
       "      <td>0.244175</td>\n",
       "      <td>0.734183</td>\n",
       "      <td>-0.445191</td>\n",
       "      <td>-0.391580</td>\n",
       "      <td>-0.091895</td>\n",
       "      <td>-0.283094</td>\n",
       "      <td>-0.090770</td>\n",
       "      <td>-0.527099</td>\n",
       "    </tr>\n",
       "    <tr>\n",
       "      <th>2</th>\n",
       "      <td>0.0</td>\n",
       "      <td>0.0</td>\n",
       "      <td>0.00</td>\n",
       "      <td>0.0000</td>\n",
       "      <td>0.0</td>\n",
       "      <td>0.0</td>\n",
       "      <td>0.0</td>\n",
       "      <td>0.0</td>\n",
       "      <td>-3.000000</td>\n",
       "      <td>0.000000</td>\n",
       "      <td>...</td>\n",
       "      <td>-0.080679</td>\n",
       "      <td>-0.007773</td>\n",
       "      <td>-0.014259</td>\n",
       "      <td>0.005337</td>\n",
       "      <td>-0.077856</td>\n",
       "      <td>-0.043839</td>\n",
       "      <td>-0.015134</td>\n",
       "      <td>0.012068</td>\n",
       "      <td>-0.068826</td>\n",
       "      <td>-0.131233</td>\n",
       "    </tr>\n",
       "    <tr>\n",
       "      <th>3</th>\n",
       "      <td>1.0</td>\n",
       "      <td>0.0</td>\n",
       "      <td>0.04</td>\n",
       "      <td>0.0384</td>\n",
       "      <td>0.0</td>\n",
       "      <td>1.0</td>\n",
       "      <td>0.0</td>\n",
       "      <td>1.0</td>\n",
       "      <td>20.041666</td>\n",
       "      <td>4.694855</td>\n",
       "      <td>...</td>\n",
       "      <td>-0.412441</td>\n",
       "      <td>-0.004193</td>\n",
       "      <td>-0.019288</td>\n",
       "      <td>0.759977</td>\n",
       "      <td>-0.645360</td>\n",
       "      <td>-0.268643</td>\n",
       "      <td>-0.377824</td>\n",
       "      <td>-0.247380</td>\n",
       "      <td>-0.096456</td>\n",
       "      <td>-0.905216</td>\n",
       "    </tr>\n",
       "    <tr>\n",
       "      <th>4</th>\n",
       "      <td>0.0</td>\n",
       "      <td>0.0</td>\n",
       "      <td>0.00</td>\n",
       "      <td>0.0000</td>\n",
       "      <td>0.0</td>\n",
       "      <td>0.0</td>\n",
       "      <td>0.0</td>\n",
       "      <td>0.0</td>\n",
       "      <td>-3.000000</td>\n",
       "      <td>0.000000</td>\n",
       "      <td>...</td>\n",
       "      <td>0.007783</td>\n",
       "      <td>-0.022211</td>\n",
       "      <td>-0.069327</td>\n",
       "      <td>0.086026</td>\n",
       "      <td>-0.132584</td>\n",
       "      <td>-0.098505</td>\n",
       "      <td>0.056782</td>\n",
       "      <td>-0.123175</td>\n",
       "      <td>-0.039349</td>\n",
       "      <td>-0.078163</td>\n",
       "    </tr>\n",
       "  </tbody>\n",
       "</table>\n",
       "<p>5 rows × 1588 columns</p>\n",
       "</div>"
      ],
      "text/plain": [
       "   n_[0]-agg-any  n_[0]-agg-all  n_[0]-agg-mean  n_[0]-agg-var  n_[0]-agg-min  \\\n",
       "0            1.0            0.0            0.50         0.2500            0.0   \n",
       "1            1.0            0.0            0.20         0.1600            0.0   \n",
       "2            0.0            0.0            0.00         0.0000            0.0   \n",
       "3            1.0            0.0            0.04         0.0384            0.0   \n",
       "4            0.0            0.0            0.00         0.0000            0.0   \n",
       "\n",
       "   n_[0]-agg-max  n_[0]-agg-median  n_[0]-agg-sum  n_[0]-agg-kurtosis  \\\n",
       "0            1.0               0.5            1.0           -2.000000   \n",
       "1            1.0               0.0            5.0            0.250000   \n",
       "2            0.0               0.0            0.0           -3.000000   \n",
       "3            1.0               0.0            1.0           20.041666   \n",
       "4            0.0               0.0            0.0           -3.000000   \n",
       "\n",
       "   n_[0]-agg-skewness  ...  par_vec_390  par_vec_391  par_vec_392  \\\n",
       "0            0.000000  ...    -0.009931    -0.010923    -0.005544   \n",
       "1            1.500000  ...    -0.425365    -0.142438     0.244175   \n",
       "2            0.000000  ...    -0.080679    -0.007773    -0.014259   \n",
       "3            4.694855  ...    -0.412441    -0.004193    -0.019288   \n",
       "4            0.000000  ...     0.007783    -0.022211    -0.069327   \n",
       "\n",
       "   par_vec_393  par_vec_394  par_vec_395  par_vec_396  par_vec_397  \\\n",
       "0     0.059266    -0.066409    -0.005828     0.049840    -0.049171   \n",
       "1     0.734183    -0.445191    -0.391580    -0.091895    -0.283094   \n",
       "2     0.005337    -0.077856    -0.043839    -0.015134     0.012068   \n",
       "3     0.759977    -0.645360    -0.268643    -0.377824    -0.247380   \n",
       "4     0.086026    -0.132584    -0.098505     0.056782    -0.123175   \n",
       "\n",
       "   par_vec_398  par_vec_399  \n",
       "0    -0.011011    -0.053690  \n",
       "1    -0.090770    -0.527099  \n",
       "2    -0.068826    -0.131233  \n",
       "3    -0.096456    -0.905216  \n",
       "4    -0.039349    -0.078163  \n",
       "\n",
       "[5 rows x 1588 columns]"
      ]
     },
     "execution_count": 22,
     "metadata": {},
     "output_type": "execute_result"
    }
   ],
   "source": [
    "X_train.head()"
   ]
  },
  {
   "cell_type": "code",
   "execution_count": 23,
   "metadata": {},
   "outputs": [
    {
     "name": "stdout",
     "output_type": "stream",
     "text": [
      "Load Features (validation) process took 0:00:00.539329 seconds.\n"
     ]
    }
   ],
   "source": [
    "start = datetime.now()\n",
    "\n",
    "X_validation = pd.read_csv(X_validation_filename_csv, dtype=np.float32)\n",
    "\n",
    "print(f'Load Features (validation) process took {datetime.now() - start} seconds.')"
   ]
  },
  {
   "cell_type": "code",
   "execution_count": 24,
   "metadata": {},
   "outputs": [
    {
     "data": {
      "text/html": [
       "<div>\n",
       "<style scoped>\n",
       "    .dataframe tbody tr th:only-of-type {\n",
       "        vertical-align: middle;\n",
       "    }\n",
       "\n",
       "    .dataframe tbody tr th {\n",
       "        vertical-align: top;\n",
       "    }\n",
       "\n",
       "    .dataframe thead th {\n",
       "        text-align: right;\n",
       "    }\n",
       "</style>\n",
       "<table border=\"1\" class=\"dataframe\">\n",
       "  <thead>\n",
       "    <tr style=\"text-align: right;\">\n",
       "      <th></th>\n",
       "      <th>n_[0]-agg-any</th>\n",
       "      <th>n_[0]-agg-all</th>\n",
       "      <th>n_[0]-agg-mean</th>\n",
       "      <th>n_[0]-agg-var</th>\n",
       "      <th>n_[0]-agg-min</th>\n",
       "      <th>n_[0]-agg-max</th>\n",
       "      <th>n_[0]-agg-median</th>\n",
       "      <th>n_[0]-agg-sum</th>\n",
       "      <th>n_[0]-agg-kurtosis</th>\n",
       "      <th>n_[0]-agg-skewness</th>\n",
       "      <th>...</th>\n",
       "      <th>par_vec_390</th>\n",
       "      <th>par_vec_391</th>\n",
       "      <th>par_vec_392</th>\n",
       "      <th>par_vec_393</th>\n",
       "      <th>par_vec_394</th>\n",
       "      <th>par_vec_395</th>\n",
       "      <th>par_vec_396</th>\n",
       "      <th>par_vec_397</th>\n",
       "      <th>par_vec_398</th>\n",
       "      <th>par_vec_399</th>\n",
       "    </tr>\n",
       "  </thead>\n",
       "  <tbody>\n",
       "    <tr>\n",
       "      <th>0</th>\n",
       "      <td>1.0</td>\n",
       "      <td>0.0</td>\n",
       "      <td>0.300000</td>\n",
       "      <td>0.210000</td>\n",
       "      <td>0.0</td>\n",
       "      <td>1.0</td>\n",
       "      <td>0.0</td>\n",
       "      <td>6.0</td>\n",
       "      <td>-1.238100</td>\n",
       "      <td>0.872872</td>\n",
       "      <td>...</td>\n",
       "      <td>0.199079</td>\n",
       "      <td>-0.110822</td>\n",
       "      <td>0.261912</td>\n",
       "      <td>-0.042236</td>\n",
       "      <td>-0.169648</td>\n",
       "      <td>0.174212</td>\n",
       "      <td>0.266578</td>\n",
       "      <td>0.366824</td>\n",
       "      <td>0.332375</td>\n",
       "      <td>-0.506593</td>\n",
       "    </tr>\n",
       "    <tr>\n",
       "      <th>1</th>\n",
       "      <td>1.0</td>\n",
       "      <td>0.0</td>\n",
       "      <td>0.500000</td>\n",
       "      <td>0.250000</td>\n",
       "      <td>0.0</td>\n",
       "      <td>1.0</td>\n",
       "      <td>0.5</td>\n",
       "      <td>1.0</td>\n",
       "      <td>-2.000000</td>\n",
       "      <td>0.000000</td>\n",
       "      <td>...</td>\n",
       "      <td>-0.012221</td>\n",
       "      <td>-0.010230</td>\n",
       "      <td>-0.039717</td>\n",
       "      <td>0.038382</td>\n",
       "      <td>-0.025192</td>\n",
       "      <td>-0.013500</td>\n",
       "      <td>0.022771</td>\n",
       "      <td>-0.071983</td>\n",
       "      <td>0.004519</td>\n",
       "      <td>-0.007065</td>\n",
       "    </tr>\n",
       "    <tr>\n",
       "      <th>2</th>\n",
       "      <td>1.0</td>\n",
       "      <td>0.0</td>\n",
       "      <td>0.084337</td>\n",
       "      <td>0.077225</td>\n",
       "      <td>0.0</td>\n",
       "      <td>1.0</td>\n",
       "      <td>0.0</td>\n",
       "      <td>7.0</td>\n",
       "      <td>6.949248</td>\n",
       "      <td>2.991529</td>\n",
       "      <td>...</td>\n",
       "      <td>-0.980171</td>\n",
       "      <td>0.531731</td>\n",
       "      <td>0.146292</td>\n",
       "      <td>-0.092693</td>\n",
       "      <td>-0.335570</td>\n",
       "      <td>0.155663</td>\n",
       "      <td>-0.069210</td>\n",
       "      <td>0.201880</td>\n",
       "      <td>-0.010261</td>\n",
       "      <td>-0.517029</td>\n",
       "    </tr>\n",
       "    <tr>\n",
       "      <th>3</th>\n",
       "      <td>1.0</td>\n",
       "      <td>1.0</td>\n",
       "      <td>1.333333</td>\n",
       "      <td>0.222222</td>\n",
       "      <td>1.0</td>\n",
       "      <td>2.0</td>\n",
       "      <td>1.0</td>\n",
       "      <td>12.0</td>\n",
       "      <td>-1.500000</td>\n",
       "      <td>0.707107</td>\n",
       "      <td>...</td>\n",
       "      <td>-0.013562</td>\n",
       "      <td>-0.354612</td>\n",
       "      <td>0.229381</td>\n",
       "      <td>0.030445</td>\n",
       "      <td>-0.386223</td>\n",
       "      <td>-0.047079</td>\n",
       "      <td>-0.241422</td>\n",
       "      <td>-0.072854</td>\n",
       "      <td>0.192145</td>\n",
       "      <td>-0.363749</td>\n",
       "    </tr>\n",
       "    <tr>\n",
       "      <th>4</th>\n",
       "      <td>1.0</td>\n",
       "      <td>0.0</td>\n",
       "      <td>0.200000</td>\n",
       "      <td>0.160000</td>\n",
       "      <td>0.0</td>\n",
       "      <td>1.0</td>\n",
       "      <td>0.0</td>\n",
       "      <td>1.0</td>\n",
       "      <td>0.250000</td>\n",
       "      <td>1.500000</td>\n",
       "      <td>...</td>\n",
       "      <td>-0.072924</td>\n",
       "      <td>-0.142116</td>\n",
       "      <td>0.020479</td>\n",
       "      <td>0.037456</td>\n",
       "      <td>-0.148170</td>\n",
       "      <td>-0.192141</td>\n",
       "      <td>-0.190252</td>\n",
       "      <td>0.048854</td>\n",
       "      <td>0.029435</td>\n",
       "      <td>-0.196980</td>\n",
       "    </tr>\n",
       "  </tbody>\n",
       "</table>\n",
       "<p>5 rows × 1588 columns</p>\n",
       "</div>"
      ],
      "text/plain": [
       "   n_[0]-agg-any  n_[0]-agg-all  n_[0]-agg-mean  n_[0]-agg-var  n_[0]-agg-min  \\\n",
       "0            1.0            0.0        0.300000       0.210000            0.0   \n",
       "1            1.0            0.0        0.500000       0.250000            0.0   \n",
       "2            1.0            0.0        0.084337       0.077225            0.0   \n",
       "3            1.0            1.0        1.333333       0.222222            1.0   \n",
       "4            1.0            0.0        0.200000       0.160000            0.0   \n",
       "\n",
       "   n_[0]-agg-max  n_[0]-agg-median  n_[0]-agg-sum  n_[0]-agg-kurtosis  \\\n",
       "0            1.0               0.0            6.0           -1.238100   \n",
       "1            1.0               0.5            1.0           -2.000000   \n",
       "2            1.0               0.0            7.0            6.949248   \n",
       "3            2.0               1.0           12.0           -1.500000   \n",
       "4            1.0               0.0            1.0            0.250000   \n",
       "\n",
       "   n_[0]-agg-skewness  ...  par_vec_390  par_vec_391  par_vec_392  \\\n",
       "0            0.872872  ...     0.199079    -0.110822     0.261912   \n",
       "1            0.000000  ...    -0.012221    -0.010230    -0.039717   \n",
       "2            2.991529  ...    -0.980171     0.531731     0.146292   \n",
       "3            0.707107  ...    -0.013562    -0.354612     0.229381   \n",
       "4            1.500000  ...    -0.072924    -0.142116     0.020479   \n",
       "\n",
       "   par_vec_393  par_vec_394  par_vec_395  par_vec_396  par_vec_397  \\\n",
       "0    -0.042236    -0.169648     0.174212     0.266578     0.366824   \n",
       "1     0.038382    -0.025192    -0.013500     0.022771    -0.071983   \n",
       "2    -0.092693    -0.335570     0.155663    -0.069210     0.201880   \n",
       "3     0.030445    -0.386223    -0.047079    -0.241422    -0.072854   \n",
       "4     0.037456    -0.148170    -0.192141    -0.190252     0.048854   \n",
       "\n",
       "   par_vec_398  par_vec_399  \n",
       "0     0.332375    -0.506593  \n",
       "1     0.004519    -0.007065  \n",
       "2    -0.010261    -0.517029  \n",
       "3     0.192145    -0.363749  \n",
       "4     0.029435    -0.196980  \n",
       "\n",
       "[5 rows x 1588 columns]"
      ]
     },
     "execution_count": 24,
     "metadata": {},
     "output_type": "execute_result"
    }
   ],
   "source": [
    "X_validation.head()"
   ]
  },
  {
   "cell_type": "markdown",
   "metadata": {},
   "source": [
    "## Impute NaN values with feature means"
   ]
  },
  {
   "cell_type": "code",
   "execution_count": 25,
   "metadata": {},
   "outputs": [
    {
     "name": "stdout",
     "output_type": "stream",
     "text": [
      "Transpose process took 0:00:00.606062 seconds.\n"
     ]
    }
   ],
   "source": [
    "start = datetime.now()\n",
    "\n",
    "train_columns_means = pd.DataFrame(X_train.mean()).transpose()\n",
    "\n",
    "print(f'Transpose process took {datetime.now() - start} seconds.')"
   ]
  },
  {
   "cell_type": "code",
   "execution_count": 26,
   "metadata": {},
   "outputs": [
    {
     "name": "stdout",
     "output_type": "stream",
     "text": [
      "FillNA process took 0:00:00.639300 seconds.\n"
     ]
    }
   ],
   "source": [
    "start = datetime.now()\n",
    "\n",
    "X_train.fillna(train_columns_means.iloc[0], inplace=True)\n",
    "X_validation.fillna(train_columns_means.iloc[0], inplace=True)\n",
    "X_test.fillna(train_columns_means.iloc[0], inplace=True)\n",
    "\n",
    "train_columns_means=None\n",
    "\n",
    "print(f'FillNA process took {datetime.now() - start} seconds.')"
   ]
  },
  {
   "cell_type": "code",
   "execution_count": 27,
   "metadata": {},
   "outputs": [
    {
     "name": "stdout",
     "output_type": "stream",
     "text": [
      "Save parquet process took 0:00:04.230638 seconds.\n"
     ]
    }
   ],
   "source": [
    "start = datetime.now()\n",
    "\n",
    "X_train.to_parquet('../data/data/processed/train.parquet', engine='pyarrow', compression='snappy')\n",
    "X_validation.to_parquet('../data/data/processed/validation.parquet', engine='pyarrow', compression='snappy')\n",
    "X_test.to_parquet('../data/data/processed/test.parquet', engine='pyarrow', compression='snappy')\n",
    "\n",
    "print(f'Save parquet process took {datetime.now() - start} seconds.')"
   ]
  },
  {
   "cell_type": "code",
   "execution_count": 28,
   "metadata": {},
   "outputs": [
    {
     "name": "stdout",
     "output_type": "stream",
     "text": [
      "Completed at 2022-11-14 10:41:07.433073.\n"
     ]
    }
   ],
   "source": [
    "print(f'Completed at {datetime.now()}.')"
   ]
  },
  {
   "cell_type": "code",
   "execution_count": null,
   "metadata": {},
   "outputs": [],
   "source": []
  }
 ],
 "metadata": {
  "kernelspec": {
   "display_name": "Python 3 (ipykernel)",
   "language": "python",
   "name": "python3"
  },
  "language_info": {
   "codemirror_mode": {
    "name": "ipython",
    "version": 3
   },
   "file_extension": ".py",
   "mimetype": "text/x-python",
   "name": "python",
   "nbconvert_exporter": "python",
   "pygments_lexer": "ipython3",
   "version": "3.8.13"
  },
  "vscode": {
   "interpreter": {
    "hash": "93982b2d13d9986a928bb816b0e17d444852884eb3b4b4fc01736d695f21d025"
   }
  }
 },
 "nbformat": 4,
 "nbformat_minor": 2
}
